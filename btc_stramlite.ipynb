{
 "cells": [
  {
   "cell_type": "code",
   "execution_count": 2,
   "id": "47146e41-5caf-496b-90be-18a47ad303d3",
   "metadata": {},
   "outputs": [],
   "source": [
    "import streamlit as st\n",
    "import yfinance as yf\n",
    "import plotly.graph_objects as go\n",
    "import plotly.express as px\n",
    "import plotly.io as pio\n",
    "\n",
    "from datetime import datetime\n",
    "import pandas as pd\n",
    "import urllib.parse"
   ]
  },
  {
   "cell_type": "code",
   "execution_count": 4,
   "id": "7da08bb3-de21-41f3-af17-695767eba14b",
   "metadata": {
    "lines_to_next_cell": 2
   },
   "outputs": [],
   "source": [
    "# Ustawienia Streamlit\n",
    "st.title(\"BTC/USD.GICL_5.\")\n",
    "st.write(f\"TIME_: {datetime.now().strftime('%Y-%m-%d %H:%M:%S')}\")"
   ]
  },
  {
   "cell_type": "code",
   "execution_count": null,
   "id": "1c603bc2-7eca-4aea-82a8-ba842867bf08",
   "metadata": {
    "lines_to_next_cell": 2
   },
   "outputs": [],
   "source": [
    "# Przykładowy wykres Plotly\n",
    "df = px.data.iris()\n",
    "fig = px.scatter(df, x='sepal_width', y='sepal_length', color='species')\n",
    "\n",
    "# Wyświetl wykres w aplikacji Streamlit\n",
    "st.plotly_chart(fig)\n",
    "\n",
    "\n",
    "# Tworzenie linku do tweeta z adresem Twojej aplikacji Streamlit\n",
    "tweet_text = \"Zobacz mój najnowszy wykres w aplikacji Streamlit! #dataanalysis\"\n",
    "tweet_text_encoded = urllib.parse.quote(tweet_text)  # Zakodowanie treści tweeta\n",
    "\n",
    "# Twój URL aplikacji Streamlit lub inny link\n",
    "app_url = \"https://appyfinance-68lz4ypyobzbpstvxtze2h.streamlit.app\"\n",
    "#streamlit #python \n",
    "app_url_encoded = urllib.parse.quote(app_url)  # Zakodowanie URL-a\n",
    "\n",
    "# Tworzenie pełnego URL-a do tweetowania\n",
    "tweet_url = f\"https://twitter.com/intent/tweet?text={tweet_text_encoded}&url={app_url_encoded}\"\n",
    "\n",
    "# Przycisk do Tweetowania z unikalnym kluczem\n",
    "if st.button('Tweet', key=\"tweet_button\"):\n",
    "    st.write(f\"[Kliknij tutaj, aby opublikować tweeta!]( {tweet_url})\")\n"
   ]
  },
  {
   "cell_type": "code",
   "execution_count": null,
   "id": "31a1d073-3ffb-47c7-8623-c67394906f5f",
   "metadata": {},
   "outputs": [],
   "source": [
    "\n",
    "\n"
   ]
  },
  {
   "cell_type": "code",
   "execution_count": null,
   "id": "5405467c-0c7d-439e-abcb-86199e73e5d7",
   "metadata": {},
   "outputs": [],
   "source": []
  },
  {
   "cell_type": "code",
   "execution_count": null,
   "id": "af4a5f9f-83af-41c0-894b-74fccb5612a6",
   "metadata": {},
   "outputs": [],
   "source": []
  },
  {
   "cell_type": "code",
   "execution_count": null,
   "id": "75e7ca16-bc95-4c1e-afd8-23d38acb40a3",
   "metadata": {},
   "outputs": [],
   "source": []
  },
  {
   "cell_type": "code",
   "execution_count": null,
   "id": "3424b0b4-6d17-4f1c-b134-0607c7c55baf",
   "metadata": {},
   "outputs": [],
   "source": []
  },
  {
   "cell_type": "code",
   "execution_count": null,
   "id": "fd12fc6f-7b7d-40fa-ae43-fe71f093ff38",
   "metadata": {},
   "outputs": [],
   "source": []
  }
 ],
 "metadata": {
  "jupytext": {
   "formats": "ipynb,py:light"
  },
  "kernelspec": {
   "display_name": "Python 3 (ipykernel)",
   "language": "python",
   "name": "python3"
  },
  "language_info": {
   "codemirror_mode": {
    "name": "ipython",
    "version": 3
   },
   "file_extension": ".py",
   "mimetype": "text/x-python",
   "name": "python",
   "nbconvert_exporter": "python",
   "pygments_lexer": "ipython3",
   "version": "3.12.1"
  }
 },
 "nbformat": 4,
 "nbformat_minor": 5
}
