{
 "cells": [
  {
   "cell_type": "code",
   "execution_count": 1,
   "id": "c2437011-8ddd-4906-99bb-bf434ff9a8a6",
   "metadata": {},
   "outputs": [],
   "source": [
    "import vectorbt as vbt\n",
    "import pandas as pd\n",
    "from datetime import datetime\n",
    "import numpy as np\n",
    "from numba import njit\n",
    "from tqdm import tqdm\n",
    "\n",
    "import plotly.graph_objects as go\n",
    "import plotly.express as px\n",
    "import typing as tp"
   ]
  },
  {
   "cell_type": "code",
   "execution_count": null,
   "id": "1c5c9c4a-9149-426d-9ea0-9f3492e1e12b",
   "metadata": {},
   "outputs": [],
   "source": []
  },
  {
   "cell_type": "markdown",
   "id": "d52c9597-7afe-4f7c-b0b5-7b7b95c8ae60",
   "metadata": {},
   "source": [
    "# CONST"
   ]
  },
  {
   "cell_type": "code",
   "execution_count": 2,
   "id": "b708220c-9db9-4ab1-b42b-f08f9206d1b9",
   "metadata": {},
   "outputs": [],
   "source": [
    "BTC = '../../btc_data/BTC.pck'\n",
    "# streamlit_yfinance/btc_data/BTC.pck\n",
    "# streamlit_yfinance/work_folder_temp/BTC_S2F_TESTS/vectorbt.ipynb"
   ]
  },
  {
   "cell_type": "markdown",
   "id": "1e7004f0-b440-4c90-a052-74f43147df5b",
   "metadata": {},
   "source": [
    "# DEfs"
   ]
  },
  {
   "cell_type": "code",
   "execution_count": 3,
   "id": "5ad67429-d85b-42a8-b170-59658ee3b748",
   "metadata": {},
   "outputs": [],
   "source": [
    "def get_BTC():\n",
    "    df = pd.read_pickle(BTC)\n",
    "    return df\n",
    "    "
   ]
  },
  {
   "cell_type": "code",
   "execution_count": 4,
   "id": "a086b5ad-c480-4ef4-a962-0130e066e748",
   "metadata": {},
   "outputs": [],
   "source": [
    "def add_volatility(df, vol_windows=[3, 7, 10, 20, 30]):\n",
    "\n",
    "    \n",
    "    for w in vol_windows:\n",
    "\n",
    "        mean_col = f'mean_{w}'\n",
    "        std_col = f'std_{w}'\n",
    "        CV_col = f'CV_{w}'\n",
    "        \n",
    "        df[mean_col] = df['BTC'].rolling(window=30, center=True).mean()\n",
    "        df[std_col] = df['BTC'].rolling(window=30, center=True).std()\n",
    "        \n",
    "        # Współczynnik zmienności\n",
    "        df[CV_col] = (df[std_col] / df[mean_col]) * 100  # Współczynnik zmienności w %\n",
    "\n",
    "        df.drop(columns=[mean_col, std_col], inplace=True)\n",
    "\n",
    "       \n",
    "    df.dropna(inplace=True)\n",
    "    return df\n",
    "\n",
    "def add_pct_change(df, days_ptc_change = [1, 3, 7, 15]):\n",
    "    # add pct_change Future and Past\n",
    "    \n",
    "    # for d in days_ptc_change:\n",
    "    #     df[f'p{str(d)}'] = df.BTC.pct_change(d)   #pct change past\n",
    "    \n",
    "    for d in days_ptc_change:\n",
    "        df[f'f{str(d)}'] = df.BTC.pct_change(-d)  #pct change future\n",
    "    \n",
    "    all_data_cols = df.columns[3:]\n",
    "    \n",
    "    df.dropna(inplace=True)\n",
    "    return df"
   ]
  },
  {
   "cell_type": "markdown",
   "id": "94ace4d7-474f-4c20-ac76-b1d3845dbeb3",
   "metadata": {},
   "source": [
    "# MAIN"
   ]
  },
  {
   "cell_type": "code",
   "execution_count": 5,
   "id": "9992d148-072a-4cdd-82a2-cd245dce2967",
   "metadata": {},
   "outputs": [
    {
     "data": {
      "text/html": [
       "<div>\n",
       "<style scoped>\n",
       "    .dataframe tbody tr th:only-of-type {\n",
       "        vertical-align: middle;\n",
       "    }\n",
       "\n",
       "    .dataframe tbody tr th {\n",
       "        vertical-align: top;\n",
       "    }\n",
       "\n",
       "    .dataframe thead th {\n",
       "        text-align: right;\n",
       "    }\n",
       "</style>\n",
       "<table border=\"1\" class=\"dataframe\">\n",
       "  <thead>\n",
       "    <tr style=\"text-align: right;\">\n",
       "      <th></th>\n",
       "      <th>dfh</th>\n",
       "      <th>e</th>\n",
       "      <th>BTC</th>\n",
       "    </tr>\n",
       "  </thead>\n",
       "  <tbody>\n",
       "    <tr>\n",
       "      <th>2010-07-18</th>\n",
       "      <td>561.0</td>\n",
       "      <td>1</td>\n",
       "      <td>0.04951</td>\n",
       "    </tr>\n",
       "    <tr>\n",
       "      <th>2010-07-19</th>\n",
       "      <td>562.0</td>\n",
       "      <td>1</td>\n",
       "      <td>0.08584</td>\n",
       "    </tr>\n",
       "    <tr>\n",
       "      <th>2010-07-20</th>\n",
       "      <td>563.0</td>\n",
       "      <td>1</td>\n",
       "      <td>0.08080</td>\n",
       "    </tr>\n",
       "  </tbody>\n",
       "</table>\n",
       "</div>"
      ],
      "text/plain": [
       "              dfh  e      BTC\n",
       "2010-07-18  561.0  1  0.04951\n",
       "2010-07-19  562.0  1  0.08584\n",
       "2010-07-20  563.0  1  0.08080"
      ]
     },
     "execution_count": 5,
     "metadata": {},
     "output_type": "execute_result"
    }
   ],
   "source": [
    "df = get_BTC()\n",
    "df.index = df.index.astype('datetime64[ns]')\n",
    "df.head(3)"
   ]
  },
  {
   "cell_type": "code",
   "execution_count": 6,
   "id": "31a087d6-5eb4-45a3-8bee-003ab420b63e",
   "metadata": {},
   "outputs": [
    {
     "data": {
      "text/html": [
       "<div>\n",
       "<style scoped>\n",
       "    .dataframe tbody tr th:only-of-type {\n",
       "        vertical-align: middle;\n",
       "    }\n",
       "\n",
       "    .dataframe tbody tr th {\n",
       "        vertical-align: top;\n",
       "    }\n",
       "\n",
       "    .dataframe thead th {\n",
       "        text-align: right;\n",
       "    }\n",
       "</style>\n",
       "<table border=\"1\" class=\"dataframe\">\n",
       "  <thead>\n",
       "    <tr style=\"text-align: right;\">\n",
       "      <th></th>\n",
       "      <th>dfh</th>\n",
       "      <th>e</th>\n",
       "      <th>BTC</th>\n",
       "      <th>BUYSIG</th>\n",
       "      <th>SELLSIG</th>\n",
       "    </tr>\n",
       "  </thead>\n",
       "  <tbody>\n",
       "    <tr>\n",
       "      <th>2010-07-18</th>\n",
       "      <td>561.0</td>\n",
       "      <td>1</td>\n",
       "      <td>0.04951</td>\n",
       "      <td>True</td>\n",
       "      <td>False</td>\n",
       "    </tr>\n",
       "    <tr>\n",
       "      <th>2010-07-19</th>\n",
       "      <td>562.0</td>\n",
       "      <td>1</td>\n",
       "      <td>0.08584</td>\n",
       "      <td>False</td>\n",
       "      <td>False</td>\n",
       "    </tr>\n",
       "    <tr>\n",
       "      <th>2010-07-20</th>\n",
       "      <td>563.0</td>\n",
       "      <td>1</td>\n",
       "      <td>0.08080</td>\n",
       "      <td>False</td>\n",
       "      <td>False</td>\n",
       "    </tr>\n",
       "  </tbody>\n",
       "</table>\n",
       "</div>"
      ],
      "text/plain": [
       "              dfh  e      BTC  BUYSIG  SELLSIG\n",
       "2010-07-18  561.0  1  0.04951    True    False\n",
       "2010-07-19  562.0  1  0.08584   False    False\n",
       "2010-07-20  563.0  1  0.08080   False    False"
      ]
     },
     "execution_count": 6,
     "metadata": {},
     "output_type": "execute_result"
    }
   ],
   "source": [
    "\n",
    "\n",
    "# # Przykładowe dane - kurs BTC\n",
    "# dates = pd.date_range(start='2023-01-01', periods=100)\n",
    "# prices = pd.Series([30000 + i * 100 for i in range(100)], index=dates)  # Ceny BTC\n",
    "# df = pd.DataFrame({'BTC': prices})\n",
    "\n",
    "# Dodajmy kolumnę BUYSIG - sygnał kupna (dla przykładu, kupujemy co 10 dni)\n",
    "df['BUYSIG'] = [True if i % 10 == 0 else False for i in range(len(df))]\n",
    "df['SELLSIG'] = False\n",
    "# Parametry strategii\n",
    "# stop_loss = 0.05  # 5% stop loss\n",
    "# take_profit = 0.1  # 10% take profit\n",
    "df.head(3)"
   ]
  },
  {
   "cell_type": "code",
   "execution_count": 7,
   "id": "4801fd85-5d92-4ba5-803f-972ebd6f77de",
   "metadata": {},
   "outputs": [
    {
     "data": {
      "text/plain": [
       "BUYSIG\n",
       "False    4707\n",
       "True      523\n",
       "Name: count, dtype: int64"
      ]
     },
     "execution_count": 7,
     "metadata": {},
     "output_type": "execute_result"
    }
   ],
   "source": [
    "df['BUYSIG'].value_counts()"
   ]
  },
  {
   "cell_type": "markdown",
   "id": "324e7de4-0ee3-4dc0-ab4e-49231fdaa885",
   "metadata": {},
   "source": [
    "# VECTOR"
   ]
  },
  {
   "cell_type": "code",
   "execution_count": 25,
   "id": "697094dc-f68f-40a7-b827-f8e016a51af5",
   "metadata": {},
   "outputs": [],
   "source": [
    "\n",
    "@njit\n",
    "def adjust_sl(c:vbt.portfolio.AdjustSLContext, sl_percentage:0.05):\n",
    "    price = c.curr_price  # Bieżąca cena\n",
    "    stop_loss = c.curr_stop  # Bieżący stop loss\n",
    "    trailing = False  # Flaga trailing\n",
    "\n",
    "    # Ustawienie stop loss\n",
    "    if price > stop_loss:\n",
    "        stop_loss = price * (1 - sl_percentage)  # Ustawienie nowego stop loss\n",
    "\n",
    "    \n",
    "    return stop_loss, trailing"
   ]
  },
  {
   "cell_type": "code",
   "execution_count": 26,
   "id": "c24bbc28-af09-466f-aebc-1af575ecddd8",
   "metadata": {},
   "outputs": [],
   "source": [
    "SL = 0.05  # 5% początkowy Stop Loss\n",
    "ACT = 0.20  # Aktywacja trailing SL po wzroście o 20% od SL\n",
    "TSL = 0.03  # Trailing Stop Loss na poziomie 3% poniżej maksimum ceny\n",
    "sl_percentage = 0.05  # 5% stop loss"
   ]
  },
  {
   "cell_type": "code",
   "execution_count": 27,
   "id": "ee0958a3-c845-480b-b851-f6b3e565b92c",
   "metadata": {},
   "outputs": [
    {
     "ename": "TypeError",
     "evalue": "missing a required argument: 'sl_percentage'",
     "output_type": "error",
     "traceback": [
      "\u001b[0;31m---------------------------------------------------------------------------\u001b[0m",
      "\u001b[0;31mTypeError\u001b[0m                                 Traceback (most recent call last)",
      "Cell \u001b[0;32mIn[27], line 7\u001b[0m\n\u001b[1;32m      4\u001b[0m exits \u001b[38;5;241m=\u001b[39m df[\u001b[38;5;124m'\u001b[39m\u001b[38;5;124mSELLSIG\u001b[39m\u001b[38;5;124m'\u001b[39m]   \u001b[38;5;66;03m# Nie ma z góry określonych sygnałów sprzedaży\u001b[39;00m\n\u001b[1;32m      6\u001b[0m \u001b[38;5;66;03m# Tworzymy portfel z parametrami StopLoss i TakeProfit\u001b[39;00m\n\u001b[0;32m----> 7\u001b[0m portfolio \u001b[38;5;241m=\u001b[39m vbt\u001b[38;5;241m.\u001b[39mPortfolio\u001b[38;5;241m.\u001b[39mfrom_signals(\n\u001b[1;32m      8\u001b[0m     \n\u001b[1;32m      9\u001b[0m     close\u001b[38;5;241m=\u001b[39mdf[\u001b[38;5;124m'\u001b[39m\u001b[38;5;124mBTC\u001b[39m\u001b[38;5;124m'\u001b[39m],  \u001b[38;5;66;03m# Ceny zamknięcia\u001b[39;00m\n\u001b[1;32m     10\u001b[0m     entries\u001b[38;5;241m=\u001b[39mentries,  \u001b[38;5;66;03m# Sygnały wejścia\u001b[39;00m\n\u001b[1;32m     11\u001b[0m     exits\u001b[38;5;241m=\u001b[39mexits,  \u001b[38;5;66;03m# Sygnały wyjścia\u001b[39;00m\n\u001b[1;32m     12\u001b[0m     sl_stop\u001b[38;5;241m=\u001b[39mSL,  \u001b[38;5;66;03m# StopLoss w postaci procentowej\u001b[39;00m\n\u001b[1;32m     13\u001b[0m     adjust_sl_func_nb\u001b[38;5;241m=\u001b[39madjust_sl,  \u001b[38;5;66;03m# Nasza funkcja do dynamicznego SL\u001b[39;00m\n\u001b[1;32m     14\u001b[0m     aadjust_sl_args\u001b[38;5;241m=\u001b[39m(sl_percentage),\n\u001b[1;32m     15\u001b[0m     size\u001b[38;5;241m=\u001b[39m\u001b[38;5;241m100\u001b[39m\n\u001b[1;32m     16\u001b[0m )\n",
      "File \u001b[0;32m/opt/miniconda3/envs/RAJ/lib/python3.12/site-packages/vectorbt/portfolio/base.py:2960\u001b[0m, in \u001b[0;36mPortfolio.from_signals\u001b[0;34m(cls, close, entries, exits, short_entries, short_exits, signal_func_nb, signal_args, size, size_type, price, fees, fixed_fees, slippage, min_size, max_size, size_granularity, reject_prob, lock_cash, allow_partial, raise_reject, log, accumulate, upon_long_conflict, upon_short_conflict, upon_dir_conflict, upon_opposite_entry, direction, val_price, open, high, low, sl_stop, sl_trail, tp_stop, stop_entry_price, stop_exit_price, upon_stop_exit, upon_stop_update, adjust_sl_func_nb, adjust_sl_args, adjust_tp_func_nb, adjust_tp_args, use_stops, init_cash, cash_sharing, call_seq, ffill_val_price, update_value, max_orders, max_logs, seed, group_by, broadcast_named_args, broadcast_kwargs, template_mapping, wrapper_kwargs, freq, attach_call_seq, **kwargs)\u001b[0m\n\u001b[1;32m   2957\u001b[0m checks\u001b[38;5;241m.\u001b[39massert_numba_func(adjust_tp_func_nb)\n\u001b[1;32m   2959\u001b[0m \u001b[38;5;66;03m# Perform the simulation\u001b[39;00m\n\u001b[0;32m-> 2960\u001b[0m order_records, log_records \u001b[38;5;241m=\u001b[39m nb\u001b[38;5;241m.\u001b[39msimulate_from_signal_func_nb(\n\u001b[1;32m   2961\u001b[0m     target_shape_2d,\n\u001b[1;32m   2962\u001b[0m     cs_group_lens,  \u001b[38;5;66;03m# group only if cash sharing is enabled to speed up\u001b[39;00m\n\u001b[1;32m   2963\u001b[0m     init_cash,\n\u001b[1;32m   2964\u001b[0m     call_seq,\n\u001b[1;32m   2965\u001b[0m     signal_func_nb\u001b[38;5;241m=\u001b[39msignal_func_nb,\n\u001b[1;32m   2966\u001b[0m     signal_args\u001b[38;5;241m=\u001b[39msignal_args,\n\u001b[1;32m   2967\u001b[0m     size\u001b[38;5;241m=\u001b[39mbroadcasted_args[\u001b[38;5;124m'\u001b[39m\u001b[38;5;124msize\u001b[39m\u001b[38;5;124m'\u001b[39m],\n\u001b[1;32m   2968\u001b[0m     price\u001b[38;5;241m=\u001b[39mbroadcasted_args[\u001b[38;5;124m'\u001b[39m\u001b[38;5;124mprice\u001b[39m\u001b[38;5;124m'\u001b[39m],\n\u001b[1;32m   2969\u001b[0m     size_type\u001b[38;5;241m=\u001b[39mbroadcasted_args[\u001b[38;5;124m'\u001b[39m\u001b[38;5;124msize_type\u001b[39m\u001b[38;5;124m'\u001b[39m],\n\u001b[1;32m   2970\u001b[0m     fees\u001b[38;5;241m=\u001b[39mbroadcasted_args[\u001b[38;5;124m'\u001b[39m\u001b[38;5;124mfees\u001b[39m\u001b[38;5;124m'\u001b[39m],\n\u001b[1;32m   2971\u001b[0m     fixed_fees\u001b[38;5;241m=\u001b[39mbroadcasted_args[\u001b[38;5;124m'\u001b[39m\u001b[38;5;124mfixed_fees\u001b[39m\u001b[38;5;124m'\u001b[39m],\n\u001b[1;32m   2972\u001b[0m     slippage\u001b[38;5;241m=\u001b[39mbroadcasted_args[\u001b[38;5;124m'\u001b[39m\u001b[38;5;124mslippage\u001b[39m\u001b[38;5;124m'\u001b[39m],\n\u001b[1;32m   2973\u001b[0m     min_size\u001b[38;5;241m=\u001b[39mbroadcasted_args[\u001b[38;5;124m'\u001b[39m\u001b[38;5;124mmin_size\u001b[39m\u001b[38;5;124m'\u001b[39m],\n\u001b[1;32m   2974\u001b[0m     max_size\u001b[38;5;241m=\u001b[39mbroadcasted_args[\u001b[38;5;124m'\u001b[39m\u001b[38;5;124mmax_size\u001b[39m\u001b[38;5;124m'\u001b[39m],\n\u001b[1;32m   2975\u001b[0m     size_granularity\u001b[38;5;241m=\u001b[39mbroadcasted_args[\u001b[38;5;124m'\u001b[39m\u001b[38;5;124msize_granularity\u001b[39m\u001b[38;5;124m'\u001b[39m],\n\u001b[1;32m   2976\u001b[0m     reject_prob\u001b[38;5;241m=\u001b[39mbroadcasted_args[\u001b[38;5;124m'\u001b[39m\u001b[38;5;124mreject_prob\u001b[39m\u001b[38;5;124m'\u001b[39m],\n\u001b[1;32m   2977\u001b[0m     lock_cash\u001b[38;5;241m=\u001b[39mbroadcasted_args[\u001b[38;5;124m'\u001b[39m\u001b[38;5;124mlock_cash\u001b[39m\u001b[38;5;124m'\u001b[39m],\n\u001b[1;32m   2978\u001b[0m     allow_partial\u001b[38;5;241m=\u001b[39mbroadcasted_args[\u001b[38;5;124m'\u001b[39m\u001b[38;5;124mallow_partial\u001b[39m\u001b[38;5;124m'\u001b[39m],\n\u001b[1;32m   2979\u001b[0m     raise_reject\u001b[38;5;241m=\u001b[39mbroadcasted_args[\u001b[38;5;124m'\u001b[39m\u001b[38;5;124mraise_reject\u001b[39m\u001b[38;5;124m'\u001b[39m],\n\u001b[1;32m   2980\u001b[0m     log\u001b[38;5;241m=\u001b[39mbroadcasted_args[\u001b[38;5;124m'\u001b[39m\u001b[38;5;124mlog\u001b[39m\u001b[38;5;124m'\u001b[39m],\n\u001b[1;32m   2981\u001b[0m     accumulate\u001b[38;5;241m=\u001b[39mbroadcasted_args[\u001b[38;5;124m'\u001b[39m\u001b[38;5;124maccumulate\u001b[39m\u001b[38;5;124m'\u001b[39m],\n\u001b[1;32m   2982\u001b[0m     upon_long_conflict\u001b[38;5;241m=\u001b[39mbroadcasted_args[\u001b[38;5;124m'\u001b[39m\u001b[38;5;124mupon_long_conflict\u001b[39m\u001b[38;5;124m'\u001b[39m],\n\u001b[1;32m   2983\u001b[0m     upon_short_conflict\u001b[38;5;241m=\u001b[39mbroadcasted_args[\u001b[38;5;124m'\u001b[39m\u001b[38;5;124mupon_short_conflict\u001b[39m\u001b[38;5;124m'\u001b[39m],\n\u001b[1;32m   2984\u001b[0m     upon_dir_conflict\u001b[38;5;241m=\u001b[39mbroadcasted_args[\u001b[38;5;124m'\u001b[39m\u001b[38;5;124mupon_dir_conflict\u001b[39m\u001b[38;5;124m'\u001b[39m],\n\u001b[1;32m   2985\u001b[0m     upon_opposite_entry\u001b[38;5;241m=\u001b[39mbroadcasted_args[\u001b[38;5;124m'\u001b[39m\u001b[38;5;124mupon_opposite_entry\u001b[39m\u001b[38;5;124m'\u001b[39m],\n\u001b[1;32m   2986\u001b[0m     val_price\u001b[38;5;241m=\u001b[39mbroadcasted_args[\u001b[38;5;124m'\u001b[39m\u001b[38;5;124mval_price\u001b[39m\u001b[38;5;124m'\u001b[39m],\n\u001b[1;32m   2987\u001b[0m     \u001b[38;5;28mopen\u001b[39m\u001b[38;5;241m=\u001b[39mbroadcasted_args[\u001b[38;5;124m'\u001b[39m\u001b[38;5;124mopen\u001b[39m\u001b[38;5;124m'\u001b[39m],\n\u001b[1;32m   2988\u001b[0m     high\u001b[38;5;241m=\u001b[39mbroadcasted_args[\u001b[38;5;124m'\u001b[39m\u001b[38;5;124mhigh\u001b[39m\u001b[38;5;124m'\u001b[39m],\n\u001b[1;32m   2989\u001b[0m     low\u001b[38;5;241m=\u001b[39mbroadcasted_args[\u001b[38;5;124m'\u001b[39m\u001b[38;5;124mlow\u001b[39m\u001b[38;5;124m'\u001b[39m],\n\u001b[1;32m   2990\u001b[0m     close\u001b[38;5;241m=\u001b[39mbroadcasted_args[\u001b[38;5;124m'\u001b[39m\u001b[38;5;124mclose\u001b[39m\u001b[38;5;124m'\u001b[39m],\n\u001b[1;32m   2991\u001b[0m     sl_stop\u001b[38;5;241m=\u001b[39mbroadcasted_args[\u001b[38;5;124m'\u001b[39m\u001b[38;5;124msl_stop\u001b[39m\u001b[38;5;124m'\u001b[39m],\n\u001b[1;32m   2992\u001b[0m     sl_trail\u001b[38;5;241m=\u001b[39mbroadcasted_args[\u001b[38;5;124m'\u001b[39m\u001b[38;5;124msl_trail\u001b[39m\u001b[38;5;124m'\u001b[39m],\n\u001b[1;32m   2993\u001b[0m     tp_stop\u001b[38;5;241m=\u001b[39mbroadcasted_args[\u001b[38;5;124m'\u001b[39m\u001b[38;5;124mtp_stop\u001b[39m\u001b[38;5;124m'\u001b[39m],\n\u001b[1;32m   2994\u001b[0m     stop_entry_price\u001b[38;5;241m=\u001b[39mbroadcasted_args[\u001b[38;5;124m'\u001b[39m\u001b[38;5;124mstop_entry_price\u001b[39m\u001b[38;5;124m'\u001b[39m],\n\u001b[1;32m   2995\u001b[0m     stop_exit_price\u001b[38;5;241m=\u001b[39mbroadcasted_args[\u001b[38;5;124m'\u001b[39m\u001b[38;5;124mstop_exit_price\u001b[39m\u001b[38;5;124m'\u001b[39m],\n\u001b[1;32m   2996\u001b[0m     upon_stop_exit\u001b[38;5;241m=\u001b[39mbroadcasted_args[\u001b[38;5;124m'\u001b[39m\u001b[38;5;124mupon_stop_exit\u001b[39m\u001b[38;5;124m'\u001b[39m],\n\u001b[1;32m   2997\u001b[0m     upon_stop_update\u001b[38;5;241m=\u001b[39mbroadcasted_args[\u001b[38;5;124m'\u001b[39m\u001b[38;5;124mupon_stop_update\u001b[39m\u001b[38;5;124m'\u001b[39m],\n\u001b[1;32m   2998\u001b[0m     adjust_sl_func_nb\u001b[38;5;241m=\u001b[39madjust_sl_func_nb,\n\u001b[1;32m   2999\u001b[0m     adjust_sl_args\u001b[38;5;241m=\u001b[39madjust_sl_args,\n\u001b[1;32m   3000\u001b[0m     adjust_tp_func_nb\u001b[38;5;241m=\u001b[39madjust_tp_func_nb,\n\u001b[1;32m   3001\u001b[0m     adjust_tp_args\u001b[38;5;241m=\u001b[39madjust_tp_args,\n\u001b[1;32m   3002\u001b[0m     use_stops\u001b[38;5;241m=\u001b[39muse_stops,\n\u001b[1;32m   3003\u001b[0m     auto_call_seq\u001b[38;5;241m=\u001b[39mauto_call_seq,\n\u001b[1;32m   3004\u001b[0m     ffill_val_price\u001b[38;5;241m=\u001b[39mffill_val_price,\n\u001b[1;32m   3005\u001b[0m     update_value\u001b[38;5;241m=\u001b[39mupdate_value,\n\u001b[1;32m   3006\u001b[0m     max_orders\u001b[38;5;241m=\u001b[39mmax_orders,\n\u001b[1;32m   3007\u001b[0m     max_logs\u001b[38;5;241m=\u001b[39mmax_logs,\n\u001b[1;32m   3008\u001b[0m     flex_2d\u001b[38;5;241m=\u001b[39mclose\u001b[38;5;241m.\u001b[39mndim \u001b[38;5;241m==\u001b[39m \u001b[38;5;241m2\u001b[39m\n\u001b[1;32m   3009\u001b[0m )\n\u001b[1;32m   3011\u001b[0m \u001b[38;5;66;03m# Create an instance\u001b[39;00m\n\u001b[1;32m   3012\u001b[0m \u001b[38;5;28;01mreturn\u001b[39;00m \u001b[38;5;28mcls\u001b[39m(\n\u001b[1;32m   3013\u001b[0m     wrapper,\n\u001b[1;32m   3014\u001b[0m     close,\n\u001b[0;32m   (...)\u001b[0m\n\u001b[1;32m   3020\u001b[0m     \u001b[38;5;241m*\u001b[39m\u001b[38;5;241m*\u001b[39mkwargs\n\u001b[1;32m   3021\u001b[0m )\n",
      "File \u001b[0;32m/opt/miniconda3/envs/RAJ/lib/python3.12/site-packages/numba/core/dispatcher.py:442\u001b[0m, in \u001b[0;36m_DispatcherBase._compile_for_args\u001b[0;34m(self, *args, **kws)\u001b[0m\n\u001b[1;32m    440\u001b[0m             e\u001b[38;5;241m.\u001b[39mpatch_message(\u001b[38;5;124m'\u001b[39m\u001b[38;5;130;01m\\n\u001b[39;00m\u001b[38;5;124m'\u001b[39m\u001b[38;5;241m.\u001b[39mjoin((\u001b[38;5;28mstr\u001b[39m(e)\u001b[38;5;241m.\u001b[39mrstrip(), help_msg)))\n\u001b[1;32m    441\u001b[0m     \u001b[38;5;66;03m# ignore the FULL_TRACEBACKS config, this needs reporting!\u001b[39;00m\n\u001b[0;32m--> 442\u001b[0m     \u001b[38;5;28;01mraise\u001b[39;00m e\n\u001b[1;32m    443\u001b[0m \u001b[38;5;28;01mfinally\u001b[39;00m:\n\u001b[1;32m    444\u001b[0m     \u001b[38;5;28mself\u001b[39m\u001b[38;5;241m.\u001b[39m_types_active_call \u001b[38;5;241m=\u001b[39m []\n",
      "File \u001b[0;32m/opt/miniconda3/envs/RAJ/lib/python3.12/site-packages/numba/core/dispatcher.py:375\u001b[0m, in \u001b[0;36m_DispatcherBase._compile_for_args\u001b[0;34m(self, *args, **kws)\u001b[0m\n\u001b[1;32m    373\u001b[0m return_val \u001b[38;5;241m=\u001b[39m \u001b[38;5;28;01mNone\u001b[39;00m\n\u001b[1;32m    374\u001b[0m \u001b[38;5;28;01mtry\u001b[39;00m:\n\u001b[0;32m--> 375\u001b[0m     return_val \u001b[38;5;241m=\u001b[39m \u001b[38;5;28mself\u001b[39m\u001b[38;5;241m.\u001b[39mcompile(\u001b[38;5;28mtuple\u001b[39m(argtypes))\n\u001b[1;32m    376\u001b[0m \u001b[38;5;28;01mexcept\u001b[39;00m errors\u001b[38;5;241m.\u001b[39mForceLiteralArg \u001b[38;5;28;01mas\u001b[39;00m e:\n\u001b[1;32m    377\u001b[0m     \u001b[38;5;66;03m# Received request for compiler re-entry with the list of arguments\u001b[39;00m\n\u001b[1;32m    378\u001b[0m     \u001b[38;5;66;03m# indicated by e.requested_args.\u001b[39;00m\n\u001b[1;32m    379\u001b[0m     \u001b[38;5;66;03m# First, check if any of these args are already Literal-ized\u001b[39;00m\n\u001b[1;32m    380\u001b[0m     already_lit_pos \u001b[38;5;241m=\u001b[39m [i \u001b[38;5;28;01mfor\u001b[39;00m i \u001b[38;5;129;01min\u001b[39;00m e\u001b[38;5;241m.\u001b[39mrequested_args\n\u001b[1;32m    381\u001b[0m                        \u001b[38;5;28;01mif\u001b[39;00m \u001b[38;5;28misinstance\u001b[39m(args[i], types\u001b[38;5;241m.\u001b[39mLiteral)]\n",
      "File \u001b[0;32m/opt/miniconda3/envs/RAJ/lib/python3.12/site-packages/numba/core/dispatcher.py:905\u001b[0m, in \u001b[0;36mDispatcher.compile\u001b[0;34m(self, sig)\u001b[0m\n\u001b[1;32m    903\u001b[0m \u001b[38;5;28;01mwith\u001b[39;00m ev\u001b[38;5;241m.\u001b[39mtrigger_event(\u001b[38;5;124m\"\u001b[39m\u001b[38;5;124mnumba:compile\u001b[39m\u001b[38;5;124m\"\u001b[39m, data\u001b[38;5;241m=\u001b[39mev_details):\n\u001b[1;32m    904\u001b[0m     \u001b[38;5;28;01mtry\u001b[39;00m:\n\u001b[0;32m--> 905\u001b[0m         cres \u001b[38;5;241m=\u001b[39m \u001b[38;5;28mself\u001b[39m\u001b[38;5;241m.\u001b[39m_compiler\u001b[38;5;241m.\u001b[39mcompile(args, return_type)\n\u001b[1;32m    906\u001b[0m     \u001b[38;5;28;01mexcept\u001b[39;00m errors\u001b[38;5;241m.\u001b[39mForceLiteralArg \u001b[38;5;28;01mas\u001b[39;00m e:\n\u001b[1;32m    907\u001b[0m         \u001b[38;5;28;01mdef\u001b[39;00m \u001b[38;5;21mfolded\u001b[39m(args, kws):\n",
      "File \u001b[0;32m/opt/miniconda3/envs/RAJ/lib/python3.12/site-packages/numba/core/dispatcher.py:80\u001b[0m, in \u001b[0;36m_FunctionCompiler.compile\u001b[0;34m(self, args, return_type)\u001b[0m\n\u001b[1;32m     79\u001b[0m \u001b[38;5;28;01mdef\u001b[39;00m \u001b[38;5;21mcompile\u001b[39m(\u001b[38;5;28mself\u001b[39m, args, return_type):\n\u001b[0;32m---> 80\u001b[0m     status, retval \u001b[38;5;241m=\u001b[39m \u001b[38;5;28mself\u001b[39m\u001b[38;5;241m.\u001b[39m_compile_cached(args, return_type)\n\u001b[1;32m     81\u001b[0m     \u001b[38;5;28;01mif\u001b[39;00m status:\n\u001b[1;32m     82\u001b[0m         \u001b[38;5;28;01mreturn\u001b[39;00m retval\n",
      "File \u001b[0;32m/opt/miniconda3/envs/RAJ/lib/python3.12/site-packages/numba/core/dispatcher.py:94\u001b[0m, in \u001b[0;36m_FunctionCompiler._compile_cached\u001b[0;34m(self, args, return_type)\u001b[0m\n\u001b[1;32m     91\u001b[0m     \u001b[38;5;28;01mpass\u001b[39;00m\n\u001b[1;32m     93\u001b[0m \u001b[38;5;28;01mtry\u001b[39;00m:\n\u001b[0;32m---> 94\u001b[0m     retval \u001b[38;5;241m=\u001b[39m \u001b[38;5;28mself\u001b[39m\u001b[38;5;241m.\u001b[39m_compile_core(args, return_type)\n\u001b[1;32m     95\u001b[0m \u001b[38;5;28;01mexcept\u001b[39;00m errors\u001b[38;5;241m.\u001b[39mTypingError \u001b[38;5;28;01mas\u001b[39;00m e:\n\u001b[1;32m     96\u001b[0m     \u001b[38;5;28mself\u001b[39m\u001b[38;5;241m.\u001b[39m_failed_cache[key] \u001b[38;5;241m=\u001b[39m e\n",
      "File \u001b[0;32m/opt/miniconda3/envs/RAJ/lib/python3.12/site-packages/numba/core/dispatcher.py:107\u001b[0m, in \u001b[0;36m_FunctionCompiler._compile_core\u001b[0;34m(self, args, return_type)\u001b[0m\n\u001b[1;32m    104\u001b[0m flags \u001b[38;5;241m=\u001b[39m \u001b[38;5;28mself\u001b[39m\u001b[38;5;241m.\u001b[39m_customize_flags(flags)\n\u001b[1;32m    106\u001b[0m impl \u001b[38;5;241m=\u001b[39m \u001b[38;5;28mself\u001b[39m\u001b[38;5;241m.\u001b[39m_get_implementation(args, {})\n\u001b[0;32m--> 107\u001b[0m cres \u001b[38;5;241m=\u001b[39m compiler\u001b[38;5;241m.\u001b[39mcompile_extra(\u001b[38;5;28mself\u001b[39m\u001b[38;5;241m.\u001b[39mtargetdescr\u001b[38;5;241m.\u001b[39mtyping_context,\n\u001b[1;32m    108\u001b[0m                               \u001b[38;5;28mself\u001b[39m\u001b[38;5;241m.\u001b[39mtargetdescr\u001b[38;5;241m.\u001b[39mtarget_context,\n\u001b[1;32m    109\u001b[0m                               impl,\n\u001b[1;32m    110\u001b[0m                               args\u001b[38;5;241m=\u001b[39margs, return_type\u001b[38;5;241m=\u001b[39mreturn_type,\n\u001b[1;32m    111\u001b[0m                               flags\u001b[38;5;241m=\u001b[39mflags, \u001b[38;5;28mlocals\u001b[39m\u001b[38;5;241m=\u001b[39m\u001b[38;5;28mself\u001b[39m\u001b[38;5;241m.\u001b[39mlocals,\n\u001b[1;32m    112\u001b[0m                               pipeline_class\u001b[38;5;241m=\u001b[39m\u001b[38;5;28mself\u001b[39m\u001b[38;5;241m.\u001b[39mpipeline_class)\n\u001b[1;32m    113\u001b[0m \u001b[38;5;66;03m# Check typing error if object mode is used\u001b[39;00m\n\u001b[1;32m    114\u001b[0m \u001b[38;5;28;01mif\u001b[39;00m cres\u001b[38;5;241m.\u001b[39mtyping_error \u001b[38;5;129;01mis\u001b[39;00m \u001b[38;5;129;01mnot\u001b[39;00m \u001b[38;5;28;01mNone\u001b[39;00m \u001b[38;5;129;01mand\u001b[39;00m \u001b[38;5;129;01mnot\u001b[39;00m flags\u001b[38;5;241m.\u001b[39menable_pyobject:\n",
      "File \u001b[0;32m/opt/miniconda3/envs/RAJ/lib/python3.12/site-packages/numba/core/compiler.py:744\u001b[0m, in \u001b[0;36mcompile_extra\u001b[0;34m(typingctx, targetctx, func, args, return_type, flags, locals, library, pipeline_class)\u001b[0m\n\u001b[1;32m    720\u001b[0m \u001b[38;5;250m\u001b[39m\u001b[38;5;124;03m\"\"\"Compiler entry point\u001b[39;00m\n\u001b[1;32m    721\u001b[0m \n\u001b[1;32m    722\u001b[0m \u001b[38;5;124;03mParameter\u001b[39;00m\n\u001b[0;32m   (...)\u001b[0m\n\u001b[1;32m    740\u001b[0m \u001b[38;5;124;03m    compiler pipeline\u001b[39;00m\n\u001b[1;32m    741\u001b[0m \u001b[38;5;124;03m\"\"\"\u001b[39;00m\n\u001b[1;32m    742\u001b[0m pipeline \u001b[38;5;241m=\u001b[39m pipeline_class(typingctx, targetctx, library,\n\u001b[1;32m    743\u001b[0m                           args, return_type, flags, \u001b[38;5;28mlocals\u001b[39m)\n\u001b[0;32m--> 744\u001b[0m \u001b[38;5;28;01mreturn\u001b[39;00m pipeline\u001b[38;5;241m.\u001b[39mcompile_extra(func)\n",
      "File \u001b[0;32m/opt/miniconda3/envs/RAJ/lib/python3.12/site-packages/numba/core/compiler.py:438\u001b[0m, in \u001b[0;36mCompilerBase.compile_extra\u001b[0;34m(self, func)\u001b[0m\n\u001b[1;32m    436\u001b[0m \u001b[38;5;28mself\u001b[39m\u001b[38;5;241m.\u001b[39mstate\u001b[38;5;241m.\u001b[39mlifted \u001b[38;5;241m=\u001b[39m ()\n\u001b[1;32m    437\u001b[0m \u001b[38;5;28mself\u001b[39m\u001b[38;5;241m.\u001b[39mstate\u001b[38;5;241m.\u001b[39mlifted_from \u001b[38;5;241m=\u001b[39m \u001b[38;5;28;01mNone\u001b[39;00m\n\u001b[0;32m--> 438\u001b[0m \u001b[38;5;28;01mreturn\u001b[39;00m \u001b[38;5;28mself\u001b[39m\u001b[38;5;241m.\u001b[39m_compile_bytecode()\n",
      "File \u001b[0;32m/opt/miniconda3/envs/RAJ/lib/python3.12/site-packages/numba/core/compiler.py:506\u001b[0m, in \u001b[0;36mCompilerBase._compile_bytecode\u001b[0;34m(self)\u001b[0m\n\u001b[1;32m    502\u001b[0m \u001b[38;5;250m\u001b[39m\u001b[38;5;124;03m\"\"\"\u001b[39;00m\n\u001b[1;32m    503\u001b[0m \u001b[38;5;124;03mPopulate and run pipeline for bytecode input\u001b[39;00m\n\u001b[1;32m    504\u001b[0m \u001b[38;5;124;03m\"\"\"\u001b[39;00m\n\u001b[1;32m    505\u001b[0m \u001b[38;5;28;01massert\u001b[39;00m \u001b[38;5;28mself\u001b[39m\u001b[38;5;241m.\u001b[39mstate\u001b[38;5;241m.\u001b[39mfunc_ir \u001b[38;5;129;01mis\u001b[39;00m \u001b[38;5;28;01mNone\u001b[39;00m\n\u001b[0;32m--> 506\u001b[0m \u001b[38;5;28;01mreturn\u001b[39;00m \u001b[38;5;28mself\u001b[39m\u001b[38;5;241m.\u001b[39m_compile_core()\n",
      "File \u001b[0;32m/opt/miniconda3/envs/RAJ/lib/python3.12/site-packages/numba/core/compiler.py:481\u001b[0m, in \u001b[0;36mCompilerBase._compile_core\u001b[0;34m(self)\u001b[0m\n\u001b[1;32m    478\u001b[0m \u001b[38;5;28;01mexcept\u001b[39;00m \u001b[38;5;167;01mException\u001b[39;00m \u001b[38;5;28;01mas\u001b[39;00m e:\n\u001b[1;32m    479\u001b[0m     \u001b[38;5;28;01mif\u001b[39;00m (utils\u001b[38;5;241m.\u001b[39muse_new_style_errors() \u001b[38;5;129;01mand\u001b[39;00m \u001b[38;5;129;01mnot\u001b[39;00m\n\u001b[1;32m    480\u001b[0m             \u001b[38;5;28misinstance\u001b[39m(e, errors\u001b[38;5;241m.\u001b[39mNumbaError)):\n\u001b[0;32m--> 481\u001b[0m         \u001b[38;5;28;01mraise\u001b[39;00m e\n\u001b[1;32m    483\u001b[0m     \u001b[38;5;28mself\u001b[39m\u001b[38;5;241m.\u001b[39mstate\u001b[38;5;241m.\u001b[39mstatus\u001b[38;5;241m.\u001b[39mfail_reason \u001b[38;5;241m=\u001b[39m e\n\u001b[1;32m    484\u001b[0m     \u001b[38;5;28;01mif\u001b[39;00m is_final_pipeline:\n",
      "File \u001b[0;32m/opt/miniconda3/envs/RAJ/lib/python3.12/site-packages/numba/core/compiler.py:472\u001b[0m, in \u001b[0;36mCompilerBase._compile_core\u001b[0;34m(self)\u001b[0m\n\u001b[1;32m    470\u001b[0m res \u001b[38;5;241m=\u001b[39m \u001b[38;5;28;01mNone\u001b[39;00m\n\u001b[1;32m    471\u001b[0m \u001b[38;5;28;01mtry\u001b[39;00m:\n\u001b[0;32m--> 472\u001b[0m     pm\u001b[38;5;241m.\u001b[39mrun(\u001b[38;5;28mself\u001b[39m\u001b[38;5;241m.\u001b[39mstate)\n\u001b[1;32m    473\u001b[0m     \u001b[38;5;28;01mif\u001b[39;00m \u001b[38;5;28mself\u001b[39m\u001b[38;5;241m.\u001b[39mstate\u001b[38;5;241m.\u001b[39mcr \u001b[38;5;129;01mis\u001b[39;00m \u001b[38;5;129;01mnot\u001b[39;00m \u001b[38;5;28;01mNone\u001b[39;00m:\n\u001b[1;32m    474\u001b[0m         \u001b[38;5;28;01mbreak\u001b[39;00m\n",
      "File \u001b[0;32m/opt/miniconda3/envs/RAJ/lib/python3.12/site-packages/numba/core/compiler_machinery.py:364\u001b[0m, in \u001b[0;36mPassManager.run\u001b[0;34m(self, state)\u001b[0m\n\u001b[1;32m    361\u001b[0m \u001b[38;5;28;01mexcept\u001b[39;00m \u001b[38;5;167;01mException\u001b[39;00m \u001b[38;5;28;01mas\u001b[39;00m e:\n\u001b[1;32m    362\u001b[0m     \u001b[38;5;28;01mif\u001b[39;00m (utils\u001b[38;5;241m.\u001b[39muse_new_style_errors() \u001b[38;5;129;01mand\u001b[39;00m \u001b[38;5;129;01mnot\u001b[39;00m\n\u001b[1;32m    363\u001b[0m             \u001b[38;5;28misinstance\u001b[39m(e, errors\u001b[38;5;241m.\u001b[39mNumbaError)):\n\u001b[0;32m--> 364\u001b[0m         \u001b[38;5;28;01mraise\u001b[39;00m e\n\u001b[1;32m    365\u001b[0m     msg \u001b[38;5;241m=\u001b[39m \u001b[38;5;124m\"\u001b[39m\u001b[38;5;124mFailed in \u001b[39m\u001b[38;5;132;01m%s\u001b[39;00m\u001b[38;5;124m mode pipeline (step: \u001b[39m\u001b[38;5;132;01m%s\u001b[39;00m\u001b[38;5;124m)\u001b[39m\u001b[38;5;124m\"\u001b[39m \u001b[38;5;241m%\u001b[39m \\\n\u001b[1;32m    366\u001b[0m         (\u001b[38;5;28mself\u001b[39m\u001b[38;5;241m.\u001b[39mpipeline_name, pass_desc)\n\u001b[1;32m    367\u001b[0m     patched_exception \u001b[38;5;241m=\u001b[39m \u001b[38;5;28mself\u001b[39m\u001b[38;5;241m.\u001b[39m_patch_error(msg, e)\n",
      "File \u001b[0;32m/opt/miniconda3/envs/RAJ/lib/python3.12/site-packages/numba/core/compiler_machinery.py:356\u001b[0m, in \u001b[0;36mPassManager.run\u001b[0;34m(self, state)\u001b[0m\n\u001b[1;32m    354\u001b[0m pass_inst \u001b[38;5;241m=\u001b[39m _pass_registry\u001b[38;5;241m.\u001b[39mget(pss)\u001b[38;5;241m.\u001b[39mpass_inst\n\u001b[1;32m    355\u001b[0m \u001b[38;5;28;01mif\u001b[39;00m \u001b[38;5;28misinstance\u001b[39m(pass_inst, CompilerPass):\n\u001b[0;32m--> 356\u001b[0m     \u001b[38;5;28mself\u001b[39m\u001b[38;5;241m.\u001b[39m_runPass(idx, pass_inst, state)\n\u001b[1;32m    357\u001b[0m \u001b[38;5;28;01melse\u001b[39;00m:\n\u001b[1;32m    358\u001b[0m     \u001b[38;5;28;01mraise\u001b[39;00m \u001b[38;5;167;01mBaseException\u001b[39;00m(\u001b[38;5;124m\"\u001b[39m\u001b[38;5;124mLegacy pass in use\u001b[39m\u001b[38;5;124m\"\u001b[39m)\n",
      "File \u001b[0;32m/opt/miniconda3/envs/RAJ/lib/python3.12/site-packages/numba/core/compiler_lock.py:35\u001b[0m, in \u001b[0;36m_CompilerLock.__call__.<locals>._acquire_compile_lock\u001b[0;34m(*args, **kwargs)\u001b[0m\n\u001b[1;32m     32\u001b[0m \u001b[38;5;129m@functools\u001b[39m\u001b[38;5;241m.\u001b[39mwraps(func)\n\u001b[1;32m     33\u001b[0m \u001b[38;5;28;01mdef\u001b[39;00m \u001b[38;5;21m_acquire_compile_lock\u001b[39m(\u001b[38;5;241m*\u001b[39margs, \u001b[38;5;241m*\u001b[39m\u001b[38;5;241m*\u001b[39mkwargs):\n\u001b[1;32m     34\u001b[0m     \u001b[38;5;28;01mwith\u001b[39;00m \u001b[38;5;28mself\u001b[39m:\n\u001b[0;32m---> 35\u001b[0m         \u001b[38;5;28;01mreturn\u001b[39;00m func(\u001b[38;5;241m*\u001b[39margs, \u001b[38;5;241m*\u001b[39m\u001b[38;5;241m*\u001b[39mkwargs)\n",
      "File \u001b[0;32m/opt/miniconda3/envs/RAJ/lib/python3.12/site-packages/numba/core/compiler_machinery.py:311\u001b[0m, in \u001b[0;36mPassManager._runPass\u001b[0;34m(self, index, pss, internal_state)\u001b[0m\n\u001b[1;32m    309\u001b[0m     mutated \u001b[38;5;241m|\u001b[39m\u001b[38;5;241m=\u001b[39m check(pss\u001b[38;5;241m.\u001b[39mrun_initialization, internal_state)\n\u001b[1;32m    310\u001b[0m \u001b[38;5;28;01mwith\u001b[39;00m SimpleTimer() \u001b[38;5;28;01mas\u001b[39;00m pass_time:\n\u001b[0;32m--> 311\u001b[0m     mutated \u001b[38;5;241m|\u001b[39m\u001b[38;5;241m=\u001b[39m check(pss\u001b[38;5;241m.\u001b[39mrun_pass, internal_state)\n\u001b[1;32m    312\u001b[0m \u001b[38;5;28;01mwith\u001b[39;00m SimpleTimer() \u001b[38;5;28;01mas\u001b[39;00m finalize_time:\n\u001b[1;32m    313\u001b[0m     mutated \u001b[38;5;241m|\u001b[39m\u001b[38;5;241m=\u001b[39m check(pss\u001b[38;5;241m.\u001b[39mrun_finalizer, internal_state)\n",
      "File \u001b[0;32m/opt/miniconda3/envs/RAJ/lib/python3.12/site-packages/numba/core/compiler_machinery.py:273\u001b[0m, in \u001b[0;36mPassManager._runPass.<locals>.check\u001b[0;34m(func, compiler_state)\u001b[0m\n\u001b[1;32m    272\u001b[0m \u001b[38;5;28;01mdef\u001b[39;00m \u001b[38;5;21mcheck\u001b[39m(func, compiler_state):\n\u001b[0;32m--> 273\u001b[0m     mangled \u001b[38;5;241m=\u001b[39m func(compiler_state)\n\u001b[1;32m    274\u001b[0m     \u001b[38;5;28;01mif\u001b[39;00m mangled \u001b[38;5;129;01mnot\u001b[39;00m \u001b[38;5;129;01min\u001b[39;00m (\u001b[38;5;28;01mTrue\u001b[39;00m, \u001b[38;5;28;01mFalse\u001b[39;00m):\n\u001b[1;32m    275\u001b[0m         msg \u001b[38;5;241m=\u001b[39m (\u001b[38;5;124m\"\u001b[39m\u001b[38;5;124mCompilerPass implementations should return True/False. \u001b[39m\u001b[38;5;124m\"\u001b[39m\n\u001b[1;32m    276\u001b[0m                \u001b[38;5;124m\"\u001b[39m\u001b[38;5;124mCompilerPass with name \u001b[39m\u001b[38;5;124m'\u001b[39m\u001b[38;5;132;01m%s\u001b[39;00m\u001b[38;5;124m'\u001b[39m\u001b[38;5;124m did not.\u001b[39m\u001b[38;5;124m\"\u001b[39m)\n",
      "File \u001b[0;32m/opt/miniconda3/envs/RAJ/lib/python3.12/site-packages/numba/core/typed_passes.py:112\u001b[0m, in \u001b[0;36mBaseTypeInference.run_pass\u001b[0;34m(self, state)\u001b[0m\n\u001b[1;32m    106\u001b[0m \u001b[38;5;250m\u001b[39m\u001b[38;5;124;03m\"\"\"\u001b[39;00m\n\u001b[1;32m    107\u001b[0m \u001b[38;5;124;03mType inference and legalization\u001b[39;00m\n\u001b[1;32m    108\u001b[0m \u001b[38;5;124;03m\"\"\"\u001b[39;00m\n\u001b[1;32m    109\u001b[0m \u001b[38;5;28;01mwith\u001b[39;00m fallback_context(state, \u001b[38;5;124m'\u001b[39m\u001b[38;5;124mFunction \u001b[39m\u001b[38;5;124m\"\u001b[39m\u001b[38;5;132;01m%s\u001b[39;00m\u001b[38;5;124m\"\u001b[39m\u001b[38;5;124m failed type inference\u001b[39m\u001b[38;5;124m'\u001b[39m\n\u001b[1;32m    110\u001b[0m                       \u001b[38;5;241m%\u001b[39m (state\u001b[38;5;241m.\u001b[39mfunc_id\u001b[38;5;241m.\u001b[39mfunc_name,)):\n\u001b[1;32m    111\u001b[0m     \u001b[38;5;66;03m# Type inference\u001b[39;00m\n\u001b[0;32m--> 112\u001b[0m     typemap, return_type, calltypes, errs \u001b[38;5;241m=\u001b[39m type_inference_stage(\n\u001b[1;32m    113\u001b[0m         state\u001b[38;5;241m.\u001b[39mtypingctx,\n\u001b[1;32m    114\u001b[0m         state\u001b[38;5;241m.\u001b[39mtargetctx,\n\u001b[1;32m    115\u001b[0m         state\u001b[38;5;241m.\u001b[39mfunc_ir,\n\u001b[1;32m    116\u001b[0m         state\u001b[38;5;241m.\u001b[39margs,\n\u001b[1;32m    117\u001b[0m         state\u001b[38;5;241m.\u001b[39mreturn_type,\n\u001b[1;32m    118\u001b[0m         state\u001b[38;5;241m.\u001b[39mlocals,\n\u001b[1;32m    119\u001b[0m         raise_errors\u001b[38;5;241m=\u001b[39m\u001b[38;5;28mself\u001b[39m\u001b[38;5;241m.\u001b[39m_raise_errors)\n\u001b[1;32m    120\u001b[0m     state\u001b[38;5;241m.\u001b[39mtypemap \u001b[38;5;241m=\u001b[39m typemap\n\u001b[1;32m    121\u001b[0m     \u001b[38;5;66;03m# save errors in case of partial typing\u001b[39;00m\n",
      "File \u001b[0;32m/opt/miniconda3/envs/RAJ/lib/python3.12/site-packages/numba/core/typed_passes.py:93\u001b[0m, in \u001b[0;36mtype_inference_stage\u001b[0;34m(typingctx, targetctx, interp, args, return_type, locals, raise_errors)\u001b[0m\n\u001b[1;32m     91\u001b[0m     infer\u001b[38;5;241m.\u001b[39mbuild_constraint()\n\u001b[1;32m     92\u001b[0m     \u001b[38;5;66;03m# return errors in case of partial typing\u001b[39;00m\n\u001b[0;32m---> 93\u001b[0m     errs \u001b[38;5;241m=\u001b[39m infer\u001b[38;5;241m.\u001b[39mpropagate(raise_errors\u001b[38;5;241m=\u001b[39mraise_errors)\n\u001b[1;32m     94\u001b[0m     typemap, restype, calltypes \u001b[38;5;241m=\u001b[39m infer\u001b[38;5;241m.\u001b[39munify(raise_errors\u001b[38;5;241m=\u001b[39mraise_errors)\n\u001b[1;32m     96\u001b[0m \u001b[38;5;28;01mreturn\u001b[39;00m _TypingResults(typemap, restype, calltypes, errs)\n",
      "File \u001b[0;32m/opt/miniconda3/envs/RAJ/lib/python3.12/site-packages/numba/core/typeinfer.py:1083\u001b[0m, in \u001b[0;36mTypeInferer.propagate\u001b[0;34m(self, raise_errors)\u001b[0m\n\u001b[1;32m   1080\u001b[0m oldtoken \u001b[38;5;241m=\u001b[39m newtoken\n\u001b[1;32m   1081\u001b[0m \u001b[38;5;66;03m# Errors can appear when the type set is incomplete; only\u001b[39;00m\n\u001b[1;32m   1082\u001b[0m \u001b[38;5;66;03m# raise them when there is no progress anymore.\u001b[39;00m\n\u001b[0;32m-> 1083\u001b[0m errors \u001b[38;5;241m=\u001b[39m \u001b[38;5;28mself\u001b[39m\u001b[38;5;241m.\u001b[39mconstraints\u001b[38;5;241m.\u001b[39mpropagate(\u001b[38;5;28mself\u001b[39m)\n\u001b[1;32m   1084\u001b[0m newtoken \u001b[38;5;241m=\u001b[39m \u001b[38;5;28mself\u001b[39m\u001b[38;5;241m.\u001b[39mget_state_token()\n\u001b[1;32m   1085\u001b[0m \u001b[38;5;28mself\u001b[39m\u001b[38;5;241m.\u001b[39mdebug\u001b[38;5;241m.\u001b[39mpropagate_finished()\n",
      "File \u001b[0;32m/opt/miniconda3/envs/RAJ/lib/python3.12/site-packages/numba/core/typeinfer.py:182\u001b[0m, in \u001b[0;36mConstraintNetwork.propagate\u001b[0;34m(self, typeinfer)\u001b[0m\n\u001b[1;32m    180\u001b[0m     errors\u001b[38;5;241m.\u001b[39mappend(utils\u001b[38;5;241m.\u001b[39mchain_exception(new_exc, e))\n\u001b[1;32m    181\u001b[0m \u001b[38;5;28;01melif\u001b[39;00m utils\u001b[38;5;241m.\u001b[39muse_new_style_errors():\n\u001b[0;32m--> 182\u001b[0m     \u001b[38;5;28;01mraise\u001b[39;00m e\n\u001b[1;32m    183\u001b[0m \u001b[38;5;28;01melse\u001b[39;00m:\n\u001b[1;32m    184\u001b[0m     msg \u001b[38;5;241m=\u001b[39m (\u001b[38;5;124m\"\u001b[39m\u001b[38;5;124mUnknown CAPTURED_ERRORS style: \u001b[39m\u001b[38;5;124m\"\u001b[39m\n\u001b[1;32m    185\u001b[0m            \u001b[38;5;124mf\u001b[39m\u001b[38;5;124m\"\u001b[39m\u001b[38;5;124m'\u001b[39m\u001b[38;5;132;01m{\u001b[39;00mconfig\u001b[38;5;241m.\u001b[39mCAPTURED_ERRORS\u001b[38;5;132;01m}\u001b[39;00m\u001b[38;5;124m'\u001b[39m\u001b[38;5;124m.\u001b[39m\u001b[38;5;124m\"\u001b[39m)\n",
      "File \u001b[0;32m/opt/miniconda3/envs/RAJ/lib/python3.12/site-packages/numba/core/typeinfer.py:160\u001b[0m, in \u001b[0;36mConstraintNetwork.propagate\u001b[0;34m(self, typeinfer)\u001b[0m\n\u001b[1;32m    157\u001b[0m \u001b[38;5;28;01mwith\u001b[39;00m typeinfer\u001b[38;5;241m.\u001b[39mwarnings\u001b[38;5;241m.\u001b[39mcatch_warnings(filename\u001b[38;5;241m=\u001b[39mloc\u001b[38;5;241m.\u001b[39mfilename,\n\u001b[1;32m    158\u001b[0m                                        lineno\u001b[38;5;241m=\u001b[39mloc\u001b[38;5;241m.\u001b[39mline):\n\u001b[1;32m    159\u001b[0m     \u001b[38;5;28;01mtry\u001b[39;00m:\n\u001b[0;32m--> 160\u001b[0m         constraint(typeinfer)\n\u001b[1;32m    161\u001b[0m     \u001b[38;5;28;01mexcept\u001b[39;00m ForceLiteralArg \u001b[38;5;28;01mas\u001b[39;00m e:\n\u001b[1;32m    162\u001b[0m         errors\u001b[38;5;241m.\u001b[39mappend(e)\n",
      "File \u001b[0;32m/opt/miniconda3/envs/RAJ/lib/python3.12/site-packages/numba/core/typeinfer.py:583\u001b[0m, in \u001b[0;36mCallConstraint.__call__\u001b[0;34m(self, typeinfer)\u001b[0m\n\u001b[1;32m    581\u001b[0m     fnty \u001b[38;5;241m=\u001b[39m typevars[\u001b[38;5;28mself\u001b[39m\u001b[38;5;241m.\u001b[39mfunc]\u001b[38;5;241m.\u001b[39mgetone()\n\u001b[1;32m    582\u001b[0m \u001b[38;5;28;01mwith\u001b[39;00m new_error_context(\u001b[38;5;124m\"\u001b[39m\u001b[38;5;124mresolving callee type: \u001b[39m\u001b[38;5;132;01m{0}\u001b[39;00m\u001b[38;5;124m\"\u001b[39m, fnty):\n\u001b[0;32m--> 583\u001b[0m     \u001b[38;5;28mself\u001b[39m\u001b[38;5;241m.\u001b[39mresolve(typeinfer, typevars, fnty)\n",
      "File \u001b[0;32m/opt/miniconda3/envs/RAJ/lib/python3.12/site-packages/numba/core/typeinfer.py:606\u001b[0m, in \u001b[0;36mCallConstraint.resolve\u001b[0;34m(self, typeinfer, typevars, fnty)\u001b[0m\n\u001b[1;32m    604\u001b[0m     fnty \u001b[38;5;241m=\u001b[39m fnty\u001b[38;5;241m.\u001b[39minstance_type\n\u001b[1;32m    605\u001b[0m \u001b[38;5;28;01mtry\u001b[39;00m:\n\u001b[0;32m--> 606\u001b[0m     sig \u001b[38;5;241m=\u001b[39m typeinfer\u001b[38;5;241m.\u001b[39mresolve_call(fnty, pos_args, kw_args)\n\u001b[1;32m    607\u001b[0m \u001b[38;5;28;01mexcept\u001b[39;00m ForceLiteralArg \u001b[38;5;28;01mas\u001b[39;00m e:\n\u001b[1;32m    608\u001b[0m     \u001b[38;5;66;03m# Adjust for bound methods\u001b[39;00m\n\u001b[1;32m    609\u001b[0m     folding_args \u001b[38;5;241m=\u001b[39m ((fnty\u001b[38;5;241m.\u001b[39mthis,) \u001b[38;5;241m+\u001b[39m \u001b[38;5;28mtuple\u001b[39m(\u001b[38;5;28mself\u001b[39m\u001b[38;5;241m.\u001b[39margs)\n\u001b[1;32m    610\u001b[0m                     \u001b[38;5;28;01mif\u001b[39;00m \u001b[38;5;28misinstance\u001b[39m(fnty, types\u001b[38;5;241m.\u001b[39mBoundFunction)\n\u001b[1;32m    611\u001b[0m                     \u001b[38;5;28;01melse\u001b[39;00m \u001b[38;5;28mself\u001b[39m\u001b[38;5;241m.\u001b[39margs)\n",
      "File \u001b[0;32m/opt/miniconda3/envs/RAJ/lib/python3.12/site-packages/numba/core/typeinfer.py:1577\u001b[0m, in \u001b[0;36mTypeInferer.resolve_call\u001b[0;34m(self, fnty, pos_args, kw_args)\u001b[0m\n\u001b[1;32m   1574\u001b[0m     \u001b[38;5;28;01mreturn\u001b[39;00m sig\n\u001b[1;32m   1575\u001b[0m \u001b[38;5;28;01melse\u001b[39;00m:\n\u001b[1;32m   1576\u001b[0m     \u001b[38;5;66;03m# Normal non-recursive call\u001b[39;00m\n\u001b[0;32m-> 1577\u001b[0m     \u001b[38;5;28;01mreturn\u001b[39;00m \u001b[38;5;28mself\u001b[39m\u001b[38;5;241m.\u001b[39mcontext\u001b[38;5;241m.\u001b[39mresolve_function_type(fnty, pos_args, kw_args)\n",
      "File \u001b[0;32m/opt/miniconda3/envs/RAJ/lib/python3.12/site-packages/numba/core/typing/context.py:196\u001b[0m, in \u001b[0;36mBaseContext.resolve_function_type\u001b[0;34m(self, func, args, kws)\u001b[0m\n\u001b[1;32m    194\u001b[0m \u001b[38;5;66;03m# Prefer user definition first\u001b[39;00m\n\u001b[1;32m    195\u001b[0m \u001b[38;5;28;01mtry\u001b[39;00m:\n\u001b[0;32m--> 196\u001b[0m     res \u001b[38;5;241m=\u001b[39m \u001b[38;5;28mself\u001b[39m\u001b[38;5;241m.\u001b[39m_resolve_user_function_type(func, args, kws)\n\u001b[1;32m    197\u001b[0m \u001b[38;5;28;01mexcept\u001b[39;00m errors\u001b[38;5;241m.\u001b[39mTypingError \u001b[38;5;28;01mas\u001b[39;00m e:\n\u001b[1;32m    198\u001b[0m     \u001b[38;5;66;03m# Capture any typing error\u001b[39;00m\n\u001b[1;32m    199\u001b[0m     last_exception \u001b[38;5;241m=\u001b[39m e\n",
      "File \u001b[0;32m/opt/miniconda3/envs/RAJ/lib/python3.12/site-packages/numba/core/typing/context.py:248\u001b[0m, in \u001b[0;36mBaseContext._resolve_user_function_type\u001b[0;34m(self, func, args, kws, literals)\u001b[0m\n\u001b[1;32m    244\u001b[0m         \u001b[38;5;28;01mreturn\u001b[39;00m \u001b[38;5;28mself\u001b[39m\u001b[38;5;241m.\u001b[39mresolve_function_type(func_type, args, kws)\n\u001b[1;32m    246\u001b[0m \u001b[38;5;28;01mif\u001b[39;00m \u001b[38;5;28misinstance\u001b[39m(func, types\u001b[38;5;241m.\u001b[39mCallable):\n\u001b[1;32m    247\u001b[0m     \u001b[38;5;66;03m# XXX fold this into the __call__ attribute logic?\u001b[39;00m\n\u001b[0;32m--> 248\u001b[0m     \u001b[38;5;28;01mreturn\u001b[39;00m func\u001b[38;5;241m.\u001b[39mget_call_type(\u001b[38;5;28mself\u001b[39m, args, kws)\n",
      "File \u001b[0;32m/opt/miniconda3/envs/RAJ/lib/python3.12/site-packages/numba/core/types/functions.py:541\u001b[0m, in \u001b[0;36mDispatcher.get_call_type\u001b[0;34m(self, context, args, kws)\u001b[0m\n\u001b[1;32m    534\u001b[0m \u001b[38;5;28;01mdef\u001b[39;00m \u001b[38;5;21mget_call_type\u001b[39m(\u001b[38;5;28mself\u001b[39m, context, args, kws):\n\u001b[1;32m    535\u001b[0m \u001b[38;5;250m    \u001b[39m\u001b[38;5;124;03m\"\"\"\u001b[39;00m\n\u001b[1;32m    536\u001b[0m \u001b[38;5;124;03m    Resolve a call to this dispatcher using the given argument types.\u001b[39;00m\n\u001b[1;32m    537\u001b[0m \u001b[38;5;124;03m    A signature returned and it is ensured that a compiled specialization\u001b[39;00m\n\u001b[1;32m    538\u001b[0m \u001b[38;5;124;03m    is available for it.\u001b[39;00m\n\u001b[1;32m    539\u001b[0m \u001b[38;5;124;03m    \"\"\"\u001b[39;00m\n\u001b[1;32m    540\u001b[0m     template, pysig, args, kws \u001b[38;5;241m=\u001b[39m \\\n\u001b[0;32m--> 541\u001b[0m         \u001b[38;5;28mself\u001b[39m\u001b[38;5;241m.\u001b[39mdispatcher\u001b[38;5;241m.\u001b[39mget_call_template(args, kws)\n\u001b[1;32m    542\u001b[0m     sig \u001b[38;5;241m=\u001b[39m template(context)\u001b[38;5;241m.\u001b[39mapply(args, kws)\n\u001b[1;32m    543\u001b[0m     \u001b[38;5;28;01mif\u001b[39;00m sig:\n",
      "File \u001b[0;32m/opt/miniconda3/envs/RAJ/lib/python3.12/site-packages/numba/core/dispatcher.py:314\u001b[0m, in \u001b[0;36m_DispatcherBase.get_call_template\u001b[0;34m(self, args, kws)\u001b[0m\n\u001b[1;32m    304\u001b[0m \u001b[38;5;250m\u001b[39m\u001b[38;5;124;03m\"\"\"\u001b[39;00m\n\u001b[1;32m    305\u001b[0m \u001b[38;5;124;03mGet a typing.ConcreteTemplate for this dispatcher and the given\u001b[39;00m\n\u001b[1;32m    306\u001b[0m \u001b[38;5;124;03m*args* and *kws* types.  This allows to resolve the return type.\u001b[39;00m\n\u001b[1;32m    307\u001b[0m \n\u001b[1;32m    308\u001b[0m \u001b[38;5;124;03mA (template, pysig, args, kws) tuple is returned.\u001b[39;00m\n\u001b[1;32m    309\u001b[0m \u001b[38;5;124;03m\"\"\"\u001b[39;00m\n\u001b[1;32m    310\u001b[0m \u001b[38;5;66;03m# XXX how about a dispatcher template class automating the\u001b[39;00m\n\u001b[1;32m    311\u001b[0m \u001b[38;5;66;03m# following?\u001b[39;00m\n\u001b[1;32m    312\u001b[0m \n\u001b[1;32m    313\u001b[0m \u001b[38;5;66;03m# Fold keyword arguments and resolve default values\u001b[39;00m\n\u001b[0;32m--> 314\u001b[0m pysig, args \u001b[38;5;241m=\u001b[39m \u001b[38;5;28mself\u001b[39m\u001b[38;5;241m.\u001b[39m_compiler\u001b[38;5;241m.\u001b[39mfold_argument_types(args, kws)\n\u001b[1;32m    315\u001b[0m kws \u001b[38;5;241m=\u001b[39m {}\n\u001b[1;32m    316\u001b[0m \u001b[38;5;66;03m# Ensure an overload is available\u001b[39;00m\n",
      "File \u001b[0;32m/opt/miniconda3/envs/RAJ/lib/python3.12/site-packages/numba/core/dispatcher.py:73\u001b[0m, in \u001b[0;36m_FunctionCompiler.fold_argument_types\u001b[0;34m(self, args, kws)\u001b[0m\n\u001b[1;32m     71\u001b[0m     \u001b[38;5;28;01mreturn\u001b[39;00m types\u001b[38;5;241m.\u001b[39mStarArgTuple(values)\n\u001b[1;32m     72\u001b[0m \u001b[38;5;66;03m# For now, we take argument values from the @jit function\u001b[39;00m\n\u001b[0;32m---> 73\u001b[0m args \u001b[38;5;241m=\u001b[39m fold_arguments(\u001b[38;5;28mself\u001b[39m\u001b[38;5;241m.\u001b[39mpysig, args, kws,\n\u001b[1;32m     74\u001b[0m                       normal_handler,\n\u001b[1;32m     75\u001b[0m                       default_handler,\n\u001b[1;32m     76\u001b[0m                       stararg_handler)\n\u001b[1;32m     77\u001b[0m \u001b[38;5;28;01mreturn\u001b[39;00m \u001b[38;5;28mself\u001b[39m\u001b[38;5;241m.\u001b[39mpysig, args\n",
      "File \u001b[0;32m/opt/miniconda3/envs/RAJ/lib/python3.12/site-packages/numba/core/typing/templates.py:220\u001b[0m, in \u001b[0;36mfold_arguments\u001b[0;34m(pysig, args, kws, normal_handler, default_handler, stararg_handler)\u001b[0m\n\u001b[1;32m    217\u001b[0m         bind_kws[n] \u001b[38;5;241m=\u001b[39m args[\u001b[38;5;28mlen\u001b[39m(kwonly) \u001b[38;5;241m+\u001b[39m idx]\n\u001b[1;32m    219\u001b[0m \u001b[38;5;66;03m# now bind\u001b[39;00m\n\u001b[0;32m--> 220\u001b[0m ba \u001b[38;5;241m=\u001b[39m pysig\u001b[38;5;241m.\u001b[39mbind(\u001b[38;5;241m*\u001b[39mbind_args, \u001b[38;5;241m*\u001b[39m\u001b[38;5;241m*\u001b[39mbind_kws)\n\u001b[1;32m    221\u001b[0m \u001b[38;5;28;01mfor\u001b[39;00m i, param \u001b[38;5;129;01min\u001b[39;00m \u001b[38;5;28menumerate\u001b[39m(pysig\u001b[38;5;241m.\u001b[39mparameters\u001b[38;5;241m.\u001b[39mvalues()):\n\u001b[1;32m    222\u001b[0m     name \u001b[38;5;241m=\u001b[39m param\u001b[38;5;241m.\u001b[39mname\n",
      "File \u001b[0;32m/opt/miniconda3/envs/RAJ/lib/python3.12/inspect.py:3273\u001b[0m, in \u001b[0;36mSignature.bind\u001b[0;34m(self, *args, **kwargs)\u001b[0m\n\u001b[1;32m   3268\u001b[0m \u001b[38;5;28;01mdef\u001b[39;00m \u001b[38;5;21mbind\u001b[39m(\u001b[38;5;28mself\u001b[39m, \u001b[38;5;241m/\u001b[39m, \u001b[38;5;241m*\u001b[39margs, \u001b[38;5;241m*\u001b[39m\u001b[38;5;241m*\u001b[39mkwargs):\n\u001b[1;32m   3269\u001b[0m \u001b[38;5;250m    \u001b[39m\u001b[38;5;124;03m\"\"\"Get a BoundArguments object, that maps the passed `args`\u001b[39;00m\n\u001b[1;32m   3270\u001b[0m \u001b[38;5;124;03m    and `kwargs` to the function's signature.  Raises `TypeError`\u001b[39;00m\n\u001b[1;32m   3271\u001b[0m \u001b[38;5;124;03m    if the passed arguments can not be bound.\u001b[39;00m\n\u001b[1;32m   3272\u001b[0m \u001b[38;5;124;03m    \"\"\"\u001b[39;00m\n\u001b[0;32m-> 3273\u001b[0m     \u001b[38;5;28;01mreturn\u001b[39;00m \u001b[38;5;28mself\u001b[39m\u001b[38;5;241m.\u001b[39m_bind(args, kwargs)\n",
      "File \u001b[0;32m/opt/miniconda3/envs/RAJ/lib/python3.12/inspect.py:3186\u001b[0m, in \u001b[0;36mSignature._bind\u001b[0;34m(self, args, kwargs, partial)\u001b[0m\n\u001b[1;32m   3184\u001b[0m                 msg \u001b[38;5;241m=\u001b[39m \u001b[38;5;124m'\u001b[39m\u001b[38;5;124mmissing a required\u001b[39m\u001b[38;5;132;01m{argtype}\u001b[39;00m\u001b[38;5;124m argument: \u001b[39m\u001b[38;5;132;01m{arg!r}\u001b[39;00m\u001b[38;5;124m'\u001b[39m\n\u001b[1;32m   3185\u001b[0m                 msg \u001b[38;5;241m=\u001b[39m msg\u001b[38;5;241m.\u001b[39mformat(arg\u001b[38;5;241m=\u001b[39mparam\u001b[38;5;241m.\u001b[39mname, argtype\u001b[38;5;241m=\u001b[39margtype)\n\u001b[0;32m-> 3186\u001b[0m                 \u001b[38;5;28;01mraise\u001b[39;00m \u001b[38;5;167;01mTypeError\u001b[39;00m(msg) \u001b[38;5;28;01mfrom\u001b[39;00m \u001b[38;5;28;01mNone\u001b[39;00m\n\u001b[1;32m   3187\u001b[0m \u001b[38;5;28;01melse\u001b[39;00m:\n\u001b[1;32m   3188\u001b[0m     \u001b[38;5;66;03m# We have a positional argument to process\u001b[39;00m\n\u001b[1;32m   3189\u001b[0m     \u001b[38;5;28;01mtry\u001b[39;00m:\n",
      "\u001b[0;31mTypeError\u001b[0m: missing a required argument: 'sl_percentage'"
     ]
    }
   ],
   "source": [
    "# Przeprowadzamy backtest na podstawie kolumny BUYSIG\n",
    "# vbt.Portfolio.from_signals wymaga cen, sygnałów kupna i sprzedaży\n",
    "entries = df['BUYSIG']  # Sygnały kupna\n",
    "exits = df['SELLSIG']   # Nie ma z góry określonych sygnałów sprzedaży\n",
    "\n",
    "# Tworzymy portfel z parametrami StopLoss i TakeProfit\n",
    "portfolio = vbt.Portfolio.from_signals(\n",
    "    \n",
    "    close=df['BTC'],  # Ceny zamknięcia\n",
    "    entries=entries,  # Sygnały wejścia\n",
    "    exits=exits,  # Sygnały wyjścia\n",
    "    sl_stop=SL,  # StopLoss w postaci procentowej\n",
    "    adjust_sl_func_nb=adjust_sl,  # Nasza funkcja do dynamicznego SL\n",
    "    aadjust_sl_args=(sl_percentage),\n",
    "    size=100\n",
    ")\n"
   ]
  },
  {
   "cell_type": "code",
   "execution_count": null,
   "id": "9af60a68-6228-49b2-b62a-6144840a323d",
   "metadata": {},
   "outputs": [],
   "source": [
    "# Wizualizacja wyników\n",
    "portfolio.plot().show()\n",
    "\n",
    "# Wyświetlenie podsumowania wyników\n",
    "print(portfolio.stats())\n",
    "\n",
    "print(portfolio.stats())\n",
    "print(portfolio.orders.records_readable)"
   ]
  },
  {
   "cell_type": "code",
   "execution_count": null,
   "id": "de555686-1911-4b91-822f-486087db7120",
   "metadata": {},
   "outputs": [],
   "source": []
  },
  {
   "cell_type": "code",
   "execution_count": null,
   "id": "55ec63a1-996f-467b-9196-4a6c6797af3e",
   "metadata": {},
   "outputs": [],
   "source": []
  },
  {
   "cell_type": "code",
   "execution_count": null,
   "id": "081778c2-3179-42bc-9284-e03c023c36b6",
   "metadata": {},
   "outputs": [],
   "source": []
  }
 ],
 "metadata": {
  "kernelspec": {
   "display_name": "Python 3 (ipykernel)",
   "language": "python",
   "name": "python3"
  },
  "language_info": {
   "codemirror_mode": {
    "name": "ipython",
    "version": 3
   },
   "file_extension": ".py",
   "mimetype": "text/x-python",
   "name": "python",
   "nbconvert_exporter": "python",
   "pygments_lexer": "ipython3",
   "version": "3.12.1"
  }
 },
 "nbformat": 4,
 "nbformat_minor": 5
}
