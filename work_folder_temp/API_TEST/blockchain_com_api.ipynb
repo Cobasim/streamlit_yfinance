{
 "cells": [
  {
   "cell_type": "code",
   "execution_count": 11,
   "id": "5ebac75b-0698-4e2b-b84a-d0f859bfbbfe",
   "metadata": {},
   "outputs": [],
   "source": [
    "import requests\n",
    "import pandas as pd"
   ]
  },
  {
   "cell_type": "code",
   "execution_count": null,
   "id": "2f2242b2-252a-49a6-89b2-7a3c73e4f7d3",
   "metadata": {},
   "outputs": [],
   "source": [
    "'''\n",
    "blockchain.com/\n",
    "blockchain.info\n",
    "\n",
    "Nie wiem jak dostac sie do API i wygenerowac klucz. Chyba wymagany jest pelen KYC.\n",
    "Ale jest dostep do paru public opcji\n",
    "\n",
    "Przykładowy GET\tOpis\n",
    "GET https://blockchain.info/latestblock\tZwraca informacje o najnowszym bloku.\n",
    "GET https://blockchain.info/rawblock/{block_hash}\tZwraca szczegółowe informacje o bloku na podstawie hash.\n",
    "GET https://blockchain.info/blocks/{block_height}?format=json\tZwraca informacje o bloku na podstawie wysokości.\n",
    "GET https://blockchain.info/rawtx/{tx_hash}\tZwraca szczegółowe informacje o transakcji na podstawie hash.\n",
    "GET https://blockchain.info/address/{address}?format=json\tZwraca informacje o transakcjach związanych z danym adresem.\n",
    "GET https://blockchain.info/ticker\tZwraca aktualne kursy wymiany Bitcoin do różnych walut.\n",
    "GET https://blockchain.info/stats\tZwraca ogólne statystyki dotyczące sieci Bitcoin.\n",
    "GET https://blockchain.info/unconfirmed-transactions?format=json\tZwraca listę niepotwierdzonych transakcji w sieci Bitcoin.\n",
    "GET https://blockchain.info/wallet/\tInformacje na temat wallet API (wymaga autoryzacji).\n",
    "\n",
    "Przykładowy GET\tOpis\n",
    "GET https://blockchain.info/latestblock\tZwraca informacje o najnowszym bloku.\n",
    "GET https://blockchain.info/rawblock/{block_hash}\tZwraca szczegółowe informacje o bloku na podstawie hash.\n",
    "GET https://blockchain.info/blocks/{block_height}?format=json\tZwraca informacje o bloku na podstawie wysokości.\n",
    "GET https://blockchain.info/rawtx/{tx_hash}\tZwraca szczegółowe informacje o transakcji na podstawie hash.\n",
    "GET https://blockchain.info/address/{address}?format=json\tZwraca informacje o transakcjach związanych z danym adresem.\n",
    "GET https://blockchain.info/ticker\tZwraca aktualne kursy wymiany Bitcoin do różnych walut.\n",
    "GET https://blockchain.info/stats\tZwraca ogólne statystyki dotyczące sieci Bitcoin.\n",
    "GET https://blockchain.info/unconfirmed-transactions?format=json\tZwraca listę niepotwierdzonych transakcji w sieci Bitcoin.\n",
    "GET https://blockchain.info/wallet/\tInformacje na temat wallet API (wymaga autoryzacji).\n",
    "GET https://blockchain.info/blocks/{block_height}\tZwraca informacje o bloku na podstawie jego wysokości (format JSON).\n",
    "GET https://blockchain.info/blocks/{block_height}/transactions?format=json\tZwraca transakcje w danym bloku na podstawie wysokości.\n",
    "GET https://blockchain.info/q/totalbc\tZwraca całkowitą ilość Bitcoinów w obiegu.\n",
    "GET https://blockchain.info/q/avgtxsize\tZwraca średni rozmiar transakcji w bajtach.\n",
    "GET https://blockchain.info/q/totalbc\tZwraca całkowitą liczbę Bitcoinów w obiegu.\n",
    "GET https://blockchain.info/q/getblockcount\tZwraca liczbę bloków w łańcuchu.\n",
    "'''"
   ]
  },
  {
   "cell_type": "markdown",
   "id": "43461180-a54f-408a-9ceb-e9af151f9c5e",
   "metadata": {},
   "source": [
    "# GetS"
   ]
  },
  {
   "cell_type": "code",
   "execution_count": 148,
   "id": "c7abd0fb-5196-48b0-ae4f-1759c592b813",
   "metadata": {},
   "outputs": [],
   "source": [
    "def get_latest_block():\n",
    "\n",
    "    # GET LATEST BLOCK\n",
    "    url = 'https://blockchain.info/latestblock'\n",
    "    resp = requests.get(url)\n",
    "    df = pd.DataFrame(eval(resp.text))\n",
    "    # print(f'LEN of blcok: {len(df)} hashes')\n",
    "    return df\n",
    "    \n",
    "\n",
    "def get_first_hash_in_block():\n",
    "\n",
    "    block = get_latest_block()\n",
    "    return block[0:1].hash.values[0]\n",
    "    \n",
    "def get_ticker():\n",
    "\n",
    "    # Endpoint do pobrania kursów wymiany\n",
    "    url = 'https://blockchain.info/ticker'\n",
    "    \n",
    "    # Wykonanie zapytania GET\n",
    "    response = requests.get(url)\n",
    "    \n",
    "    # Sprawdzenie, czy zapytanie było udane\n",
    "    TICK_LIST = []\n",
    "    if response.status_code == 200:\n",
    "        # Konwersja odpowiedzi na format JSON\n",
    "        data = response.json()\n",
    "        # Wyświetlenie kursów wymiany\n",
    "        for currency, values in data.items():\n",
    "            TICK_LIST.append(f\"1 BTC = {values['last']} {currency} (symbol: {values['symbol']})\")\n",
    "    else:\n",
    "        print(f\"Nie udało się pobrać danych: {response.status_code}\")\n",
    "\n",
    "    return TICK_LIST\n",
    "\n",
    "def get_raw_block_json_data(block_hash):\n",
    "    # Wprowadź hash bloku, który chcesz pobrać\n",
    "    # block_hash = '000000000000000000022d9abca110d8b75962a2ba0d698480840fd9023ba82d'  # Przykładowy hash\n",
    "    url = f'https://blockchain.info/rawblock/{block_hash}'\n",
    "    # print(url)\n",
    "    # Wykonanie zapytania GET\n",
    "    response = requests.get(url)\n",
    "    \n",
    "    # Sprawdzenie, czy zapytanie było udane\n",
    "    if response.status_code == 200:\n",
    "        print('ok')\n",
    "        # Konwersja odpowiedzi na format JSON\n",
    "        block_data = response.json()\n",
    "\n",
    "    return block_data"
   ]
  },
  {
   "cell_type": "markdown",
   "id": "9af053ff-9d3a-4d2f-b489-7dd21909255a",
   "metadata": {},
   "source": [
    "# MAIN"
   ]
  },
  {
   "cell_type": "code",
   "execution_count": 149,
   "id": "d467f7f9-05dc-4a8e-a25d-f22d80e38ea7",
   "metadata": {},
   "outputs": [],
   "source": [
    "#--------------------------------------\n",
    "# Kursy wymiany BTC live\n",
    "#--------------------------------------\n",
    "'''\n",
    "['1 BTC = 59481063.91 ARS (symbol: ARS)',\n",
    " '1 BTC = 90748.04 AUD (symbol: AUD)',\n",
    " '1 BTC = 341402.28 BRL (symbol: BRL)',\n",
    " '1 BTC = 83813.39 CAD (symbol: CAD)',\n",
    " '1 BTC = 52457.79 CHF (symbol: CHF)',\n",
    " '1 BTC = 56952047.13 CLP (symbol: CLP)',\n",
    " '1 BTC = 431698.81 CNY (symbol: CNY)',\n",
    "'''\n",
    "TICK_LIST = get_ticker()"
   ]
  },
  {
   "cell_type": "code",
   "execution_count": 150,
   "id": "251951ff-bf25-4a33-93ea-52c9e7028d79",
   "metadata": {},
   "outputs": [],
   "source": [
    "#--------------------------------------\n",
    "# LATEST BLOCK\n",
    "#--------------------------------------\n",
    "'''\n",
    "hash\ttime\tblock_index\theight\ttxIndexes\n",
    "0\t000000000000000000009edc71e2d7b1cd2590a1cca36f...\t1728554909\t865019\t865019\t3717614965033843\n",
    "1\t000000000000000000009edc71e2d7b1cd2590a1cca36f...\t1728554909\t865019\t865019\t4800611061204992\n",
    "'''\n",
    "LATEST_BLOCK = get_latest_block()"
   ]
  },
  {
   "cell_type": "code",
   "execution_count": 151,
   "id": "c2e8d091-572b-40b9-9b8c-7e9d1e8365f5",
   "metadata": {},
   "outputs": [],
   "source": [
    "#--------------------------------------\n",
    "# FIRST HASH IN BLOCK\n",
    "#--------------------------------------\n",
    "'''\n",
    "'00000000000000000000cbccaef66a79a5aa719c30e0f6114621dbb19f91d9bd'\n",
    "'''\n",
    "HASH = get_first_hash_in_block()"
   ]
  },
  {
   "cell_type": "code",
   "execution_count": 152,
   "id": "577ff4fd-139c-481b-8544-5ec9edbc83e4",
   "metadata": {},
   "outputs": [],
   "source": [
    "#--------------------------------------\n",
    "# \n",
    "#--------------------------------------"
   ]
  },
  {
   "cell_type": "code",
   "execution_count": 153,
   "id": "ca64498d-8acc-4eb1-8bea-4e44c4304fc0",
   "metadata": {},
   "outputs": [],
   "source": [
    "#--------------------------------------\n",
    "# \n",
    "#--------------------------------------"
   ]
  },
  {
   "cell_type": "code",
   "execution_count": 176,
   "id": "322a139b-8f79-4c92-8746-003484b7db60",
   "metadata": {},
   "outputs": [
    {
     "name": "stdout",
     "output_type": "stream",
     "text": [
      "ok\n"
     ]
    }
   ],
   "source": [
    "#--------------------------------------\n",
    "# GET RAW BLOCK\n",
    "#--------------------------------------\n",
    "'''\n",
    "w tx out jest wartosc transakcji, ile btc\n",
    "{'hash': '000000000000000000022d9abca110d8b75962a2ba0d698480840fd9023ba82d',\n",
    " 'ver': 536936448,\n",
    " 'prev_block': '00000000000000000000216ff0b423639299b75fdf83a58d7e218f53af3a5b05',\n",
    " 'mrkl_root': 'a0c11105304a095e33a54c819b29122bb441dfea570d39f450143b08faa1e0ef',\n",
    " 'time': 1728553247,\n",
    " 'bits': 386076365,\n",
    " 'next_block': ['000000000000000000009edc71e2d7b1cd2590a1cca36fb9d5b032a9571133a6'],\n",
    " 'fee': 17181998,\n",
    " 'nonce': 880706365,\n",
    " 'n_tx': 4207,\n",
    " 'size': 1711316,\n",
    " 'block_index': 865018,\n",
    " 'main_chain': True,\n",
    " 'height': 865018,\n",
    " 'weight': 3998045,\n",
    " 'tx': [{'hash': '6782a38ecbf7c15f5959334269a2056d1712b37bcd6b4eccd9ac1fb1cb08b435',\n",
    "   'ver': 1,\n",
    "   'vin_sz': 1,\n",
    "   'vout_sz': 6,\n",
    "   'size': 458,\n",
    "'''\n",
    "# Wprowadź hash bloku, który chcesz pobrać\n",
    "block_hash = '000000000000000000022d9abca110d8b75962a2ba0d698480840fd9023ba82d'  # Przykładowy hash\n",
    "json_block = get_raw_block_json_data(block_hash)\n"
   ]
  },
  {
   "cell_type": "markdown",
   "id": "bd382491-da2e-4031-a506-3e9bdadff622",
   "metadata": {},
   "source": [
    "# TEMP"
   ]
  },
  {
   "cell_type": "code",
   "execution_count": null,
   "id": "4b536e66-a356-46f5-9f2c-a9226f2e6174",
   "metadata": {},
   "outputs": [],
   "source": []
  }
 ],
 "metadata": {
  "kernelspec": {
   "display_name": "Python 3 (ipykernel)",
   "language": "python",
   "name": "python3"
  },
  "language_info": {
   "codemirror_mode": {
    "name": "ipython",
    "version": 3
   },
   "file_extension": ".py",
   "mimetype": "text/x-python",
   "name": "python",
   "nbconvert_exporter": "python",
   "pygments_lexer": "ipython3",
   "version": "3.12.7"
  }
 },
 "nbformat": 4,
 "nbformat_minor": 5
}
