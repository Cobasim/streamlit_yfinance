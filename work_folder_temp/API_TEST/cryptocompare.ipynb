{
 "cells": [
  {
   "cell_type": "code",
   "execution_count": 1,
   "id": "ba4b7e60-6faa-488d-8a36-845047fac69a",
   "metadata": {},
   "outputs": [],
   "source": [
    "import requests\n",
    "import pandas as pd\n",
    "from datetime import datetime\n",
    "from tqdm import tqdm"
   ]
  },
  {
   "cell_type": "code",
   "execution_count": 2,
   "id": "f2c59c76-026c-425f-b92e-646f0f8a3bbc",
   "metadata": {},
   "outputs": [
    {
     "data": {
      "text/plain": [
       "'\\nMocno ograniczone dane historyczne\\n\\n'"
      ]
     },
     "execution_count": 2,
     "metadata": {},
     "output_type": "execute_result"
    }
   ],
   "source": [
    "'''\n",
    "Mocno ograniczone dane historyczne\n",
    "\n",
    "Ręczne pobieranie powoduje:\n",
    "'{\"Response\":\"Error\",\"Message\":\"You are over your rate limit please upgrade your account!\",\"HasWarning\":false,\"Type\":99,\"RateLimit\":{\"calls_made\":{\"second\":2,\"minute\":4,\"hour\":6,\"day\":12254,\"month\":12256,\"total_calls\":12256},\"max_calls\":{\"second\":20,\"minute\":300,\"hour\":3000,\"day\":7500,\"month\":50000}},\"Data\":{}}'\n",
    "'''"
   ]
  },
  {
   "cell_type": "markdown",
   "id": "8ecc6475-82a4-4f3a-81ed-a13a3a2b0af4",
   "metadata": {},
   "source": [
    "# Gets"
   ]
  },
  {
   "cell_type": "code",
   "execution_count": 3,
   "id": "8034d5ff-dd55-48ab-815d-664fc4c89b0e",
   "metadata": {},
   "outputs": [],
   "source": [
    "#--------------------------------------\n",
    "# \n",
    "#--------------------------------------"
   ]
  },
  {
   "cell_type": "code",
   "execution_count": 4,
   "id": "967078a2-7c4c-42ae-98e8-1554ea21c689",
   "metadata": {},
   "outputs": [],
   "source": [
    "def ts_from_date(date_str):\n",
    "    # Przykładowa data\\\n",
    "\n",
    "    # date_str = '2020-10-30'\n",
    "    \n",
    "    \n",
    "    date = datetime.strptime(date_str, '%Y-%m-%d')\n",
    "    \n",
    "    # Konwersja daty na znacznik czasu\n",
    "    ts = int(date.timestamp())\n",
    "    \n",
    "    # print(\"Znacznik czasu:\", ts)\n",
    "    return ts\n",
    "\n",
    "    \n",
    "def date_from_ts(ts):\n",
    "\n",
    "    date_str = datetime.fromtimestamp(ts).date()\n",
    "    return date_str\n",
    "\n",
    "\n",
    "def get_btc_value_by_date(str_date):\n",
    "    # str_date = '2020-10-10'\n",
    "    ts = ts_from_date(str_date)\n",
    "    \n",
    "    url = f'https://min-api.cryptocompare.com/data/pricehistorical?fsym=BTC&tsyms=USD&ts={ts}'\n",
    "    \n",
    "    resp = requests.get(url)\n",
    "    btc_value = eval(resp.text)['BTC']['USD']\n",
    "\n",
    "    return btc_value"
   ]
  },
  {
   "cell_type": "code",
   "execution_count": null,
   "id": "e86ac063-8f6d-460a-beb8-08fa4948d578",
   "metadata": {},
   "outputs": [],
   "source": []
  },
  {
   "cell_type": "markdown",
   "id": "9e3ebb88-c509-4dd2-8f87-c911fa3994dc",
   "metadata": {},
   "source": [
    "# Main"
   ]
  },
  {
   "cell_type": "code",
   "execution_count": 5,
   "id": "f39c3464-96ae-4561-a050-701b79523004",
   "metadata": {},
   "outputs": [],
   "source": [
    "apik = 'f57072ab111fc5791b302c5f78051de1d27270ea0282df5c4d22b36bcc8d0d16'"
   ]
  },
  {
   "cell_type": "code",
   "execution_count": 6,
   "id": "0f037831-10e0-4993-a71b-4930e9024d05",
   "metadata": {},
   "outputs": [],
   "source": [
    "#--------------------------------------\n",
    "# \n",
    "#--------------------------------------\n",
    "\n",
    "url = 'https://min-api.cryptocompare.com/data/v2/histoday?fsym=BTC&tsym=USD'#&limit=1000'"
   ]
  },
  {
   "cell_type": "code",
   "execution_count": 7,
   "id": "27b8f061-57f0-47ae-933f-739702251c89",
   "metadata": {},
   "outputs": [],
   "source": [
    "#--------------------------------------\n",
    "# \n",
    "#--------------------------------------\n"
   ]
  },
  {
   "cell_type": "code",
   "execution_count": null,
   "id": "97009623-091b-4d41-8820-420dc58a8595",
   "metadata": {},
   "outputs": [],
   "source": []
  },
  {
   "cell_type": "markdown",
   "id": "471f279d-5db6-48f4-b3cd-d7f4ad666675",
   "metadata": {},
   "source": [
    "# TEMOP"
   ]
  },
  {
   "cell_type": "code",
   "execution_count": null,
   "id": "52f17854-c157-4eb0-bf50-25ae15e8c6a0",
   "metadata": {},
   "outputs": [],
   "source": []
  },
  {
   "cell_type": "code",
   "execution_count": null,
   "id": "b3f3fcfc-5410-4966-821e-43ce28f7172f",
   "metadata": {},
   "outputs": [],
   "source": []
  },
  {
   "cell_type": "code",
   "execution_count": 8,
   "id": "94e88eab-878d-47e8-aa88-9f2931f73a65",
   "metadata": {},
   "outputs": [
    {
     "ename": "NameError",
     "evalue": "name 'false' is not defined",
     "output_type": "error",
     "traceback": [
      "\u001b[0;31m---------------------------------------------------------------------------\u001b[0m",
      "\u001b[0;31mNameError\u001b[0m                                 Traceback (most recent call last)",
      "Cell \u001b[0;32mIn[8], line 1\u001b[0m\n\u001b[0;32m----> 1\u001b[0m get_btc_value_by_date(\u001b[38;5;124m'\u001b[39m\u001b[38;5;124m2010-10-09\u001b[39m\u001b[38;5;124m'\u001b[39m)\n",
      "Cell \u001b[0;32mIn[4], line 29\u001b[0m, in \u001b[0;36mget_btc_value_by_date\u001b[0;34m(str_date)\u001b[0m\n\u001b[1;32m     26\u001b[0m url \u001b[38;5;241m=\u001b[39m \u001b[38;5;124mf\u001b[39m\u001b[38;5;124m'\u001b[39m\u001b[38;5;124mhttps://min-api.cryptocompare.com/data/pricehistorical?fsym=BTC&tsyms=USD&ts=\u001b[39m\u001b[38;5;132;01m{\u001b[39;00mts\u001b[38;5;132;01m}\u001b[39;00m\u001b[38;5;124m'\u001b[39m\n\u001b[1;32m     28\u001b[0m resp \u001b[38;5;241m=\u001b[39m requests\u001b[38;5;241m.\u001b[39mget(url)\n\u001b[0;32m---> 29\u001b[0m btc_value \u001b[38;5;241m=\u001b[39m \u001b[38;5;28meval\u001b[39m(resp\u001b[38;5;241m.\u001b[39mtext)[\u001b[38;5;124m'\u001b[39m\u001b[38;5;124mBTC\u001b[39m\u001b[38;5;124m'\u001b[39m][\u001b[38;5;124m'\u001b[39m\u001b[38;5;124mUSD\u001b[39m\u001b[38;5;124m'\u001b[39m]\n\u001b[1;32m     31\u001b[0m \u001b[38;5;28;01mreturn\u001b[39;00m btc_value\n",
      "File \u001b[0;32m<string>:1\u001b[0m\n",
      "\u001b[0;31mNameError\u001b[0m: name 'false' is not defined"
     ]
    }
   ],
   "source": [
    "get_btc_value_by_date('2010-10-09')"
   ]
  },
  {
   "cell_type": "markdown",
   "id": "010f8d5b-d24b-4e42-9927-48d5e319b4cb",
   "metadata": {},
   "source": [
    "# DATE RANGE LOOP TO GET BTC DATA"
   ]
  },
  {
   "cell_type": "code",
   "execution_count": null,
   "id": "16905aab-8632-4172-a8c1-8d3c40c4d224",
   "metadata": {},
   "outputs": [],
   "source": [
    "%%time\n",
    "date_range = pd.date_range(start='01/01/2008', end='1/02/2025')\n",
    "\n",
    "INIT_DICT = False\n",
    "if INIT_DICT:\n",
    "    btc_dict = {}\n",
    "else:\n",
    "    btc_dict = dict(pd.read_pickle('btc_dict.pck')[0])\n",
    "\n",
    "# display only date using date() function\n",
    "for i in tqdm(date_range):\n",
    "    #--------------------\n",
    "    try:\n",
    "        # print()\n",
    "        str_date = str(i.date())\n",
    "    \n",
    "        if str_date in btc_dict.keys():\n",
    "            print(f'.', end='')\n",
    "        else:\n",
    "            ts = ts_from_date(str_date)\n",
    "            \n",
    "            url = f'https://min-api.cryptocompare.com/data/pricehistorical?fsym=BTC&tsyms=USD&ts={ts}'\n",
    "            resp = requests.get(url)\n",
    "            btc_value = eval(resp.text)['BTC']['USD']\n",
    "        \n",
    "            btc_dict[str_date] = btc_value\n",
    "    \n",
    "            # DUMP\n",
    "            df = pd.DataFrame([btc_dict]).T\n",
    "            df.to_pickle('btc_dict.pck')\n",
    "    except:\n",
    "        print('@', end='')\n"
   ]
  },
  {
   "cell_type": "code",
   "execution_count": 10,
   "id": "7ebd6c08-9854-4ed8-bca3-cf14fa28cae8",
   "metadata": {},
   "outputs": [],
   "source": [
    "ts = ts_from_date('2010-10-09')\n",
    "\n",
    "url = f'https://min-api.cryptocompare.com/data/pricehistorical?fsym=BTC&tsyms=USD&ts={ts}'\n",
    "\n",
    "resp = requests.get(url)"
   ]
  },
  {
   "cell_type": "code",
   "execution_count": 11,
   "id": "1f529832-2c85-41d2-8684-13fd33e448c0",
   "metadata": {},
   "outputs": [
    {
     "data": {
      "text/plain": [
       "<Response [200]>"
      ]
     },
     "execution_count": 11,
     "metadata": {},
     "output_type": "execute_result"
    }
   ],
   "source": [
    "resp"
   ]
  },
  {
   "cell_type": "code",
   "execution_count": 12,
   "id": "1fe72716-8c66-4766-9dc9-f6ba6c86ea89",
   "metadata": {},
   "outputs": [
    {
     "data": {
      "text/plain": [
       "'{\"Response\":\"Error\",\"Message\":\"You are over your rate limit please upgrade your account!\",\"HasWarning\":false,\"Type\":99,\"RateLimit\":{\"calls_made\":{\"second\":2,\"minute\":4,\"hour\":6,\"day\":12254,\"month\":12256,\"total_calls\":12256},\"max_calls\":{\"second\":20,\"minute\":300,\"hour\":3000,\"day\":7500,\"month\":50000}},\"Data\":{}}'"
      ]
     },
     "execution_count": 12,
     "metadata": {},
     "output_type": "execute_result"
    }
   ],
   "source": [
    "resp.text"
   ]
  },
  {
   "cell_type": "code",
   "execution_count": null,
   "id": "6eed56f2-c9a3-408c-8847-c9bc7898677d",
   "metadata": {},
   "outputs": [],
   "source": []
  }
 ],
 "metadata": {
  "kernelspec": {
   "display_name": "Python 3 (ipykernel)",
   "language": "python",
   "name": "python3"
  },
  "language_info": {
   "codemirror_mode": {
    "name": "ipython",
    "version": 3
   },
   "file_extension": ".py",
   "mimetype": "text/x-python",
   "name": "python",
   "nbconvert_exporter": "python",
   "pygments_lexer": "ipython3",
   "version": "3.12.7"
  }
 },
 "nbformat": 4,
 "nbformat_minor": 5
}
