{
 "cells": [
  {
   "cell_type": "code",
   "execution_count": 12,
   "id": "08fb4571-ad4f-4ddf-8af6-8ede10c392d1",
   "metadata": {
    "jupyter": {
     "source_hidden": true
    }
   },
   "outputs": [],
   "source": [
    "import numpy as np\n",
    "import pandas as pd\n",
    "from datetime import datetime\n",
    "\n",
    "from numba import njit\n",
    "\n",
    "import vectorbt as vbt\n",
    "# from vectorbt.utils.colors import adjust_opacity\n",
    "from vectorbt.utils.enum_ import map_enum_fields\n",
    "# from vectorbt.base.reshape_fns import broadcast, flex_select_auto_nb, to_2d_array\n",
    "# from vectorbt.portfolio.enums import SizeType, Direction, NoOrder, OrderStatus, OrderSide\n",
    "# from vectorbt.portfolio import nb\n",
    "\n",
    "import plotly.graph_objects as go\n",
    "import plotly.express as px\n",
    "import typing as tp"
   ]
  },
  {
   "cell_type": "code",
   "execution_count": 10,
   "id": "bc1dbe41-50d1-4197-b06d-43ce624e79c7",
   "metadata": {
    "jupyter": {
     "source_hidden": true
    }
   },
   "outputs": [],
   "source": [
    "# def get_df():\n",
    "#     symbols = ['BTC-USD']\n",
    "#     start = '2022-01-01 UTC'  # crypto is UTC\n",
    "#     end = '2022-09-01 UTC'\n",
    "#     # OHLCV by column\n",
    "#     egg = vbt.YFData.download(symbols, start=start, end=end).concat()\n",
    "#     df = pd.DataFrame(egg)\n",
    "#     return df[['Close']]\n",
    "# df = get_df()\n",
    "# df.head(3)"
   ]
  },
  {
   "cell_type": "code",
   "execution_count": null,
   "id": "d00815c4-f38d-4b93-98dd-be3ad334fc4f",
   "metadata": {},
   "outputs": [],
   "source": []
  },
  {
   "cell_type": "markdown",
   "id": "12894ef4-9ce1-4378-a495-a7fff32b1762",
   "metadata": {},
   "source": [
    "# VECTOR TESTY"
   ]
  },
  {
   "cell_type": "code",
   "execution_count": 23,
   "id": "9a177a05-6008-4740-b070-b19523f3613c",
   "metadata": {},
   "outputs": [
    {
     "name": "stdout",
     "output_type": "stream",
     "text": [
      "Ceny:\n",
      " 0    37.454012\n",
      "1    95.071431\n",
      "2    73.199394\n",
      "3    59.865848\n",
      "4    15.601864\n",
      "5    15.599452\n",
      "6     5.808361\n",
      "7    86.617615\n",
      "8    60.111501\n",
      "9    70.807258\n",
      "dtype: float64\n",
      "Start                           0.000000\n",
      "End                             9.000000\n",
      "Period                         10.000000\n",
      "Start Value                   100.000000\n",
      "End Value                     117.390231\n",
      "Total Return [%]               17.390231\n",
      "Benchmark Return [%]           89.051197\n",
      "Max Gross Exposure [%]        100.000000\n",
      "Total Fees Paid                 0.000000\n",
      "Max Drawdown [%]               93.890529\n",
      "Max Drawdown Duration           8.000000\n",
      "Total Trades                    2.000000\n",
      "Total Closed Trades             1.000000\n",
      "Total Open Trades               1.000000\n",
      "Open Trade PnL                  0.000000\n",
      "Win Rate [%]                  100.000000\n",
      "Best Trade [%]                 17.390231\n",
      "Worst Trade [%]                17.390231\n",
      "Avg Winning Trade [%]          17.390231\n",
      "Avg Losing Trade [%]                 NaN\n",
      "Avg Winning Trade Duration      9.000000\n",
      "Avg Losing Trade Duration            NaN\n",
      "Profit Factor                        inf\n",
      "Expectancy                     17.390231\n",
      "dtype: float64\n"
     ]
    },
    {
     "name": "stderr",
     "output_type": "stream",
     "text": [
      "/opt/miniconda3/envs/RAJ/lib/python3.12/site-packages/vectorbt/generic/stats_builder.py:396: UserWarning:\n",
      "\n",
      "Metric 'sharpe_ratio' requires frequency to be set\n",
      "\n",
      "/opt/miniconda3/envs/RAJ/lib/python3.12/site-packages/vectorbt/generic/stats_builder.py:396: UserWarning:\n",
      "\n",
      "Metric 'calmar_ratio' requires frequency to be set\n",
      "\n",
      "/opt/miniconda3/envs/RAJ/lib/python3.12/site-packages/vectorbt/generic/stats_builder.py:396: UserWarning:\n",
      "\n",
      "Metric 'omega_ratio' requires frequency to be set\n",
      "\n",
      "/opt/miniconda3/envs/RAJ/lib/python3.12/site-packages/vectorbt/generic/stats_builder.py:396: UserWarning:\n",
      "\n",
      "Metric 'sortino_ratio' requires frequency to be set\n",
      "\n"
     ]
    }
   ],
   "source": [
    "import numpy as np\n",
    "import pandas as pd\n",
    "import vectorbt as vbt\n",
    "\n",
    "# Generowanie przykładowych danych - 10 losowych cen\n",
    "np.random.seed(42)\n",
    "price = pd.Series(np.random.rand(10) * 100)  # 10 losowych cen w zakresie 0-100\n",
    "\n",
    "# Wyświetlenie cen\n",
    "print(\"Ceny:\\n\", price)\n",
    "\n",
    "# Inicjalizacja zamówień\n",
    "size = np.ones(len(price))  # Kupuj codziennie\n",
    "size[-1] = -np.sum(size[:-1])  # Sprzedaj wszystkie otwarte pozycje na końcu\n",
    "\n",
    "# Utworzenie portfela z zamówieniami\n",
    "portfolio = vbt.Portfolio.from_orders(\n",
    "    close=price,  # Ceny zamknięcia\n",
    "    size=size,  # Rozmiar zamówienia\n",
    "    init_cash=100  # Inicjalny kapitał\n",
    ")\n",
    "\n",
    "# Wyświetlenie statystyk portfela\n",
    "print(portfolio.stats())\n",
    "# portfolio.plot().show()"
   ]
  },
  {
   "cell_type": "code",
   "execution_count": 24,
   "id": "b009d30f-7e59-441f-b553-a9c4760092c9",
   "metadata": {},
   "outputs": [
    {
     "data": {
      "text/plain": [
       "array([ 1.,  1.,  1.,  1.,  1.,  1.,  1.,  1.,  1., -9.])"
      ]
     },
     "execution_count": 24,
     "metadata": {},
     "output_type": "execute_result"
    }
   ],
   "source": [
    "size"
   ]
  },
  {
   "cell_type": "code",
   "execution_count": 25,
   "id": "8bc99b38-687e-4bd6-9c8b-52dfb1596991",
   "metadata": {},
   "outputs": [],
   "source": [
    "# direction = ['longonly', 'shortonly']  # per column\n",
    "\n",
    "# @njit\n",
    "# def NUMB(c, stop_price, entries, exits, size):\n",
    "#     return None\n",
    "\n",
    "# pf = vbt.Portfolio.from_order_func(\n",
    "#     close = df.Close,\n",
    "#     order_func_nb = NUMB\n",
    "    \n",
    "# )\n",
    "\n",
    "# pf.orders.records_readable"
   ]
  },
  {
   "cell_type": "code",
   "execution_count": 26,
   "id": "edf78135-6efd-4858-8e35-d927f0c6bd0a",
   "metadata": {},
   "outputs": [
    {
     "data": {
      "text/plain": [
       "0    37.454012\n",
       "1    95.071431\n",
       "2    73.199394\n",
       "3    59.865848\n",
       "4    15.601864\n",
       "5    15.599452\n",
       "6     5.808361\n",
       "7    86.617615\n",
       "8    60.111501\n",
       "9    70.807258\n",
       "dtype: float64"
      ]
     },
     "execution_count": 26,
     "metadata": {},
     "output_type": "execute_result"
    }
   ],
   "source": [
    "price"
   ]
  },
  {
   "cell_type": "code",
   "execution_count": 27,
   "id": "82b9be65-e58e-408b-a558-6b360673fc89",
   "metadata": {},
   "outputs": [
    {
     "data": {
      "text/html": [
       "<div>\n",
       "<style scoped>\n",
       "    .dataframe tbody tr th:only-of-type {\n",
       "        vertical-align: middle;\n",
       "    }\n",
       "\n",
       "    .dataframe tbody tr th {\n",
       "        vertical-align: top;\n",
       "    }\n",
       "\n",
       "    .dataframe thead th {\n",
       "        text-align: right;\n",
       "    }\n",
       "</style>\n",
       "<table border=\"1\" class=\"dataframe\">\n",
       "  <thead>\n",
       "    <tr style=\"text-align: right;\">\n",
       "      <th></th>\n",
       "      <th>id</th>\n",
       "      <th>col</th>\n",
       "      <th>idx</th>\n",
       "      <th>size</th>\n",
       "      <th>price</th>\n",
       "      <th>fees</th>\n",
       "      <th>side</th>\n",
       "    </tr>\n",
       "  </thead>\n",
       "  <tbody>\n",
       "    <tr>\n",
       "      <th>0</th>\n",
       "      <td>0</td>\n",
       "      <td>0</td>\n",
       "      <td>0</td>\n",
       "      <td>1.000000</td>\n",
       "      <td>37.454012</td>\n",
       "      <td>0.0</td>\n",
       "      <td>0</td>\n",
       "    </tr>\n",
       "    <tr>\n",
       "      <th>1</th>\n",
       "      <td>1</td>\n",
       "      <td>0</td>\n",
       "      <td>1</td>\n",
       "      <td>0.657884</td>\n",
       "      <td>95.071431</td>\n",
       "      <td>0.0</td>\n",
       "      <td>0</td>\n",
       "    </tr>\n",
       "    <tr>\n",
       "      <th>2</th>\n",
       "      <td>2</td>\n",
       "      <td>0</td>\n",
       "      <td>9</td>\n",
       "      <td>9.000000</td>\n",
       "      <td>70.807258</td>\n",
       "      <td>0.0</td>\n",
       "      <td>1</td>\n",
       "    </tr>\n",
       "  </tbody>\n",
       "</table>\n",
       "</div>"
      ],
      "text/plain": [
       "   id  col  idx      size      price  fees  side\n",
       "0   0    0    0  1.000000  37.454012   0.0     0\n",
       "1   1    0    1  0.657884  95.071431   0.0     0\n",
       "2   2    0    9  9.000000  70.807258   0.0     1"
      ]
     },
     "execution_count": 27,
     "metadata": {},
     "output_type": "execute_result"
    }
   ],
   "source": [
    "portfolio.orders.records"
   ]
  },
  {
   "cell_type": "code",
   "execution_count": null,
   "id": "19ab75a4-a3ae-48a4-bd2d-7249e2d5c43e",
   "metadata": {},
   "outputs": [],
   "source": []
  },
  {
   "cell_type": "code",
   "execution_count": null,
   "id": "77e7dedf-b30f-40d8-a6dc-7bd8e6a4d34f",
   "metadata": {},
   "outputs": [],
   "source": []
  }
 ],
 "metadata": {
  "kernelspec": {
   "display_name": "Python 3 (ipykernel)",
   "language": "python",
   "name": "python3"
  },
  "language_info": {
   "codemirror_mode": {
    "name": "ipython",
    "version": 3
   },
   "file_extension": ".py",
   "mimetype": "text/x-python",
   "name": "python",
   "nbconvert_exporter": "python",
   "pygments_lexer": "ipython3",
   "version": "3.12.7"
  }
 },
 "nbformat": 4,
 "nbformat_minor": 5
}
