{
 "cells": [
  {
   "cell_type": "code",
   "execution_count": 1,
   "id": "05b2fa24-5c3d-4a91-b6b1-d8780791fc6c",
   "metadata": {},
   "outputs": [],
   "source": [
    "import pandas as pd\n",
    "from datetime import datetime\n",
    "import numpy as np\n",
    "from tqdm import tqdm\n",
    "\n",
    "import plotly.graph_objects as go\n",
    "import plotly.express as px"
   ]
  },
  {
   "cell_type": "markdown",
   "id": "68d6aaf6-7562-44e6-95d2-2f99167b58de",
   "metadata": {
    "jupyter": {
     "source_hidden": true
    }
   },
   "source": [
    "# ConsT"
   ]
  },
  {
   "cell_type": "code",
   "execution_count": null,
   "id": "ea5c66f3-b825-46c8-8d4e-3e7c48267ba8",
   "metadata": {
    "jupyter": {
     "source_hidden": true
    }
   },
   "outputs": [],
   "source": [
    "BTC = '../btc_data/BTC.pck'"
   ]
  },
  {
   "cell_type": "markdown",
   "id": "dcb0640d-a62b-44ef-9dcb-0c90b9afc680",
   "metadata": {
    "jupyter": {
     "source_hidden": true
    }
   },
   "source": [
    "# DeFS"
   ]
  },
  {
   "cell_type": "code",
   "execution_count": 3,
   "id": "d24c94d1-36d1-4c56-95e9-c6e0fe69e40a",
   "metadata": {
    "jupyter": {
     "source_hidden": true
    }
   },
   "outputs": [],
   "source": [
    "def get_BTC():\n",
    "    df = pd.read_pickle(BTC)\n",
    "    return df"
   ]
  },
  {
   "cell_type": "code",
   "execution_count": 11,
   "id": "0df4732c-9ef3-47d7-9d4e-a16263cda619",
   "metadata": {},
   "outputs": [],
   "source": [
    "def show_stats(egg, col_epoch='e', col_values='BTC'):\n",
    "    epoka_stats = egg.groupby(col_epoch)[col_values].agg(['mean', 'min', 'max', 'std', 'median', 'count'])\n",
    "    \n",
    "    # Wyświetlenie wynikowej tabeli\n",
    "    return (epoka_stats)"
   ]
  },
  {
   "cell_type": "markdown",
   "id": "f58f6055-c731-417f-9ca7-2da5bdff0608",
   "metadata": {},
   "source": [
    "# MaiN"
   ]
  },
  {
   "cell_type": "code",
   "execution_count": 20,
   "id": "504150e4-f782-41bd-8f2d-86e2e3739f42",
   "metadata": {},
   "outputs": [
    {
     "data": {
      "text/html": [
       "<div>\n",
       "<style scoped>\n",
       "    .dataframe tbody tr th:only-of-type {\n",
       "        vertical-align: middle;\n",
       "    }\n",
       "\n",
       "    .dataframe tbody tr th {\n",
       "        vertical-align: top;\n",
       "    }\n",
       "\n",
       "    .dataframe thead th {\n",
       "        text-align: right;\n",
       "    }\n",
       "</style>\n",
       "<table border=\"1\" class=\"dataframe\">\n",
       "  <thead>\n",
       "    <tr style=\"text-align: right;\">\n",
       "      <th></th>\n",
       "      <th>dfh</th>\n",
       "      <th>e</th>\n",
       "      <th>BTC</th>\n",
       "    </tr>\n",
       "  </thead>\n",
       "  <tbody>\n",
       "    <tr>\n",
       "      <th>2024-11-08</th>\n",
       "      <td>203.0</td>\n",
       "      <td>5</td>\n",
       "      <td>60630.94</td>\n",
       "    </tr>\n",
       "    <tr>\n",
       "      <th>2024-11-09</th>\n",
       "      <td>204.0</td>\n",
       "      <td>5</td>\n",
       "      <td>60630.94</td>\n",
       "    </tr>\n",
       "    <tr>\n",
       "      <th>2024-11-10</th>\n",
       "      <td>205.0</td>\n",
       "      <td>5</td>\n",
       "      <td>60689.04</td>\n",
       "    </tr>\n",
       "  </tbody>\n",
       "</table>\n",
       "</div>"
      ],
      "text/plain": [
       "              dfh  e       BTC\n",
       "2024-11-08  203.0  5  60630.94\n",
       "2024-11-09  204.0  5  60630.94\n",
       "2024-11-10  205.0  5  60689.04"
      ]
     },
     "execution_count": 20,
     "metadata": {},
     "output_type": "execute_result"
    }
   ],
   "source": [
    "df = get_BTC()\n",
    "df.tail(3)"
   ]
  },
  {
   "cell_type": "code",
   "execution_count": 21,
   "id": "62da8c20-f7fe-4356-ae09-005e258e128f",
   "metadata": {},
   "outputs": [
    {
     "data": {
      "text/html": [
       "<div>\n",
       "<style scoped>\n",
       "    .dataframe tbody tr th:only-of-type {\n",
       "        vertical-align: middle;\n",
       "    }\n",
       "\n",
       "    .dataframe tbody tr th {\n",
       "        vertical-align: top;\n",
       "    }\n",
       "\n",
       "    .dataframe thead th {\n",
       "        text-align: right;\n",
       "    }\n",
       "</style>\n",
       "<table border=\"1\" class=\"dataframe\">\n",
       "  <thead>\n",
       "    <tr style=\"text-align: right;\">\n",
       "      <th></th>\n",
       "      <th>mean</th>\n",
       "      <th>min</th>\n",
       "      <th>max</th>\n",
       "      <th>std</th>\n",
       "      <th>median</th>\n",
       "      <th>count</th>\n",
       "    </tr>\n",
       "    <tr>\n",
       "      <th>e</th>\n",
       "      <th></th>\n",
       "      <th></th>\n",
       "      <th></th>\n",
       "      <th></th>\n",
       "      <th></th>\n",
       "      <th></th>\n",
       "    </tr>\n",
       "  </thead>\n",
       "  <tbody>\n",
       "    <tr>\n",
       "      <th>1</th>\n",
       "      <td>5.240525</td>\n",
       "      <td>0.04951</td>\n",
       "      <td>29.60</td>\n",
       "      <td>4.877265</td>\n",
       "      <td>4.8605</td>\n",
       "      <td>844</td>\n",
       "    </tr>\n",
       "    <tr>\n",
       "      <th>2</th>\n",
       "      <td>337.852427</td>\n",
       "      <td>10.82000</td>\n",
       "      <td>1237.55</td>\n",
       "      <td>227.196627</td>\n",
       "      <td>295.6000</td>\n",
       "      <td>1339</td>\n",
       "    </tr>\n",
       "    <tr>\n",
       "      <th>3</th>\n",
       "      <td>5757.937568</td>\n",
       "      <td>513.43000</td>\n",
       "      <td>19345.49</td>\n",
       "      <td>3707.967492</td>\n",
       "      <td>6318.4150</td>\n",
       "      <td>1402</td>\n",
       "    </tr>\n",
       "    <tr>\n",
       "      <th>4</th>\n",
       "      <td>32778.438242</td>\n",
       "      <td>8568.88000</td>\n",
       "      <td>73118.09</td>\n",
       "      <td>15532.774170</td>\n",
       "      <td>29907.9800</td>\n",
       "      <td>1439</td>\n",
       "    </tr>\n",
       "    <tr>\n",
       "      <th>5</th>\n",
       "      <td>62541.461311</td>\n",
       "      <td>53954.33000</td>\n",
       "      <td>71430.23</td>\n",
       "      <td>3780.369979</td>\n",
       "      <td>61742.1050</td>\n",
       "      <td>206</td>\n",
       "    </tr>\n",
       "  </tbody>\n",
       "</table>\n",
       "</div>"
      ],
      "text/plain": [
       "           mean          min       max           std      median  count\n",
       "e                                                                      \n",
       "1      5.240525      0.04951     29.60      4.877265      4.8605    844\n",
       "2    337.852427     10.82000   1237.55    227.196627    295.6000   1339\n",
       "3   5757.937568    513.43000  19345.49   3707.967492   6318.4150   1402\n",
       "4  32778.438242   8568.88000  73118.09  15532.774170  29907.9800   1439\n",
       "5  62541.461311  53954.33000  71430.23   3780.369979  61742.1050    206"
      ]
     },
     "execution_count": 21,
     "metadata": {},
     "output_type": "execute_result"
    }
   ],
   "source": [
    "egg = show_stats(df)\n",
    "egg"
   ]
  },
  {
   "cell_type": "code",
   "execution_count": 23,
   "id": "c6cdd071-97ee-44c1-8394-610b5f9f5ae5",
   "metadata": {},
   "outputs": [
    {
     "data": {
      "text/html": [
       "<div>\n",
       "<style scoped>\n",
       "    .dataframe tbody tr th:only-of-type {\n",
       "        vertical-align: middle;\n",
       "    }\n",
       "\n",
       "    .dataframe tbody tr th {\n",
       "        vertical-align: top;\n",
       "    }\n",
       "\n",
       "    .dataframe thead th {\n",
       "        text-align: right;\n",
       "    }\n",
       "</style>\n",
       "<table border=\"1\" class=\"dataframe\">\n",
       "  <thead>\n",
       "    <tr style=\"text-align: right;\">\n",
       "      <th></th>\n",
       "      <th>mean</th>\n",
       "      <th>min</th>\n",
       "      <th>max</th>\n",
       "      <th>std</th>\n",
       "      <th>median</th>\n",
       "      <th>count</th>\n",
       "    </tr>\n",
       "    <tr>\n",
       "      <th>e</th>\n",
       "      <th></th>\n",
       "      <th></th>\n",
       "      <th></th>\n",
       "      <th></th>\n",
       "      <th></th>\n",
       "      <th></th>\n",
       "    </tr>\n",
       "  </thead>\n",
       "  <tbody>\n",
       "    <tr>\n",
       "      <th>1</th>\n",
       "      <td>982.5</td>\n",
       "      <td>561.0</td>\n",
       "      <td>1404.0</td>\n",
       "      <td>243.786108</td>\n",
       "      <td>982.5</td>\n",
       "      <td>844</td>\n",
       "    </tr>\n",
       "    <tr>\n",
       "      <th>2</th>\n",
       "      <td>669.0</td>\n",
       "      <td>0.0</td>\n",
       "      <td>1338.0</td>\n",
       "      <td>386.680316</td>\n",
       "      <td>669.0</td>\n",
       "      <td>1339</td>\n",
       "    </tr>\n",
       "    <tr>\n",
       "      <th>3</th>\n",
       "      <td>700.5</td>\n",
       "      <td>0.0</td>\n",
       "      <td>1401.0</td>\n",
       "      <td>404.866851</td>\n",
       "      <td>700.5</td>\n",
       "      <td>1402</td>\n",
       "    </tr>\n",
       "    <tr>\n",
       "      <th>4</th>\n",
       "      <td>719.0</td>\n",
       "      <td>0.0</td>\n",
       "      <td>1438.0</td>\n",
       "      <td>415.547831</td>\n",
       "      <td>719.0</td>\n",
       "      <td>1439</td>\n",
       "    </tr>\n",
       "    <tr>\n",
       "      <th>5</th>\n",
       "      <td>102.5</td>\n",
       "      <td>0.0</td>\n",
       "      <td>205.0</td>\n",
       "      <td>59.611241</td>\n",
       "      <td>102.5</td>\n",
       "      <td>206</td>\n",
       "    </tr>\n",
       "  </tbody>\n",
       "</table>\n",
       "</div>"
      ],
      "text/plain": [
       "    mean    min     max         std  median  count\n",
       "e                                                 \n",
       "1  982.5  561.0  1404.0  243.786108   982.5    844\n",
       "2  669.0    0.0  1338.0  386.680316   669.0   1339\n",
       "3  700.5    0.0  1401.0  404.866851   700.5   1402\n",
       "4  719.0    0.0  1438.0  415.547831   719.0   1439\n",
       "5  102.5    0.0   205.0   59.611241   102.5    206"
      ]
     },
     "execution_count": 23,
     "metadata": {},
     "output_type": "execute_result"
    }
   ],
   "source": [
    "epoka_stats = df.groupby('e')['dfh'].agg(['mean', 'min', 'max', 'std', 'median', 'count'])\n",
    "epoka_stats"
   ]
  },
  {
   "cell_type": "code",
   "execution_count": 18,
   "id": "b8141130-6954-4bad-952d-7ef8f4b0aa71",
   "metadata": {},
   "outputs": [
    {
     "data": {
      "text/plain": [
       "Index(['mean', 'min', 'max', 'std', 'median', 'count', 'X', 'A', 'B', 'C',\n",
       "       'D'],\n",
       "      dtype='object')"
      ]
     },
     "execution_count": 18,
     "metadata": {},
     "output_type": "execute_result"
    }
   ],
   "source": [
    "egg.columns"
   ]
  },
  {
   "cell_type": "code",
   "execution_count": 19,
   "id": "976decb0-0281-4038-a8a2-35d02b4160ca",
   "metadata": {},
   "outputs": [
    {
     "data": {
      "text/html": [
       "<div>\n",
       "<style scoped>\n",
       "    .dataframe tbody tr th:only-of-type {\n",
       "        vertical-align: middle;\n",
       "    }\n",
       "\n",
       "    .dataframe tbody tr th {\n",
       "        vertical-align: top;\n",
       "    }\n",
       "\n",
       "    .dataframe thead th {\n",
       "        text-align: right;\n",
       "    }\n",
       "</style>\n",
       "<table border=\"1\" class=\"dataframe\">\n",
       "  <thead>\n",
       "    <tr style=\"text-align: right;\">\n",
       "      <th></th>\n",
       "      <th>mean</th>\n",
       "      <th>min</th>\n",
       "      <th>max</th>\n",
       "      <th>std</th>\n",
       "      <th>median</th>\n",
       "      <th>count</th>\n",
       "      <th>X</th>\n",
       "      <th>A</th>\n",
       "      <th>B</th>\n",
       "      <th>C</th>\n",
       "      <th>D</th>\n",
       "    </tr>\n",
       "    <tr>\n",
       "      <th>e</th>\n",
       "      <th></th>\n",
       "      <th></th>\n",
       "      <th></th>\n",
       "      <th></th>\n",
       "      <th></th>\n",
       "      <th></th>\n",
       "      <th></th>\n",
       "      <th></th>\n",
       "      <th></th>\n",
       "      <th></th>\n",
       "      <th></th>\n",
       "    </tr>\n",
       "  </thead>\n",
       "  <tbody>\n",
       "    <tr>\n",
       "      <th>1</th>\n",
       "      <td>5.240525</td>\n",
       "      <td>0.04951</td>\n",
       "      <td>29.60</td>\n",
       "      <td>4.877265</td>\n",
       "      <td>4.8605</td>\n",
       "      <td>844</td>\n",
       "      <td>1.074480</td>\n",
       "      <td>1.074480</td>\n",
       "      <td>0.996563</td>\n",
       "      <td>0.930683</td>\n",
       "      <td>1.003449</td>\n",
       "    </tr>\n",
       "    <tr>\n",
       "      <th>2</th>\n",
       "      <td>337.852427</td>\n",
       "      <td>10.82000</td>\n",
       "      <td>1237.55</td>\n",
       "      <td>227.196627</td>\n",
       "      <td>295.6000</td>\n",
       "      <td>1339</td>\n",
       "      <td>1.487049</td>\n",
       "      <td>1.487049</td>\n",
       "      <td>1.301076</td>\n",
       "      <td>0.672473</td>\n",
       "      <td>0.768595</td>\n",
       "    </tr>\n",
       "    <tr>\n",
       "      <th>3</th>\n",
       "      <td>5757.937568</td>\n",
       "      <td>513.43000</td>\n",
       "      <td>19345.49</td>\n",
       "      <td>3707.967492</td>\n",
       "      <td>6318.4150</td>\n",
       "      <td>1402</td>\n",
       "      <td>1.552855</td>\n",
       "      <td>1.552855</td>\n",
       "      <td>1.704010</td>\n",
       "      <td>0.643975</td>\n",
       "      <td>0.586851</td>\n",
       "    </tr>\n",
       "    <tr>\n",
       "      <th>4</th>\n",
       "      <td>32778.438242</td>\n",
       "      <td>8568.88000</td>\n",
       "      <td>73118.09</td>\n",
       "      <td>15532.774170</td>\n",
       "      <td>29907.9800</td>\n",
       "      <td>1439</td>\n",
       "      <td>2.110276</td>\n",
       "      <td>2.110276</td>\n",
       "      <td>1.925476</td>\n",
       "      <td>0.473872</td>\n",
       "      <td>0.519352</td>\n",
       "    </tr>\n",
       "    <tr>\n",
       "      <th>5</th>\n",
       "      <td>62541.461311</td>\n",
       "      <td>53954.33000</td>\n",
       "      <td>71430.23</td>\n",
       "      <td>3780.369979</td>\n",
       "      <td>61742.1050</td>\n",
       "      <td>206</td>\n",
       "      <td>16.543741</td>\n",
       "      <td>16.543741</td>\n",
       "      <td>16.332292</td>\n",
       "      <td>0.060446</td>\n",
       "      <td>0.061228</td>\n",
       "    </tr>\n",
       "  </tbody>\n",
       "</table>\n",
       "</div>"
      ],
      "text/plain": [
       "           mean          min       max           std      median  count  \\\n",
       "e                                                                         \n",
       "1      5.240525      0.04951     29.60      4.877265      4.8605    844   \n",
       "2    337.852427     10.82000   1237.55    227.196627    295.6000   1339   \n",
       "3   5757.937568    513.43000  19345.49   3707.967492   6318.4150   1402   \n",
       "4  32778.438242   8568.88000  73118.09  15532.774170  29907.9800   1439   \n",
       "5  62541.461311  53954.33000  71430.23   3780.369979  61742.1050    206   \n",
       "\n",
       "           X          A          B         C         D  \n",
       "e                                                       \n",
       "1   1.074480   1.074480   0.996563  0.930683  1.003449  \n",
       "2   1.487049   1.487049   1.301076  0.672473  0.768595  \n",
       "3   1.552855   1.552855   1.704010  0.643975  0.586851  \n",
       "4   2.110276   2.110276   1.925476  0.473872  0.519352  \n",
       "5  16.543741  16.543741  16.332292  0.060446  0.061228  "
      ]
     },
     "execution_count": 19,
     "metadata": {},
     "output_type": "execute_result"
    }
   ],
   "source": [
    "egg"
   ]
  },
  {
   "cell_type": "code",
   "execution_count": null,
   "id": "8b00e002-2256-4f60-8669-0d9247aa643e",
   "metadata": {},
   "outputs": [],
   "source": []
  }
 ],
 "metadata": {
  "kernelspec": {
   "display_name": "Python 3 (ipykernel)",
   "language": "python",
   "name": "python3"
  },
  "language_info": {
   "codemirror_mode": {
    "name": "ipython",
    "version": 3
   },
   "file_extension": ".py",
   "mimetype": "text/x-python",
   "name": "python",
   "nbconvert_exporter": "python",
   "pygments_lexer": "ipython3",
   "version": "3.12.7"
  }
 },
 "nbformat": 4,
 "nbformat_minor": 5
}
