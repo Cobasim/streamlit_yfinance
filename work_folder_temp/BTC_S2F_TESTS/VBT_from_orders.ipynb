{
 "cells": [
  {
   "cell_type": "code",
   "execution_count": 14,
   "id": "ffbc4bca-c789-49b6-abb9-35bee716462c",
   "metadata": {},
   "outputs": [
    {
     "name": "stdout",
     "output_type": "stream",
     "text": [
      "Zamówienia wejścia:\n",
      "   Entry Trade Id  Column  Size  Entry Timestamp  Avg Entry Price  Entry Fees  \\\n",
      "0               0       0   1.0                0              1.0         1.0   \n",
      "1               1       0   1.0                1              2.0         1.0   \n",
      "2               2       0   1.0                2              3.0         1.0   \n",
      "3               3       0   1.0                3              4.0         1.0   \n",
      "\n",
      "   Exit Timestamp  Avg Exit Price  Exit Fees   PnL  Return Direction  Status  \\\n",
      "0               4             5.0       0.25  2.75  2.7500      Long  Closed   \n",
      "1               4             5.0       0.25  1.75  0.8750      Long  Closed   \n",
      "2               4             5.0       0.25  0.75  0.2500      Long  Closed   \n",
      "3               4             5.0       0.25 -0.25 -0.0625      Long  Closed   \n",
      "\n",
      "   Position Id  \n",
      "0            0  \n",
      "1            0  \n",
      "2            0  \n",
      "3            0  \n",
      "\n",
      "Zamówienia wyjścia:\n",
      "   Exit Trade Id  Column  Size  Entry Timestamp  Avg Entry Price  Entry Fees  \\\n",
      "0              0       0   4.0                0              2.5         4.0   \n",
      "\n",
      "   Exit Timestamp  Avg Exit Price  Exit Fees  PnL  Return Direction  Status  \\\n",
      "0               4             5.0        1.0  5.0     0.5      Long  Closed   \n",
      "\n",
      "   Position Id  \n",
      "0            0  \n",
      "\n",
      "Pozycje:\n",
      "   Position Id  Column  Size  Entry Timestamp  Avg Entry Price  Entry Fees  \\\n",
      "0            0       0   4.0                0              2.5         4.0   \n",
      "\n",
      "   Exit Timestamp  Avg Exit Price  Exit Fees  PnL  Return Direction  Status  \n",
      "0               4             5.0        1.0  5.0     0.5      Long  Closed  \n"
     ]
    }
   ],
   "source": [
    "import pandas as pd\n",
    "import vectorbt as vbt\n",
    "\n",
    "# Przygotowanie danych\n",
    "close = pd.Series([1., 2., 3., 4., 5.])  # Szereg cen zamknięcia\n",
    "size = pd.Series([1., 1., 1., 1., -4.])  # Zamówienia (zakupy i sprzedaże)\n",
    "\n",
    "# Tworzenie portfela z zamówień\n",
    "portfolio = vbt.Portfolio.from_orders(\n",
    "    close=close,\n",
    "    size=size,\n",
    "    fixed_fees=1.0\n",
    ")\n",
    "\n",
    "# Zbieranie danych o transakcjach\n",
    "entry_trades = portfolio.entry_trades.records_readable\n",
    "exit_trades = portfolio.exit_trades.records_readable\n",
    "positions = portfolio.positions.records_readable\n",
    "\n",
    "# Wyświetlanie wyników\n",
    "print(\"Zamówienia wejścia:\")\n",
    "print(entry_trades)\n",
    "print(\"\\nZamówienia wyjścia:\")\n",
    "print(exit_trades)\n",
    "print(\"\\nPozycje:\")\n",
    "print(positions)\n"
   ]
  },
  {
   "cell_type": "code",
   "execution_count": null,
   "id": "7a6fa140-18a9-4c76-b541-b0f5d217d3bc",
   "metadata": {},
   "outputs": [],
   "source": []
  }
 ],
 "metadata": {
  "kernelspec": {
   "display_name": "Python 3 (ipykernel)",
   "language": "python",
   "name": "python3"
  },
  "language_info": {
   "codemirror_mode": {
    "name": "ipython",
    "version": 3
   },
   "file_extension": ".py",
   "mimetype": "text/x-python",
   "name": "python",
   "nbconvert_exporter": "python",
   "pygments_lexer": "ipython3",
   "version": "3.12.1"
  }
 },
 "nbformat": 4,
 "nbformat_minor": 5
}
