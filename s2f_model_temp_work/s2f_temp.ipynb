{
 "cells": [
  {
   "cell_type": "code",
   "execution_count": 1,
   "id": "05b2fa24-5c3d-4a91-b6b1-d8780791fc6c",
   "metadata": {
    "tags": []
   },
   "outputs": [],
   "source": [
    "import pandas as pd\n",
    "from datetime import datetime\n",
    "import numpy as np\n",
    "from tqdm import tqdm\n",
    "\n",
    "import plotly.graph_objects as go\n",
    "import plotly.express as px\n",
    "\n",
    "import seaborn as sns\n",
    "import matplotlib.pyplot as plt"
   ]
  },
  {
   "cell_type": "code",
   "execution_count": 18,
   "id": "b21fefb6-af8f-4d6d-b309-d0ebc5961bbd",
   "metadata": {
    "tags": []
   },
   "outputs": [],
   "source": [
    "import pandas as pd\n",
    "import numpy as np\n",
    "from sklearn.preprocessing import PolynomialFeatures\n",
    "from sklearn.linear_model import LinearRegression\n",
    "import matplotlib.pyplot as plt"
   ]
  },
  {
   "cell_type": "markdown",
   "id": "68d6aaf6-7562-44e6-95d2-2f99167b58de",
   "metadata": {
    "tags": []
   },
   "source": [
    "# ConsT"
   ]
  },
  {
   "cell_type": "code",
   "execution_count": 19,
   "id": "ea5c66f3-b825-46c8-8d4e-3e7c48267ba8",
   "metadata": {
    "jupyter": {
     "source_hidden": true
    },
    "tags": []
   },
   "outputs": [],
   "source": [
    "BTC = '../btc_data/BTC.pck'"
   ]
  },
  {
   "cell_type": "markdown",
   "id": "dcb0640d-a62b-44ef-9dcb-0c90b9afc680",
   "metadata": {
    "tags": []
   },
   "source": [
    "# DeFS"
   ]
  },
  {
   "cell_type": "code",
   "execution_count": 20,
   "id": "d24c94d1-36d1-4c56-95e9-c6e0fe69e40a",
   "metadata": {
    "jupyter": {
     "source_hidden": true
    },
    "tags": []
   },
   "outputs": [],
   "source": [
    "def get_BTC():\n",
    "    df = pd.read_pickle(BTC)\n",
    "    return df"
   ]
  },
  {
   "cell_type": "code",
   "execution_count": 21,
   "id": "0df4732c-9ef3-47d7-9d4e-a16263cda619",
   "metadata": {
    "tags": []
   },
   "outputs": [],
   "source": [
    "def show_stats(egg, col_epoch='e', col_values='BTC'):\n",
    "    epoka_stats = egg.groupby(col_epoch)[col_values].agg(['mean', 'min', 'max', 'std', 'median', 'count'])\n",
    "    \n",
    "    # Wyświetlenie wynikowej tabeli\n",
    "    return (epoka_stats)"
   ]
  },
  {
   "cell_type": "markdown",
   "id": "f58f6055-c731-417f-9ca7-2da5bdff0608",
   "metadata": {},
   "source": [
    "# MaiN"
   ]
  },
  {
   "cell_type": "code",
   "execution_count": 22,
   "id": "504150e4-f782-41bd-8f2d-86e2e3739f42",
   "metadata": {
    "tags": []
   },
   "outputs": [
    {
     "data": {
      "text/html": [
       "<div>\n",
       "<style scoped>\n",
       "    .dataframe tbody tr th:only-of-type {\n",
       "        vertical-align: middle;\n",
       "    }\n",
       "\n",
       "    .dataframe tbody tr th {\n",
       "        vertical-align: top;\n",
       "    }\n",
       "\n",
       "    .dataframe thead th {\n",
       "        text-align: right;\n",
       "    }\n",
       "</style>\n",
       "<table border=\"1\" class=\"dataframe\">\n",
       "  <thead>\n",
       "    <tr style=\"text-align: right;\">\n",
       "      <th></th>\n",
       "      <th>dfh</th>\n",
       "      <th>e</th>\n",
       "      <th>BTC</th>\n",
       "    </tr>\n",
       "  </thead>\n",
       "  <tbody>\n",
       "    <tr>\n",
       "      <th>2024-11-08</th>\n",
       "      <td>203.0</td>\n",
       "      <td>5</td>\n",
       "      <td>60630.94</td>\n",
       "    </tr>\n",
       "    <tr>\n",
       "      <th>2024-11-09</th>\n",
       "      <td>204.0</td>\n",
       "      <td>5</td>\n",
       "      <td>60630.94</td>\n",
       "    </tr>\n",
       "    <tr>\n",
       "      <th>2024-11-10</th>\n",
       "      <td>205.0</td>\n",
       "      <td>5</td>\n",
       "      <td>60689.04</td>\n",
       "    </tr>\n",
       "  </tbody>\n",
       "</table>\n",
       "</div>"
      ],
      "text/plain": [
       "              dfh  e       BTC\n",
       "2024-11-08  203.0  5  60630.94\n",
       "2024-11-09  204.0  5  60630.94\n",
       "2024-11-10  205.0  5  60689.04"
      ]
     },
     "execution_count": 22,
     "metadata": {},
     "output_type": "execute_result"
    }
   ],
   "source": [
    "df = get_BTC()\n",
    "df.tail(3)"
   ]
  },
  {
   "cell_type": "code",
   "execution_count": 23,
   "id": "62da8c20-f7fe-4356-ae09-005e258e128f",
   "metadata": {
    "tags": []
   },
   "outputs": [
    {
     "data": {
      "text/html": [
       "<div>\n",
       "<style scoped>\n",
       "    .dataframe tbody tr th:only-of-type {\n",
       "        vertical-align: middle;\n",
       "    }\n",
       "\n",
       "    .dataframe tbody tr th {\n",
       "        vertical-align: top;\n",
       "    }\n",
       "\n",
       "    .dataframe thead th {\n",
       "        text-align: right;\n",
       "    }\n",
       "</style>\n",
       "<table border=\"1\" class=\"dataframe\">\n",
       "  <thead>\n",
       "    <tr style=\"text-align: right;\">\n",
       "      <th></th>\n",
       "      <th>mean</th>\n",
       "      <th>min</th>\n",
       "      <th>max</th>\n",
       "      <th>std</th>\n",
       "      <th>median</th>\n",
       "      <th>count</th>\n",
       "    </tr>\n",
       "    <tr>\n",
       "      <th>e</th>\n",
       "      <th></th>\n",
       "      <th></th>\n",
       "      <th></th>\n",
       "      <th></th>\n",
       "      <th></th>\n",
       "      <th></th>\n",
       "    </tr>\n",
       "  </thead>\n",
       "  <tbody>\n",
       "    <tr>\n",
       "      <th>1</th>\n",
       "      <td>5.240525</td>\n",
       "      <td>0.04951</td>\n",
       "      <td>29.60</td>\n",
       "      <td>4.877265</td>\n",
       "      <td>4.8605</td>\n",
       "      <td>844</td>\n",
       "    </tr>\n",
       "    <tr>\n",
       "      <th>2</th>\n",
       "      <td>337.852427</td>\n",
       "      <td>10.82000</td>\n",
       "      <td>1237.55</td>\n",
       "      <td>227.196627</td>\n",
       "      <td>295.6000</td>\n",
       "      <td>1339</td>\n",
       "    </tr>\n",
       "    <tr>\n",
       "      <th>3</th>\n",
       "      <td>5757.937568</td>\n",
       "      <td>513.43000</td>\n",
       "      <td>19345.49</td>\n",
       "      <td>3707.967492</td>\n",
       "      <td>6318.4150</td>\n",
       "      <td>1402</td>\n",
       "    </tr>\n",
       "    <tr>\n",
       "      <th>4</th>\n",
       "      <td>32778.438242</td>\n",
       "      <td>8568.88000</td>\n",
       "      <td>73118.09</td>\n",
       "      <td>15532.774170</td>\n",
       "      <td>29907.9800</td>\n",
       "      <td>1439</td>\n",
       "    </tr>\n",
       "    <tr>\n",
       "      <th>5</th>\n",
       "      <td>62541.461311</td>\n",
       "      <td>53954.33000</td>\n",
       "      <td>71430.23</td>\n",
       "      <td>3780.369979</td>\n",
       "      <td>61742.1050</td>\n",
       "      <td>206</td>\n",
       "    </tr>\n",
       "  </tbody>\n",
       "</table>\n",
       "</div>"
      ],
      "text/plain": [
       "           mean          min       max           std      median  count\n",
       "e                                                                      \n",
       "1      5.240525      0.04951     29.60      4.877265      4.8605    844\n",
       "2    337.852427     10.82000   1237.55    227.196627    295.6000   1339\n",
       "3   5757.937568    513.43000  19345.49   3707.967492   6318.4150   1402\n",
       "4  32778.438242   8568.88000  73118.09  15532.774170  29907.9800   1439\n",
       "5  62541.461311  53954.33000  71430.23   3780.369979  61742.1050    206"
      ]
     },
     "execution_count": 23,
     "metadata": {},
     "output_type": "execute_result"
    }
   ],
   "source": [
    "egg = show_stats(df)\n",
    "egg"
   ]
  },
  {
   "cell_type": "code",
   "execution_count": 24,
   "id": "c6cdd071-97ee-44c1-8394-610b5f9f5ae5",
   "metadata": {
    "tags": []
   },
   "outputs": [
    {
     "data": {
      "text/html": [
       "<div>\n",
       "<style scoped>\n",
       "    .dataframe tbody tr th:only-of-type {\n",
       "        vertical-align: middle;\n",
       "    }\n",
       "\n",
       "    .dataframe tbody tr th {\n",
       "        vertical-align: top;\n",
       "    }\n",
       "\n",
       "    .dataframe thead th {\n",
       "        text-align: right;\n",
       "    }\n",
       "</style>\n",
       "<table border=\"1\" class=\"dataframe\">\n",
       "  <thead>\n",
       "    <tr style=\"text-align: right;\">\n",
       "      <th></th>\n",
       "      <th>mean</th>\n",
       "      <th>min</th>\n",
       "      <th>max</th>\n",
       "      <th>std</th>\n",
       "      <th>median</th>\n",
       "      <th>count</th>\n",
       "    </tr>\n",
       "    <tr>\n",
       "      <th>e</th>\n",
       "      <th></th>\n",
       "      <th></th>\n",
       "      <th></th>\n",
       "      <th></th>\n",
       "      <th></th>\n",
       "      <th></th>\n",
       "    </tr>\n",
       "  </thead>\n",
       "  <tbody>\n",
       "    <tr>\n",
       "      <th>1</th>\n",
       "      <td>982.5</td>\n",
       "      <td>561.0</td>\n",
       "      <td>1404.0</td>\n",
       "      <td>243.786108</td>\n",
       "      <td>982.5</td>\n",
       "      <td>844</td>\n",
       "    </tr>\n",
       "    <tr>\n",
       "      <th>2</th>\n",
       "      <td>669.0</td>\n",
       "      <td>0.0</td>\n",
       "      <td>1338.0</td>\n",
       "      <td>386.680316</td>\n",
       "      <td>669.0</td>\n",
       "      <td>1339</td>\n",
       "    </tr>\n",
       "    <tr>\n",
       "      <th>3</th>\n",
       "      <td>700.5</td>\n",
       "      <td>0.0</td>\n",
       "      <td>1401.0</td>\n",
       "      <td>404.866851</td>\n",
       "      <td>700.5</td>\n",
       "      <td>1402</td>\n",
       "    </tr>\n",
       "    <tr>\n",
       "      <th>4</th>\n",
       "      <td>719.0</td>\n",
       "      <td>0.0</td>\n",
       "      <td>1438.0</td>\n",
       "      <td>415.547831</td>\n",
       "      <td>719.0</td>\n",
       "      <td>1439</td>\n",
       "    </tr>\n",
       "    <tr>\n",
       "      <th>5</th>\n",
       "      <td>102.5</td>\n",
       "      <td>0.0</td>\n",
       "      <td>205.0</td>\n",
       "      <td>59.611241</td>\n",
       "      <td>102.5</td>\n",
       "      <td>206</td>\n",
       "    </tr>\n",
       "  </tbody>\n",
       "</table>\n",
       "</div>"
      ],
      "text/plain": [
       "    mean    min     max         std  median  count\n",
       "e                                                 \n",
       "1  982.5  561.0  1404.0  243.786108   982.5    844\n",
       "2  669.0    0.0  1338.0  386.680316   669.0   1339\n",
       "3  700.5    0.0  1401.0  404.866851   700.5   1402\n",
       "4  719.0    0.0  1438.0  415.547831   719.0   1439\n",
       "5  102.5    0.0   205.0   59.611241   102.5    206"
      ]
     },
     "execution_count": 24,
     "metadata": {},
     "output_type": "execute_result"
    }
   ],
   "source": [
    "epoka_stats = df.groupby('e')['dfh'].agg(['mean', 'min', 'max', 'std', 'median', 'count'])\n",
    "epoka_stats"
   ]
  },
  {
   "cell_type": "code",
   "execution_count": 25,
   "id": "b8141130-6954-4bad-952d-7ef8f4b0aa71",
   "metadata": {
    "tags": []
   },
   "outputs": [
    {
     "data": {
      "text/plain": [
       "Index(['mean', 'min', 'max', 'std', 'median', 'count'], dtype='object')"
      ]
     },
     "execution_count": 25,
     "metadata": {},
     "output_type": "execute_result"
    }
   ],
   "source": [
    "egg.columns"
   ]
  },
  {
   "cell_type": "code",
   "execution_count": 26,
   "id": "976decb0-0281-4038-a8a2-35d02b4160ca",
   "metadata": {
    "tags": []
   },
   "outputs": [
    {
     "data": {
      "text/html": [
       "<div>\n",
       "<style scoped>\n",
       "    .dataframe tbody tr th:only-of-type {\n",
       "        vertical-align: middle;\n",
       "    }\n",
       "\n",
       "    .dataframe tbody tr th {\n",
       "        vertical-align: top;\n",
       "    }\n",
       "\n",
       "    .dataframe thead th {\n",
       "        text-align: right;\n",
       "    }\n",
       "</style>\n",
       "<table border=\"1\" class=\"dataframe\">\n",
       "  <thead>\n",
       "    <tr style=\"text-align: right;\">\n",
       "      <th></th>\n",
       "      <th>dfh</th>\n",
       "      <th>e</th>\n",
       "      <th>BTC</th>\n",
       "      <th>YM</th>\n",
       "      <th>seg</th>\n",
       "    </tr>\n",
       "  </thead>\n",
       "  <tbody>\n",
       "    <tr>\n",
       "      <th>2010-07-18</th>\n",
       "      <td>561.0</td>\n",
       "      <td>1</td>\n",
       "      <td>0.04951</td>\n",
       "      <td>1007</td>\n",
       "      <td>8</td>\n",
       "    </tr>\n",
       "    <tr>\n",
       "      <th>2010-07-19</th>\n",
       "      <td>562.0</td>\n",
       "      <td>1</td>\n",
       "      <td>0.08584</td>\n",
       "      <td>1007</td>\n",
       "      <td>8</td>\n",
       "    </tr>\n",
       "    <tr>\n",
       "      <th>2010-07-20</th>\n",
       "      <td>563.0</td>\n",
       "      <td>1</td>\n",
       "      <td>0.08080</td>\n",
       "      <td>1007</td>\n",
       "      <td>8</td>\n",
       "    </tr>\n",
       "  </tbody>\n",
       "</table>\n",
       "</div>"
      ],
      "text/plain": [
       "              dfh  e      BTC    YM  seg\n",
       "2010-07-18  561.0  1  0.04951  1007    8\n",
       "2010-07-19  562.0  1  0.08584  1007    8\n",
       "2010-07-20  563.0  1  0.08080  1007    8"
      ]
     },
     "execution_count": 26,
     "metadata": {},
     "output_type": "execute_result"
    }
   ],
   "source": [
    "df.index = pd.to_datetime(df.index)\n",
    "df['YM'] =df.index.strftime('%y%m')\n",
    "\n",
    "max_dni = df['dfh'].max()\n",
    "\n",
    "# Ustalanie binów: 20 równych przedziałów na podstawie maksymalnej wartości dfh\n",
    "liczba_segmentow = 20\n",
    "bins = np.linspace(0, max_dni, liczba_segmentow + 1)\n",
    "\n",
    "# Przypisanie każdego dfh do odpowiedniego binu (segmentu)\n",
    "df['seg'] = np.digitize(df['dfh'], bins, right=True)\n",
    "\n",
    "\n",
    "df.head(3)"
   ]
  },
  {
   "cell_type": "code",
   "execution_count": 27,
   "id": "8b00e002-2256-4f60-8669-0d9247aa643e",
   "metadata": {
    "tags": []
   },
   "outputs": [
    {
     "data": {
      "text/plain": [
       "e\n",
       "1    1404.0\n",
       "2    1338.0\n",
       "3    1401.0\n",
       "4    1438.0\n",
       "5     205.0\n",
       "Name: dfh, dtype: float64"
      ]
     },
     "execution_count": 27,
     "metadata": {},
     "output_type": "execute_result"
    }
   ],
   "source": [
    "df.groupby(by=['e'])['dfh'].max()"
   ]
  },
  {
   "cell_type": "code",
   "execution_count": 28,
   "id": "7f74b6e3-b2c7-4fe6-b0b3-a0245ceaa210",
   "metadata": {
    "tags": []
   },
   "outputs": [
    {
     "data": {
      "text/plain": [
       "e\n",
       "1    561.0\n",
       "2      0.0\n",
       "3      0.0\n",
       "4      0.0\n",
       "5      0.0\n",
       "Name: dfh, dtype: float64"
      ]
     },
     "execution_count": 28,
     "metadata": {},
     "output_type": "execute_result"
    }
   ],
   "source": [
    "df.groupby(by=['e'])['dfh'].min()"
   ]
  },
  {
   "cell_type": "markdown",
   "id": "0b543498-4e86-47d0-a825-18f42c70b375",
   "metadata": {
    "tags": []
   },
   "source": [
    "# ------------------"
   ]
  },
  {
   "cell_type": "code",
   "execution_count": null,
   "id": "d96b528e-c7f6-49ed-8ad0-558d1e464676",
   "metadata": {
    "tags": []
   },
   "outputs": [],
   "source": []
  },
  {
   "cell_type": "code",
   "execution_count": 41,
   "id": "a3c7cc38-87a7-4f84-b87c-45fe59bcd35f",
   "metadata": {
    "tags": []
   },
   "outputs": [],
   "source": [
    "def add_segments(df, HOW_MANY_SEG):\n",
    "    \n",
    "    # HOW_MANY_SEG = 20\n",
    "    \n",
    "    # Obliczamy maksymalne dfh dla epoki 4\n",
    "    max_dfh_epoka_4 = df[df['e'] == 4]['dfh'].max()\n",
    "\n",
    "    # Tworzymy biny dla epoki 4\n",
    "    bins_epoka_4 = np.linspace(0, max_dfh_epoka_4, HOW_MANY_SEG+1)  # 20 segmentów to 21 granic\n",
    "\n",
    "    # Funkcja do przypisania segmentów\n",
    "    def przypisz_segmenty(grupa):\n",
    "        if grupa['e'].iloc[0] in [2, 3, 4]:  # dla epok 2, 3, 4\n",
    "            max_dfh = grupa['dfh'].max()\n",
    "            bins = np.linspace(0, max_dfh, HOW_MANY_SEG)  # 20 segmentów\n",
    "        else:  # dla epok 1 i 5\n",
    "            bins = bins_epoka_4  # użyj binów z epoki 4\n",
    "\n",
    "        grupa['seg'] = np.digitize(grupa['dfh'], bins, right=False)  # przypisz segmenty\n",
    "        return grupa\n",
    "\n",
    "    # Grupujemy dane po epokach i stosujemy przypisywanie segmentów\n",
    "    df = df.groupby('e', group_keys=True).apply(przypisz_segmenty)\n",
    "    \n",
    "    df.index = df.index.droplevel('e')\n",
    "    \n",
    "    return df\n",
    "\n",
    "def add_cv(df):\n",
    "    \n",
    "    # Obliczenie maksymalnej wartości BTC w kolejnych 30 dniach\n",
    "    df['BTC_Max_30'] = df['BTC'].rolling(window=15).max()\n",
    "\n",
    "    # Obliczenie procentowej zmiany dla maksymalnej wartości\n",
    "    df['pc'] = df['BTC_Max_30'].pct_change()\n",
    "    \n",
    "    df['mean'] = df['BTC'].rolling(window=30).mean().shift(-30)  # Średnia w oknie 30 dni\n",
    "    df['std'] = df['BTC'].rolling(window=30).std().shift(-30)    # Odchylenie standardowe w oknie 30 dni\n",
    "\n",
    "    # Obliczanie współczynnika zmienności (CV)\n",
    "    df['CV'] = df['std'] / df['mean']\n",
    "\n",
    "    # Opcjonalnie: usunięcie tymczasowych kolumn\n",
    "    df = df.drop(columns=['mean', 'std'])\n",
    "\n",
    "    df.dropna(inplace=True)\n",
    "    \n",
    "    return df\n",
    "\n",
    "def add_poly(df, DFH, poly_level):\n",
    "    \n",
    "    egg = df[df.dfh==DFH]\n",
    "    \n",
    "    # Przygotowanie danych\n",
    "    # Użyjemy oryginalnych indeksów z egg jako zmiennej niezależnej\n",
    "    X_egg = egg.index.values.reshape(-1, 1)  # Indeks jako zmienna niezależna\n",
    "    y_egg = egg['BTC'].values                   # Wydobycie zmiennej zależnej (BTC)\n",
    "\n",
    "    # Tworzenie wielomianowych cech\n",
    "    poly = PolynomialFeatures(degree=poly_level)\n",
    "    X_poly = poly.fit_transform(X_egg)\n",
    "\n",
    "    # Trenowanie modelu regresji\n",
    "    model = LinearRegression()\n",
    "    model.fit(X_poly, y_egg)\n",
    "\n",
    "    # Przygotowanie danych do przewidywania dla df\n",
    "    X_df = df.index.values.reshape(-1, 1)  # Indeks z df jako zmienna niezależna\n",
    "    X_df_poly = poly.transform(X_df)        # Przekształcenie na cechy wielomianowe\n",
    "\n",
    "    # Przewidywanie wartości BTC dla df\n",
    "    df[f'R_{DFH}_{poly_level}'] = model.predict(X_df_poly)    # Dodanie nowej kolumny 'res' do df\n",
    "    \n",
    "    return df"
   ]
  },
  {
   "cell_type": "code",
   "execution_count": 56,
   "id": "3a7b4fea-6c03-43b9-b480-2de78e726b70",
   "metadata": {},
   "outputs": [
    {
     "data": {
      "text/html": [
       "<div>\n",
       "<style scoped>\n",
       "    .dataframe tbody tr th:only-of-type {\n",
       "        vertical-align: middle;\n",
       "    }\n",
       "\n",
       "    .dataframe tbody tr th {\n",
       "        vertical-align: top;\n",
       "    }\n",
       "\n",
       "    .dataframe thead th {\n",
       "        text-align: right;\n",
       "    }\n",
       "</style>\n",
       "<table border=\"1\" class=\"dataframe\">\n",
       "  <thead>\n",
       "    <tr style=\"text-align: right;\">\n",
       "      <th></th>\n",
       "      <th>dfh</th>\n",
       "      <th>e</th>\n",
       "      <th>BTC</th>\n",
       "      <th>seg</th>\n",
       "      <th>date</th>\n",
       "    </tr>\n",
       "  </thead>\n",
       "  <tbody>\n",
       "    <tr>\n",
       "      <th>0</th>\n",
       "      <td>561.0</td>\n",
       "      <td>1</td>\n",
       "      <td>0.04951</td>\n",
       "      <td>8</td>\n",
       "      <td>2010-07-18</td>\n",
       "    </tr>\n",
       "    <tr>\n",
       "      <th>1</th>\n",
       "      <td>562.0</td>\n",
       "      <td>1</td>\n",
       "      <td>0.08584</td>\n",
       "      <td>8</td>\n",
       "      <td>2010-07-19</td>\n",
       "    </tr>\n",
       "    <tr>\n",
       "      <th>2</th>\n",
       "      <td>563.0</td>\n",
       "      <td>1</td>\n",
       "      <td>0.08080</td>\n",
       "      <td>8</td>\n",
       "      <td>2010-07-20</td>\n",
       "    </tr>\n",
       "  </tbody>\n",
       "</table>\n",
       "</div>"
      ],
      "text/plain": [
       "     dfh  e      BTC  seg        date\n",
       "0  561.0  1  0.04951    8  2010-07-18\n",
       "1  562.0  1  0.08584    8  2010-07-19\n",
       "2  563.0  1  0.08080    8  2010-07-20"
      ]
     },
     "execution_count": 56,
     "metadata": {},
     "output_type": "execute_result"
    }
   ],
   "source": [
    "df = get_BTC()\n",
    "df = add_segments(df, 20)\n",
    "df['date'] = df.index\n",
    "df.reset_index(inplace=True, drop=True)\n",
    "# df = add_cv(df)\n",
    "\n",
    "# df = df[df.e>3]\n",
    "# df = df[df.e<51]\n",
    "df.head(3)"
   ]
  },
  {
   "cell_type": "code",
   "execution_count": 57,
   "id": "e894948d-b2e6-4ee2-857f-9743c43b3ccf",
   "metadata": {
    "tags": []
   },
   "outputs": [
    {
     "data": {
      "text/html": [
       "<div>\n",
       "<style scoped>\n",
       "    .dataframe tbody tr th:only-of-type {\n",
       "        vertical-align: middle;\n",
       "    }\n",
       "\n",
       "    .dataframe tbody tr th {\n",
       "        vertical-align: top;\n",
       "    }\n",
       "\n",
       "    .dataframe thead th {\n",
       "        text-align: right;\n",
       "    }\n",
       "</style>\n",
       "<table border=\"1\" class=\"dataframe\">\n",
       "  <thead>\n",
       "    <tr style=\"text-align: right;\">\n",
       "      <th></th>\n",
       "      <th>dfh</th>\n",
       "      <th>e</th>\n",
       "      <th>BTC</th>\n",
       "      <th>seg</th>\n",
       "      <th>date</th>\n",
       "      <th>R_0_4</th>\n",
       "    </tr>\n",
       "  </thead>\n",
       "  <tbody>\n",
       "    <tr>\n",
       "      <th>5227</th>\n",
       "      <td>203.0</td>\n",
       "      <td>5</td>\n",
       "      <td>60630.94</td>\n",
       "      <td>3</td>\n",
       "      <td>2024-11-08</td>\n",
       "      <td>78798.840159</td>\n",
       "    </tr>\n",
       "    <tr>\n",
       "      <th>5228</th>\n",
       "      <td>204.0</td>\n",
       "      <td>5</td>\n",
       "      <td>60630.94</td>\n",
       "      <td>3</td>\n",
       "      <td>2024-11-09</td>\n",
       "      <td>78880.359831</td>\n",
       "    </tr>\n",
       "    <tr>\n",
       "      <th>5229</th>\n",
       "      <td>205.0</td>\n",
       "      <td>5</td>\n",
       "      <td>60689.04</td>\n",
       "      <td>3</td>\n",
       "      <td>2024-11-10</td>\n",
       "      <td>78961.942559</td>\n",
       "    </tr>\n",
       "  </tbody>\n",
       "</table>\n",
       "</div>"
      ],
      "text/plain": [
       "        dfh  e       BTC  seg        date         R_0_4\n",
       "5227  203.0  5  60630.94    3  2024-11-08  78798.840159\n",
       "5228  204.0  5  60630.94    3  2024-11-09  78880.359831\n",
       "5229  205.0  5  60689.04    3  2024-11-10  78961.942559"
      ]
     },
     "execution_count": 57,
     "metadata": {},
     "output_type": "execute_result"
    }
   ],
   "source": []
  },
  {
   "cell_type": "code",
   "execution_count": null,
   "id": "3ca1d2bd-f34e-49c1-a009-8eb40ffd2ccd",
   "metadata": {
    "tags": []
   },
   "outputs": [],
   "source": []
  },
  {
   "cell_type": "code",
   "execution_count": 86,
   "id": "a69e4967-d17b-4998-a733-7aa9b52607a0",
   "metadata": {
    "tags": []
   },
   "outputs": [
    {
     "data": {
      "image/png": "[encoded data removed]",
      "text/plain": [
       "<Figure size 1200x600 with 1 Axes>"
      ]
     },
     "metadata": {},
     "output_type": "display_data"
    }
   ],
   "source": [
    "#---------------------------------\n",
    "dfh = 0\n",
    "pol_lev = 4\n",
    "col_name = f'R_{dfh}_{pol_lev}'\n",
    "#---------------------------------\n",
    "df = add_poly(df, dfh, pol_lev)\n",
    "#---------------------------------\n",
    "df[col_name] = df[col_name].clip(lower=0, upper=df['BTC'].max()*1.1)\n",
    "#---------------------------------\n",
    "egg = df\n",
    "#---------------------------------\n",
    "# Wizualizacja\n",
    "plt.figure(figsize=(12, 6))\n",
    "plt.scatter(x = df.index, y = df[col_name], color='red', label='reg', s=0.5)  # Punkty rzeczywiste\n",
    "plt.plot(df.index, df['BTC'], color='blue', label='BTC', linewidth=1)  # Krzywa modelu\n",
    "# plt.plot(df, df['BTC'], color='green', label='Kurs BTC')  # Krzywa modelu\n",
    "# plt.title('Regresja Wielomianowa BTC')\n",
    "plt.xlabel('Indeks')\n",
    "plt.ylabel('BTC')\n",
    "plt.legend()\n",
    "plt.grid()\n",
    "plt.show()"
   ]
  },
  {
   "cell_type": "code",
   "execution_count": 73,
   "id": "c49b2eb3-faed-4d03-809c-e4bfb6dabc36",
   "metadata": {
    "tags": []
   },
   "outputs": [
    {
     "data": {
      "text/plain": [
       "73118.09"
      ]
     },
     "execution_count": 73,
     "metadata": {},
     "output_type": "execute_result"
    }
   ],
   "source": []
  },
  {
   "cell_type": "code",
   "execution_count": 75,
   "id": "505de8da-44c6-470e-8771-314164d5fa44",
   "metadata": {
    "tags": []
   },
   "outputs": [],
   "source": [
    "\n"
   ]
  },
  {
   "cell_type": "markdown",
   "id": "194dc3f1-8bb9-4dc4-9794-91401782234a",
   "metadata": {},
   "source": [
    "# ----- reg "
   ]
  },
  {
   "cell_type": "code",
   "execution_count": 92,
   "id": "2c542494-1050-47e5-be59-5368e28159d3",
   "metadata": {
    "tags": []
   },
   "outputs": [],
   "source": [
    "# Tworzenie kolumny H (ATH) - od początku do końca\n",
    "df['H'] = (df['BTC'].cummax() == df['BTC']).astype(int)\n",
    "# Tworzenie kolumny L (ATL) - od końca do początku\n",
    "df['L'] = (df['BTC'] == df['BTC'].iloc[::-1].cummin().iloc[::-1]).astype(int)"
   ]
  },
  {
   "cell_type": "code",
   "execution_count": 93,
   "id": "c0f9453a-9a2c-49ab-b9b6-e3c6e37c5574",
   "metadata": {
    "tags": []
   },
   "outputs": [
    {
     "data": {
      "text/html": [
       "<div>\n",
       "<style scoped>\n",
       "    .dataframe tbody tr th:only-of-type {\n",
       "        vertical-align: middle;\n",
       "    }\n",
       "\n",
       "    .dataframe tbody tr th {\n",
       "        vertical-align: top;\n",
       "    }\n",
       "\n",
       "    .dataframe thead th {\n",
       "        text-align: right;\n",
       "    }\n",
       "</style>\n",
       "<table border=\"1\" class=\"dataframe\">\n",
       "  <thead>\n",
       "    <tr style=\"text-align: right;\">\n",
       "      <th></th>\n",
       "      <th>dfh</th>\n",
       "      <th>e</th>\n",
       "      <th>BTC</th>\n",
       "      <th>seg</th>\n",
       "      <th>date</th>\n",
       "      <th>R_0_4</th>\n",
       "      <th>R_0_20</th>\n",
       "      <th>R_0_15</th>\n",
       "      <th>R_0_11</th>\n",
       "      <th>R_0_5</th>\n",
       "      <th>R_0_6</th>\n",
       "      <th>R_0_1</th>\n",
       "      <th>R_0_2</th>\n",
       "      <th>R_0_3</th>\n",
       "      <th>H</th>\n",
       "      <th>L</th>\n",
       "    </tr>\n",
       "  </thead>\n",
       "  <tbody>\n",
       "    <tr>\n",
       "      <th>0</th>\n",
       "      <td>561.0</td>\n",
       "      <td>1</td>\n",
       "      <td>0.04951</td>\n",
       "      <td>8</td>\n",
       "      <td>2010-07-18</td>\n",
       "      <td>0.0</td>\n",
       "      <td>10.935307</td>\n",
       "      <td>10.912078</td>\n",
       "      <td>10.605598</td>\n",
       "      <td>0.0</td>\n",
       "      <td>0.0</td>\n",
       "      <td>0.0</td>\n",
       "      <td>18942.269410</td>\n",
       "      <td>0.0</td>\n",
       "      <td>1</td>\n",
       "      <td>1</td>\n",
       "    </tr>\n",
       "    <tr>\n",
       "      <th>1</th>\n",
       "      <td>562.0</td>\n",
       "      <td>1</td>\n",
       "      <td>0.08584</td>\n",
       "      <td>8</td>\n",
       "      <td>2010-07-19</td>\n",
       "      <td>0.0</td>\n",
       "      <td>10.935307</td>\n",
       "      <td>10.912078</td>\n",
       "      <td>10.605598</td>\n",
       "      <td>0.0</td>\n",
       "      <td>0.0</td>\n",
       "      <td>0.0</td>\n",
       "      <td>18916.374015</td>\n",
       "      <td>0.0</td>\n",
       "      <td>1</td>\n",
       "      <td>0</td>\n",
       "    </tr>\n",
       "    <tr>\n",
       "      <th>2</th>\n",
       "      <td>563.0</td>\n",
       "      <td>1</td>\n",
       "      <td>0.08080</td>\n",
       "      <td>8</td>\n",
       "      <td>2010-07-20</td>\n",
       "      <td>0.0</td>\n",
       "      <td>10.935307</td>\n",
       "      <td>10.912078</td>\n",
       "      <td>10.605598</td>\n",
       "      <td>0.0</td>\n",
       "      <td>0.0</td>\n",
       "      <td>0.0</td>\n",
       "      <td>18890.492325</td>\n",
       "      <td>0.0</td>\n",
       "      <td>0</td>\n",
       "      <td>0</td>\n",
       "    </tr>\n",
       "  </tbody>\n",
       "</table>\n",
       "</div>"
      ],
      "text/plain": [
       "     dfh  e      BTC  seg        date  R_0_4     R_0_20     R_0_15     R_0_11  \\\n",
       "0  561.0  1  0.04951    8  2010-07-18    0.0  10.935307  10.912078  10.605598   \n",
       "1  562.0  1  0.08584    8  2010-07-19    0.0  10.935307  10.912078  10.605598   \n",
       "2  563.0  1  0.08080    8  2010-07-20    0.0  10.935307  10.912078  10.605598   \n",
       "\n",
       "   R_0_5  R_0_6  R_0_1         R_0_2  R_0_3  H  L  \n",
       "0    0.0    0.0    0.0  18942.269410    0.0  1  1  \n",
       "1    0.0    0.0    0.0  18916.374015    0.0  1  0  \n",
       "2    0.0    0.0    0.0  18890.492325    0.0  0  0  "
      ]
     },
     "execution_count": 93,
     "metadata": {},
     "output_type": "execute_result"
    }
   ],
   "source": [
    "df.head(3)"
   ]
  },
  {
   "cell_type": "code",
   "execution_count": null,
   "id": "825dda14-64b6-49ab-944b-de33b2a976e9",
   "metadata": {
    "tags": []
   },
   "outputs": [],
   "source": []
  },
  {
   "cell_type": "code",
   "execution_count": null,
   "id": "2d5f808a-4aec-4c35-86a7-c6564bbfae4b",
   "metadata": {
    "tags": []
   },
   "outputs": [],
   "source": []
  },
  {
   "cell_type": "code",
   "execution_count": null,
   "id": "2f948218-e4c5-41d4-8ae8-614ebe8bcb82",
   "metadata": {},
   "outputs": [],
   "source": []
  }
 ],
 "metadata": {
  "kernelspec": {
   "display_name": "Python 3 (ipykernel)",
   "language": "python",
   "name": "python3"
  },
  "language_info": {
   "codemirror_mode": {
    "name": "ipython",
    "version": 3
   },
   "file_extension": ".py",
   "mimetype": "text/x-python",
   "name": "python",
   "nbconvert_exporter": "python",
   "pygments_lexer": "ipython3",
   "version": "3.10.9"
  }
 },
 "nbformat": 4,
 "nbformat_minor": 5
}
