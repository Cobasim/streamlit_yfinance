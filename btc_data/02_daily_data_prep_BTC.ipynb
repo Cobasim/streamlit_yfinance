{
 "cells": [
  {
   "cell_type": "code",
   "execution_count": 1,
   "id": "d8630af7-3542-4b9e-ba91-04ae00382626",
   "metadata": {},
   "outputs": [],
   "source": [
    "import pandas as pd\n",
    "from datetime import datetime\n",
    "import numpy as np\n",
    "from tqdm import tqdm"
   ]
  },
  {
   "cell_type": "markdown",
   "id": "1ad3fd6c-e87e-4775-8ea0-8c6aba979626",
   "metadata": {},
   "source": [
    "# CONST"
   ]
  },
  {
   "cell_type": "code",
   "execution_count": 2,
   "id": "4629881d-dd70-4fa6-afb5-f3ed23e8396f",
   "metadata": {},
   "outputs": [],
   "source": [
    "BTC_DAILY_FILE = '../btc_data/BTC_DAILY.pck'\n",
    "BTC = '../btc_data/BTC.pck'"
   ]
  },
  {
   "cell_type": "markdown",
   "id": "265b0b9b-e094-4a93-ae0e-9d0564553b58",
   "metadata": {},
   "source": [
    "# DEfs"
   ]
  },
  {
   "cell_type": "code",
   "execution_count": 3,
   "id": "7a0850ef-9372-406c-82f6-828e64edd356",
   "metadata": {},
   "outputs": [],
   "source": [
    "def get_btc_daily_file():\n",
    "    # Load file\n",
    "    pck_file = BTC_DAILY_FILE\n",
    "    df = pd.read_pickle(pck_file)\n",
    "    \n",
    "    df.columns=['BTC']\n",
    "    df.sort_index(ascending=True, inplace=True)\n",
    "    \n",
    "    # Dodaj date str\n",
    "    df['str_date'] = df.index.astype(str)\n",
    "    \n",
    "    # Dodaj date w foramcie datetime.date\n",
    "    df['dt_date'] = [datetime.strptime(str_date, '%Y-%m-%d').date() for str_date in df.str_date]\n",
    "    \n",
    "    # Ustal index na format dt\n",
    "    # df.reset_index(drop=False, inplace=True)\n",
    "    df.index = df.dt_date\n",
    "    df.index = pd.to_datetime(df.index).date\n",
    "\n",
    "    df.drop(columns=['str_date', 'dt_date'], inplace=True)\n",
    "    return df"
   ]
  },
  {
   "cell_type": "code",
   "execution_count": 4,
   "id": "b7d245d5-b710-4b9e-9624-57c4c773f53d",
   "metadata": {},
   "outputs": [],
   "source": [
    "def get_all_halvings_dt():\n",
    "    \n",
    "    halvings_str = ['08-11-2012', '09-07-2016', '11-05-2020', '19-04-2024', '16-03-2028', '20-02-2032', \n",
    "                '25-01-2036', '29-12-2039', '04-12-2043', '08-11-2047', '14-10-2051', '18-09-2055', \n",
    "                '23-08-2059', '27-07-2063', '01-07-2067', '05-06-2071', '09-05-2075', '14-04-2079', \n",
    "                '18-03-2083', '22-02-2087', '27-01-2091', '01-01-2095', '06-12-2098', '10-11-2102', \n",
    "                '16-10-2106', '20-09-2110', '25-08-2114', '30-07-2118', '03-07-2122', '07-06-2126',\n",
    "                '12-05-2130', '16-04-2134', '20-03-2138', '24-02-2142']\n",
    "\n",
    "    halvings_dt = [datetime.strptime(str_date, \"%d-%m-%Y\").date() for str_date in halvings_str]\n",
    "\n",
    "    return halvings_dt"
   ]
  },
  {
   "cell_type": "code",
   "execution_count": null,
   "id": "a80dffb7-5646-4662-83c8-52af698a7296",
   "metadata": {},
   "outputs": [],
   "source": []
  },
  {
   "cell_type": "markdown",
   "id": "78cd84d6-8ef7-4b36-955b-03ab705bc676",
   "metadata": {},
   "source": [
    "# Main DEfs"
   ]
  },
  {
   "cell_type": "code",
   "execution_count": 5,
   "id": "42834714-60a1-49e0-815c-96da40cb1201",
   "metadata": {
    "lines_to_next_cell": 2
   },
   "outputs": [],
   "source": [
    "def prepare_BTC_file_for_analytics():\n",
    "    \n",
    "    df = get_btc_daily_file()\n",
    "    halvings_dt = get_all_halvings_dt()\n",
    "\n",
    "    start_date = '01/03/2009'  # First BTC block\n",
    "    end_date = '01/05/2052'    # Last BTC dig\n",
    "        \n",
    "    date_range = pd.date_range(start=start_date, end=end_date)\n",
    "    \n",
    "    print(f'Range: >>{start_date} - {end_date}<<.')\n",
    "    \n",
    "    ad = {}\n",
    "    for i in tqdm(date_range):\n",
    "        ad[i] = np.NaN\n",
    "    \n",
    "    egg = pd.DataFrame([ad]).T\n",
    "    egg.rename_axis('dt_date', inplace=True)\n",
    "    egg.columns = ['h'] # <- zero w halving date\n",
    "    egg['h'] = np.nan\n",
    "    egg.sort_index(ascending=True, inplace=True)\n",
    "    egg.index = pd.to_datetime(egg.index).date\n",
    "    \n",
    "    # Ustawienie wartości 0 w dniach halvingów\n",
    "    egg.loc[egg.index.isin(halvings_dt), 'h'] = 0\n",
    "    # egg.at['2009-01-03', 'h'] = 0  #<- zero at first day\n",
    "    egg.iat[0, egg.columns.get_loc('h')] = 0\n",
    "    \n",
    "    # dfh <- days from halving\n",
    "    egg['dfh'] = (egg['h'].ffill() + egg.groupby(egg['h'].eq(0).cumsum()).cumcount() )\n",
    "    egg.drop(columns=['h'], inplace=True)\n",
    "    \n",
    "    # e <- halving epochs\n",
    "    egg['e'] = (egg['dfh'] == 0).cumsum()\n",
    "    \n",
    "    # Dodaj kolumne BTC oraz dane z DF\n",
    "    egg['BTC'] = -999.0\n",
    "    egg.update(df)\n",
    "    \n",
    "    # Usun wiersze bez danych\n",
    "    egg = egg[egg.index>=df.index.min()]\n",
    "    egg = egg[egg.index<=df.index.max()]\n",
    "    \n",
    "    print(f'Final range: >>{egg.index.min()} - {egg.index.max()}<<.')\n",
    "    # Check for err\n",
    "    egg = egg.replace([np.inf, -np.inf], np.nan)\n",
    "    print(f'Nan/inf in file:{egg.isna().sum().sum()}.')\n",
    "    assert egg.isna().sum().sum() == 0\n",
    "    \n",
    "    egg.to_pickle(BTC)\n",
    "    print(f'File prepared:>>{BTC}<<.')\n",
    "\n",
    "    return egg"
   ]
  },
  {
   "cell_type": "markdown",
   "id": "65807ed6-361a-44f3-9ccc-d1cb6ec37299",
   "metadata": {},
   "source": [
    "# MAIN"
   ]
  },
  {
   "cell_type": "code",
   "execution_count": null,
   "id": "b9442e17-db42-461f-94ba-9a11958ee225",
   "metadata": {},
   "outputs": [],
   "source": []
  },
  {
   "cell_type": "code",
   "execution_count": 6,
   "id": "6da8066a-8889-4c94-b18f-d5cdfd5e5d13",
   "metadata": {
    "lines_to_next_cell": 0
   },
   "outputs": [
    {
     "name": "stdout",
     "output_type": "stream",
     "text": [
      "Range: >>01/03/2009 - 01/05/2052<<.\n"
     ]
    },
    {
     "name": "stderr",
     "output_type": "stream",
     "text": [
      "100%|████████████████████████████████████████████████████████████| 15708/15708 [00:00<00:00, 298893.18it/s]\n"
     ]
    },
    {
     "name": "stdout",
     "output_type": "stream",
     "text": [
      "Final range: >>2010-07-18 - 2024-11-10<<.\n",
      "Nan/inf in file:0.\n",
      "File prepared:>>../btc_data/BTC.pck<<.\n"
     ]
    },
    {
     "data": {
      "text/html": [
       "<div>\n",
       "<style scoped>\n",
       "    .dataframe tbody tr th:only-of-type {\n",
       "        vertical-align: middle;\n",
       "    }\n",
       "\n",
       "    .dataframe tbody tr th {\n",
       "        vertical-align: top;\n",
       "    }\n",
       "\n",
       "    .dataframe thead th {\n",
       "        text-align: right;\n",
       "    }\n",
       "</style>\n",
       "<table border=\"1\" class=\"dataframe\">\n",
       "  <thead>\n",
       "    <tr style=\"text-align: right;\">\n",
       "      <th></th>\n",
       "      <th>dfh</th>\n",
       "      <th>e</th>\n",
       "      <th>BTC</th>\n",
       "    </tr>\n",
       "  </thead>\n",
       "  <tbody>\n",
       "    <tr>\n",
       "      <th>2010-07-18</th>\n",
       "      <td>561.0</td>\n",
       "      <td>1</td>\n",
       "      <td>0.04951</td>\n",
       "    </tr>\n",
       "    <tr>\n",
       "      <th>2010-07-19</th>\n",
       "      <td>562.0</td>\n",
       "      <td>1</td>\n",
       "      <td>0.08584</td>\n",
       "    </tr>\n",
       "    <tr>\n",
       "      <th>2010-07-20</th>\n",
       "      <td>563.0</td>\n",
       "      <td>1</td>\n",
       "      <td>0.08080</td>\n",
       "    </tr>\n",
       "  </tbody>\n",
       "</table>\n",
       "</div>"
      ],
      "text/plain": [
       "              dfh  e      BTC\n",
       "2010-07-18  561.0  1  0.04951\n",
       "2010-07-19  562.0  1  0.08584\n",
       "2010-07-20  563.0  1  0.08080"
      ]
     },
     "metadata": {},
     "output_type": "display_data"
    },
    {
     "data": {
      "text/html": [
       "<div>\n",
       "<style scoped>\n",
       "    .dataframe tbody tr th:only-of-type {\n",
       "        vertical-align: middle;\n",
       "    }\n",
       "\n",
       "    .dataframe tbody tr th {\n",
       "        vertical-align: top;\n",
       "    }\n",
       "\n",
       "    .dataframe thead th {\n",
       "        text-align: right;\n",
       "    }\n",
       "</style>\n",
       "<table border=\"1\" class=\"dataframe\">\n",
       "  <thead>\n",
       "    <tr style=\"text-align: right;\">\n",
       "      <th></th>\n",
       "      <th>dfh</th>\n",
       "      <th>e</th>\n",
       "      <th>BTC</th>\n",
       "    </tr>\n",
       "  </thead>\n",
       "  <tbody>\n",
       "    <tr>\n",
       "      <th>2024-11-08</th>\n",
       "      <td>203.0</td>\n",
       "      <td>5</td>\n",
       "      <td>60630.94</td>\n",
       "    </tr>\n",
       "    <tr>\n",
       "      <th>2024-11-09</th>\n",
       "      <td>204.0</td>\n",
       "      <td>5</td>\n",
       "      <td>60630.94</td>\n",
       "    </tr>\n",
       "    <tr>\n",
       "      <th>2024-11-10</th>\n",
       "      <td>205.0</td>\n",
       "      <td>5</td>\n",
       "      <td>60689.04</td>\n",
       "    </tr>\n",
       "  </tbody>\n",
       "</table>\n",
       "</div>"
      ],
      "text/plain": [
       "              dfh  e       BTC\n",
       "2024-11-08  203.0  5  60630.94\n",
       "2024-11-09  204.0  5  60630.94\n",
       "2024-11-10  205.0  5  60689.04"
      ]
     },
     "metadata": {},
     "output_type": "display_data"
    }
   ],
   "source": [
    "#--------------------------------------\n",
    "# Prepare clean BTC.pck file\n",
    "# with all data needed for s2f analytics\n",
    "#--------------------------------------\n",
    "\n",
    "df = prepare_BTC_file_for_analytics()\n",
    "display(df.head(3))\n",
    "display(df.tail(3))"
   ]
  },
  {
   "cell_type": "code",
   "execution_count": null,
   "id": "b759b16c-9f9a-4a1f-8d9e-728f5d27dc8e",
   "metadata": {},
   "outputs": [],
   "source": []
  },
  {
   "cell_type": "code",
   "execution_count": null,
   "id": "fe689b65",
   "metadata": {
    "lines_to_next_cell": 2
   },
   "outputs": [],
   "source": []
  }
 ],
 "metadata": {
  "jupytext": {
   "formats": "ipynb,py:light"
  },
  "kernelspec": {
   "display_name": "Python 3 (ipykernel)",
   "language": "python",
   "name": "python3"
  },
  "language_info": {
   "codemirror_mode": {
    "name": "ipython",
    "version": 3
   },
   "file_extension": ".py",
   "mimetype": "text/x-python",
   "name": "python",
   "nbconvert_exporter": "python",
   "pygments_lexer": "ipython3",
   "version": "3.12.1"
  }
 },
 "nbformat": 4,
 "nbformat_minor": 5
}
