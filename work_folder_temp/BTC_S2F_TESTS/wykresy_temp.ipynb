{
 "cells": [
  {
   "cell_type": "code",
   "execution_count": 1,
   "id": "0a134aa2-1e3b-4f85-92bd-9ea0337c940b",
   "metadata": {},
   "outputs": [
    {
     "ename": "NameError",
     "evalue": "name 'px' is not defined",
     "output_type": "error",
     "traceback": [
      "\u001b[0;31m---------------------------------------------------------------------------\u001b[0m",
      "\u001b[0;31mNameError\u001b[0m                                 Traceback (most recent call last)",
      "Cell \u001b[0;32mIn[1], line 6\u001b[0m\n\u001b[1;32m      3\u001b[0m \u001b[38;5;28;01mimport\u001b[39;00m \u001b[38;5;21;01mplotly\u001b[39;00m\u001b[38;5;21;01m.\u001b[39;00m\u001b[38;5;21;01mgraph_objects\u001b[39;00m \u001b[38;5;28;01mas\u001b[39;00m \u001b[38;5;21;01mgo\u001b[39;00m\n\u001b[1;32m      5\u001b[0m \u001b[38;5;66;03m# Uzyskiwanie kolorów z palety\u001b[39;00m\n\u001b[0;32m----> 6\u001b[0m colors \u001b[38;5;241m=\u001b[39m px\u001b[38;5;241m.\u001b[39mcolors\u001b[38;5;241m.\u001b[39mqualitative\u001b[38;5;241m.\u001b[39mPlotly  \u001b[38;5;66;03m# Możesz wybrać inną paletę, jeśli chcesz\u001b[39;00m\n\u001b[1;32m      8\u001b[0m \u001b[38;5;66;03m# Tworzenie wykresu\u001b[39;00m\n\u001b[1;32m      9\u001b[0m fig \u001b[38;5;241m=\u001b[39m go\u001b[38;5;241m.\u001b[39mFigure()\n",
      "\u001b[0;31mNameError\u001b[0m: name 'px' is not defined"
     ]
    }
   ],
   "source": [
    "# czulosc volatile\n",
    "import pandas as pd\n",
    "import plotly.graph_objects as go\n",
    "\n",
    "# Uzyskiwanie kolorów z palety\n",
    "colors = px.colors.qualitative.Plotly  # Możesz wybrać inną paletę, jeśli chcesz\n",
    "\n",
    "# Tworzenie wykresu\n",
    "fig = go.Figure()\n",
    "\n",
    "# Dodawanie serii danych do wykresu\n",
    "all_data_cols = ['CVSUM']\n",
    "for i, column in enumerate(all_data_cols):  # Pomijamy pierwszą kolumnę 'dfh'\n",
    "    fig.add_trace(go.Scatter(\n",
    "        x=df['dfh'],\n",
    "        y=df[column],\n",
    "        mode='markers',  # Dodaje zarówno punkty,\n",
    "        marker=dict(size=8, opacity=0.2, color='red'),  # Ustawienia markerów\n",
    "        line=dict(width=1, color='orange'),\n",
    "        \n",
    "        name=column  # Nazwa serii\n",
    "    ))\n",
    "\n",
    "# Ustawienia tytułu i etykiet\n",
    "fig.update_layout(\n",
    "    title='Wykres Scatter z wieloma seriami danych w różnych kolorach',\n",
    "    xaxis_title='dfh (days from halving)',\n",
    "    yaxis_title='Wartość',\n",
    "    showlegend=True,\n",
    "    width=1200,  # Ustawienie szerokości wykresu\n",
    "    height=800  # Ustawienie wysokości wykresu\n",
    ")\n",
    "\n",
    "# Wyświetlenie wykresu\n",
    "fig.show()\n",
    "\n"
   ]
  },
  {
   "cell_type": "code",
   "execution_count": null,
   "id": "02ef318e-f26a-47af-bca4-09e616a9a6f0",
   "metadata": {},
   "outputs": [],
   "source": []
  }
 ],
 "metadata": {
  "kernelspec": {
   "display_name": "Python 3 (ipykernel)",
   "language": "python",
   "name": "python3"
  },
  "language_info": {
   "codemirror_mode": {
    "name": "ipython",
    "version": 3
   },
   "file_extension": ".py",
   "mimetype": "text/x-python",
   "name": "python",
   "nbconvert_exporter": "python",
   "pygments_lexer": "ipython3",
   "version": "3.12.7"
  }
 },
 "nbformat": 4,
 "nbformat_minor": 5
}
