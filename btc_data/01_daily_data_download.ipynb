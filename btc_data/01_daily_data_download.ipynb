{
 "cells": [
  {
   "cell_type": "code",
   "execution_count": 1,
   "id": "2201758a-ceb7-4d5c-bc9f-aaae4f389aa1",
   "metadata": {},
   "outputs": [],
   "source": [
    "import requests\n",
    "import pandas as pd\n",
    "from datetime import datetime\n",
    "from tqdm import tqdm"
   ]
  },
  {
   "cell_type": "markdown",
   "id": "27aeb072-ff37-4fae-98bd-0ec69c071138",
   "metadata": {},
   "source": [
    "# CONSt"
   ]
  },
  {
   "cell_type": "code",
   "execution_count": 2,
   "id": "bce21939-16e3-437d-a2a9-b6be73d0af0b",
   "metadata": {},
   "outputs": [],
   "source": [
    "BTC_DAILY_FILE = 'BTC_DAILY.pck'\n",
    "start_date = '18/07/2010'"
   ]
  },
  {
   "cell_type": "markdown",
   "id": "d01febac-1820-4975-9c66-1e5dce3bc56d",
   "metadata": {},
   "source": [
    "# DEfs"
   ]
  },
  {
   "cell_type": "code",
   "execution_count": 3,
   "id": "53a374be-3f08-4ea2-850e-47bba55be552",
   "metadata": {},
   "outputs": [],
   "source": [
    "def ts_from_date(date_str):\n",
    "    # Przykładowa data\\\n",
    "\n",
    "    # date_str = '2020-10-30'\n",
    "    \n",
    "    \n",
    "    date = datetime.strptime(date_str, '%Y-%m-%d')\n",
    "    \n",
    "    # Konwersja daty na znacznik czasu\n",
    "    ts = int(date.timestamp())\n",
    "    \n",
    "    # print(\"Znacznik czasu:\", ts)\n",
    "    return ts\n",
    "\n",
    "    \n",
    "def date_from_ts(ts):\n",
    "\n",
    "    date_str = datetime.fromtimestamp(ts).date()\n",
    "    return date_str\n",
    "\n",
    "\n",
    "def get_btc_value_by_date(str_date):\n",
    "    # str_date = '2020-10-10'\n",
    "    ts = ts_from_date(str_date)\n",
    "    \n",
    "    url = f'https://min-api.cryptocompare.com/data/pricehistorical?fsym=BTC&tsyms=USD&ts={ts}'\n",
    "    \n",
    "    resp = requests.get(url)\n",
    "    btc_value = eval(resp.text)['BTC']['USD']\n",
    "\n",
    "    return btc_value\n",
    "\n",
    "def err_test():\n",
    "    ts = ts_from_date('2010-10-09')\n",
    "    \n",
    "    url = f'https://min-api.cryptocompare.com/data/pricehistorical?fsym=BTC&tsyms=USD&ts={ts}'\n",
    "    \n",
    "    resp = requests.get(url)\n",
    "    print(resp)\n",
    "    print(resp.text)\n",
    "    print('-'*80)"
   ]
  },
  {
   "cell_type": "markdown",
   "id": "2170ce1e-8e64-43f6-91aa-92c50808e6fc",
   "metadata": {},
   "source": [
    "# Main DEfs"
   ]
  },
  {
   "cell_type": "code",
   "execution_count": 4,
   "id": "33205c89-af32-4035-8a8b-96ac88c10585",
   "metadata": {},
   "outputs": [],
   "source": [
    "def update_btc_file():\n",
    "    '''\n",
    "    #--------------------------------------\n",
    "    # MAIN DOWNLOADING / UPDATING LOOP\n",
    "    # u can reset kernel any time and start over\n",
    "    # file just keeps fillig blank spaces\n",
    "    #--------------------------------------\n",
    "    start_date set for '18/07/2010' (max from cryptocompare) till today\n",
    "    url = f'https://min-api.cryptocompare.com/data/pricehistorical?fsym=BTC&tsyms=USD&ts={ts}' (ts - linux date)\n",
    "    '''\n",
    "    #---------------------------------\n",
    "    \n",
    "    #---------------------------------\n",
    "    err_code = 0\n",
    "    #---------------------------------\n",
    "    today = datetime.today().strftime(\"%d/%m/%Y\")\n",
    "    \n",
    "    date_range = pd.date_range(start=start_date, end=today)\n",
    "    print('Downloading BTC USD daily from cryptocompare.com')\n",
    "    print(f'Range: from start:{start_date} - today:{today}.')\n",
    "    \n",
    "    INIT_DICT = False\n",
    "    if INIT_DICT:\n",
    "        btc_dict = {}\n",
    "    else:\n",
    "        btc_dict = dict(pd.read_pickle(BTC_DAILY_FILE)[0])\n",
    "    \n",
    "    # display only date using date() function\n",
    "    for i in tqdm(date_range):\n",
    "        #--------------------\n",
    "        try:\n",
    "            # print()\n",
    "            str_date = str(i.date())\n",
    "        \n",
    "            if str_date in btc_dict.keys():\n",
    "                # print(f'.', end='')\n",
    "                pass\n",
    "            else:\n",
    "                ts = ts_from_date(str_date)\n",
    "                \n",
    "                url = f'https://min-api.cryptocompare.com/data/pricehistorical?fsym=BTC&tsyms=USD&ts={ts}'\n",
    "                resp = requests.get(url)\n",
    "                \n",
    "                if resp.status_code == 200:\n",
    "                    btc_value = eval(resp.text)['BTC']['USD']\n",
    "                \n",
    "                    btc_dict[str_date] = btc_value\n",
    "            \n",
    "                    # DUMP\n",
    "                    df = pd.DataFrame([btc_dict]).T\n",
    "                    df.sort_index(ascending=True, inplace= True)\n",
    "                    df.to_pickle(BTC_DAILY_FILE)\n",
    "                else:\n",
    "                    err_code = f\"Response err code other than 200 :{resp.status_code}\"\n",
    "                    \n",
    "                    break\n",
    "            \n",
    "                \n",
    "        except:\n",
    "            print('@', end='')\n",
    "    \n",
    "    #-----------------\n",
    "    # ENDING\n",
    "    print('-'*80)\n",
    "    if err_code != 0:\n",
    "        print(err_code)\n",
    "    else:\n",
    "        print(f'DONE! {start_date} - {today}. Stored in >>{BTC_DAILY_FILE}<<. No errors.')"
   ]
  },
  {
   "cell_type": "markdown",
   "id": "74728495-2f38-433f-8d3f-5b02ac4ddfcf",
   "metadata": {},
   "source": [
    "# Main"
   ]
  },
  {
   "cell_type": "code",
   "execution_count": 5,
   "id": "79980c66-8297-41a4-a02b-3aa31dea601a",
   "metadata": {
    "lines_to_next_cell": 0
   },
   "outputs": [
    {
     "name": "stdout",
     "output_type": "stream",
     "text": [
      "<Response [200]>\n",
      "{\"BTC\":{\"USD\":0.08685}}\n",
      "--------------------------------------------------------------------------------\n",
      "Downloading BTC USD daily from cryptocompare.com\n",
      "Range: from start:18/07/2010 - today:16/10/2024.\n"
     ]
    },
    {
     "name": "stderr",
     "output_type": "stream",
     "text": [
      "100%|██████████████████████████████████████████████████████████████| 5205/5205 [00:00<00:00, 157103.04it/s]"
     ]
    },
    {
     "name": "stdout",
     "output_type": "stream",
     "text": [
      "--------------------------------------------------------------------------------\n",
      "DONE! 18/07/2010 - 16/10/2024. Stored in >>BTC_DAILY.pck<<. No errors.\n"
     ]
    },
    {
     "name": "stderr",
     "output_type": "stream",
     "text": [
      "\n"
     ]
    }
   ],
   "source": [
    "#--------------------------------------\n",
    "# Test - if failed than serwer just died \n",
    "# probably of too many requests/day\n",
    "#--------------------------------------\n",
    "err_test()\n",
    "\n",
    "#--------------------------------------\n",
    "# Run loop\n",
    "#--------------------------------------\n",
    "update_btc_file()"
   ]
  },
  {
   "cell_type": "code",
   "execution_count": null,
   "id": "5080c05a-1559-4c29-ab89-f87e9a75bb41",
   "metadata": {},
   "outputs": [],
   "source": []
  },
  {
   "cell_type": "code",
   "execution_count": null,
   "id": "3a1cb2ff-d376-4401-96d4-0cab6d39e039",
   "metadata": {
    "lines_to_next_cell": 2
   },
   "outputs": [],
   "source": []
  }
 ],
 "metadata": {
  "jupytext": {
   "formats": "ipynb,py:light"
  },
  "kernelspec": {
   "display_name": "Python 3 (ipykernel)",
   "language": "python",
   "name": "python3"
  },
  "language_info": {
   "codemirror_mode": {
    "name": "ipython",
    "version": 3
   },
   "file_extension": ".py",
   "mimetype": "text/x-python",
   "name": "python",
   "nbconvert_exporter": "python",
   "pygments_lexer": "ipython3",
   "version": "3.12.1"
  }
 },
 "nbformat": 4,
 "nbformat_minor": 5
}
